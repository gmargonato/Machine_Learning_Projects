{
  "nbformat": 4,
  "nbformat_minor": 0,
  "metadata": {
    "colab": {
      "provenance": [],
      "toc_visible": true,
      "include_colab_link": true
    },
    "kernelspec": {
      "name": "python3",
      "display_name": "Python 3"
    },
    "language_info": {
      "name": "python"
    },
    "widgets": {
      "application/vnd.jupyter.widget-state+json": {
        "7aec0689aa8841c8b70261b7979ce9ef": {
          "model_module": "@jupyter-widgets/controls",
          "model_name": "IntProgressModel",
          "model_module_version": "1.5.0",
          "state": {
            "_view_name": "ProgressView",
            "style": "IPY_MODEL_d910d033c23f4fcdb5a29f93c1deb15c",
            "_dom_classes": [],
            "description": "Processing: ",
            "_model_name": "IntProgressModel",
            "bar_style": "",
            "max": 69,
            "_view_module": "@jupyter-widgets/controls",
            "_model_module_version": "1.5.0",
            "value": 69,
            "_view_count": null,
            "_view_module_version": "1.5.0",
            "orientation": "horizontal",
            "min": 0,
            "description_tooltip": null,
            "_model_module": "@jupyter-widgets/controls",
            "layout": "IPY_MODEL_46de5f515833413aa9376c9aef509b60"
          }
        },
        "d910d033c23f4fcdb5a29f93c1deb15c": {
          "model_module": "@jupyter-widgets/controls",
          "model_name": "ProgressStyleModel",
          "model_module_version": "1.5.0",
          "state": {
            "_view_name": "StyleView",
            "_model_name": "ProgressStyleModel",
            "description_width": "",
            "_view_module": "@jupyter-widgets/base",
            "_model_module_version": "1.5.0",
            "_view_count": null,
            "_view_module_version": "1.2.0",
            "bar_color": null,
            "_model_module": "@jupyter-widgets/controls"
          }
        },
        "46de5f515833413aa9376c9aef509b60": {
          "model_module": "@jupyter-widgets/base",
          "model_name": "LayoutModel",
          "model_module_version": "1.2.0",
          "state": {
            "_view_name": "LayoutView",
            "grid_template_rows": null,
            "right": null,
            "justify_content": null,
            "_view_module": "@jupyter-widgets/base",
            "overflow": null,
            "_model_module_version": "1.2.0",
            "_view_count": null,
            "flex_flow": null,
            "width": null,
            "min_width": null,
            "border": null,
            "align_items": null,
            "bottom": null,
            "_model_module": "@jupyter-widgets/base",
            "top": null,
            "grid_column": null,
            "overflow_y": null,
            "overflow_x": null,
            "grid_auto_flow": null,
            "grid_area": null,
            "grid_template_columns": null,
            "flex": null,
            "_model_name": "LayoutModel",
            "justify_items": null,
            "grid_row": null,
            "max_height": null,
            "align_content": null,
            "visibility": null,
            "align_self": null,
            "height": null,
            "min_height": null,
            "padding": null,
            "grid_auto_rows": null,
            "grid_gap": null,
            "max_width": null,
            "order": null,
            "_view_module_version": "1.2.0",
            "grid_template_areas": null,
            "object_position": null,
            "object_fit": null,
            "grid_auto_columns": null,
            "margin": null,
            "display": null,
            "left": null
          }
        },
        "934fcd0f8d2b4661903cafa20e3763be": {
          "model_module": "@jupyter-widgets/controls",
          "model_name": "IntProgressModel",
          "model_module_version": "1.5.0",
          "state": {
            "_view_name": "ProgressView",
            "style": "IPY_MODEL_af4a40a5024844bc9ed387710a5f8f3e",
            "_dom_classes": [],
            "description": "Processing: ",
            "_model_name": "IntProgressModel",
            "bar_style": "",
            "max": 4,
            "_view_module": "@jupyter-widgets/controls",
            "_model_module_version": "1.5.0",
            "value": 4,
            "_view_count": null,
            "_view_module_version": "1.5.0",
            "orientation": "horizontal",
            "min": 0,
            "description_tooltip": null,
            "_model_module": "@jupyter-widgets/controls",
            "layout": "IPY_MODEL_f101fdca3bbd4a8eb67cbbafe7f3317d"
          }
        },
        "af4a40a5024844bc9ed387710a5f8f3e": {
          "model_module": "@jupyter-widgets/controls",
          "model_name": "ProgressStyleModel",
          "model_module_version": "1.5.0",
          "state": {
            "_view_name": "StyleView",
            "_model_name": "ProgressStyleModel",
            "description_width": "",
            "_view_module": "@jupyter-widgets/base",
            "_model_module_version": "1.5.0",
            "_view_count": null,
            "_view_module_version": "1.2.0",
            "bar_color": null,
            "_model_module": "@jupyter-widgets/controls"
          }
        },
        "f101fdca3bbd4a8eb67cbbafe7f3317d": {
          "model_module": "@jupyter-widgets/base",
          "model_name": "LayoutModel",
          "model_module_version": "1.2.0",
          "state": {
            "_view_name": "LayoutView",
            "grid_template_rows": null,
            "right": null,
            "justify_content": null,
            "_view_module": "@jupyter-widgets/base",
            "overflow": null,
            "_model_module_version": "1.2.0",
            "_view_count": null,
            "flex_flow": null,
            "width": null,
            "min_width": null,
            "border": null,
            "align_items": null,
            "bottom": null,
            "_model_module": "@jupyter-widgets/base",
            "top": null,
            "grid_column": null,
            "overflow_y": null,
            "overflow_x": null,
            "grid_auto_flow": null,
            "grid_area": null,
            "grid_template_columns": null,
            "flex": null,
            "_model_name": "LayoutModel",
            "justify_items": null,
            "grid_row": null,
            "max_height": null,
            "align_content": null,
            "visibility": null,
            "align_self": null,
            "height": null,
            "min_height": null,
            "padding": null,
            "grid_auto_rows": null,
            "grid_gap": null,
            "max_width": null,
            "order": null,
            "_view_module_version": "1.2.0",
            "grid_template_areas": null,
            "object_position": null,
            "object_fit": null,
            "grid_auto_columns": null,
            "margin": null,
            "display": null,
            "left": null
          }
        },
        "1a6d5d62ebed4a9787ee82e6a427a78c": {
          "model_module": "@jupyter-widgets/controls",
          "model_name": "IntProgressModel",
          "model_module_version": "1.5.0",
          "state": {
            "_view_name": "ProgressView",
            "style": "IPY_MODEL_d45177249ce44bb192777d846ae1554b",
            "_dom_classes": [],
            "description": "Processing: ",
            "_model_name": "IntProgressModel",
            "bar_style": "",
            "max": 7,
            "_view_module": "@jupyter-widgets/controls",
            "_model_module_version": "1.5.0",
            "value": 7,
            "_view_count": null,
            "_view_module_version": "1.5.0",
            "orientation": "horizontal",
            "min": 0,
            "description_tooltip": null,
            "_model_module": "@jupyter-widgets/controls",
            "layout": "IPY_MODEL_fd8344bb32ea410499e017d789a262af"
          }
        },
        "d45177249ce44bb192777d846ae1554b": {
          "model_module": "@jupyter-widgets/controls",
          "model_name": "ProgressStyleModel",
          "model_module_version": "1.5.0",
          "state": {
            "_view_name": "StyleView",
            "_model_name": "ProgressStyleModel",
            "description_width": "",
            "_view_module": "@jupyter-widgets/base",
            "_model_module_version": "1.5.0",
            "_view_count": null,
            "_view_module_version": "1.2.0",
            "bar_color": null,
            "_model_module": "@jupyter-widgets/controls"
          }
        },
        "fd8344bb32ea410499e017d789a262af": {
          "model_module": "@jupyter-widgets/base",
          "model_name": "LayoutModel",
          "model_module_version": "1.2.0",
          "state": {
            "_view_name": "LayoutView",
            "grid_template_rows": null,
            "right": null,
            "justify_content": null,
            "_view_module": "@jupyter-widgets/base",
            "overflow": null,
            "_model_module_version": "1.2.0",
            "_view_count": null,
            "flex_flow": null,
            "width": null,
            "min_width": null,
            "border": null,
            "align_items": null,
            "bottom": null,
            "_model_module": "@jupyter-widgets/base",
            "top": null,
            "grid_column": null,
            "overflow_y": null,
            "overflow_x": null,
            "grid_auto_flow": null,
            "grid_area": null,
            "grid_template_columns": null,
            "flex": null,
            "_model_name": "LayoutModel",
            "justify_items": null,
            "grid_row": null,
            "max_height": null,
            "align_content": null,
            "visibility": null,
            "align_self": null,
            "height": null,
            "min_height": null,
            "padding": null,
            "grid_auto_rows": null,
            "grid_gap": null,
            "max_width": null,
            "order": null,
            "_view_module_version": "1.2.0",
            "grid_template_areas": null,
            "object_position": null,
            "object_fit": null,
            "grid_auto_columns": null,
            "margin": null,
            "display": null,
            "left": null
          }
        }
      }
    }
  },
  "cells": [
    {
      "cell_type": "markdown",
      "metadata": {
        "id": "view-in-github",
        "colab_type": "text"
      },
      "source": [
        "<a href=\"https://colab.research.google.com/github/gmargonato/ML_Projects/blob/main/Student_Performance_Project.ipynb\" target=\"_parent\"><img src=\"https://colab.research.google.com/assets/colab-badge.svg\" alt=\"Open In Colab\"/></a>"
      ]
    },
    {
      "cell_type": "markdown",
      "metadata": {
        "id": "NR38Ppyw1727"
      },
      "source": [
        "#High-School Students Performance Dataset\n",
        "\n",
        "Dataset: https://archive.ics.uci.edu/ml/datasets/student%2Bperformance"
      ]
    },
    {
      "cell_type": "markdown",
      "metadata": {
        "id": "qVqd_IJJkN4S"
      },
      "source": [
        "#Libraries and Packages"
      ]
    },
    {
      "cell_type": "code",
      "metadata": {
        "id": "hQOcivkiHzJV"
      },
      "source": [
        "import pandas as pd\n",
        "import numpy as np\n",
        "import matplotlib.pyplot as plt\n",
        "import seaborn as sns"
      ],
      "execution_count": null,
      "outputs": []
    },
    {
      "cell_type": "code",
      "metadata": {
        "id": "cvD3tbQMqKuk"
      },
      "source": [
        "from sklearn import metrics\n",
        "from sklearn.metrics import r2_score\n",
        "from sklearn.metrics import classification_report, confusion_matrix\n",
        "from sklearn.metrics import roc_auc_score\n",
        "from sklearn.metrics import roc_curve\n",
        "from sklearn.model_selection import train_test_split\n",
        "from sklearn.preprocessing import StandardScaler\n",
        "from sklearn.linear_model import LogisticRegression"
      ],
      "execution_count": null,
      "outputs": []
    },
    {
      "cell_type": "code",
      "metadata": {
        "id": "Pc1AeDj71NgT"
      },
      "source": [
        "#PANDAS PROFILING\n",
        "#!pip install https://github.com/pandas-profiling/pandas-profiling/archive/master.zip \n",
        "#from pandas_profiling import ProfileReport"
      ],
      "execution_count": null,
      "outputs": []
    },
    {
      "cell_type": "code",
      "metadata": {
        "colab": {
          "base_uri": "https://localhost:8080/"
        },
        "id": "1-YkrIJ7qQM_",
        "outputId": "21dea234-634d-40fb-b52e-2a545432091e"
      },
      "source": [
        "#STATSMODELS\n",
        "try: \n",
        "    import statsmodels.api as sm\n",
        "except: \n",
        "    !pip install statsmodels --upgrade "
      ],
      "execution_count": null,
      "outputs": [
        {
          "output_type": "stream",
          "name": "stderr",
          "text": [
            "/usr/local/lib/python3.7/dist-packages/statsmodels/tools/_testing.py:19: FutureWarning: pandas.util.testing is deprecated. Use the functions in the public API at pandas.testing instead.\n",
            "  import pandas.util.testing as tm\n"
          ]
        }
      ]
    },
    {
      "cell_type": "code",
      "metadata": {
        "id": "XbUd18xHqUQB"
      },
      "source": [
        "#PYCARET\n",
        "try: \n",
        "    from pycaret.classification import *\n",
        "except: \n",
        "    !pip install pycaret\n",
        "    from pycaret.classification import *\n",
        "\n",
        "#A RESTART RUNTIME CAN BE NECESSARY IS THIS STEP"
      ],
      "execution_count": null,
      "outputs": []
    },
    {
      "cell_type": "code",
      "metadata": {
        "colab": {
          "base_uri": "https://localhost:8080/"
        },
        "id": "xlNqONEzI-Ax",
        "outputId": "9b0fc961-2d90-4501-b4fc-ea3a81b91319"
      },
      "source": [
        "from google.colab import drive\n",
        "drive.mount('/content/drive')"
      ],
      "execution_count": null,
      "outputs": [
        {
          "output_type": "stream",
          "name": "stdout",
          "text": [
            "Drive already mounted at /content/drive; to attempt to forcibly remount, call drive.mount(\"/content/drive\", force_remount=True).\n"
          ]
        }
      ]
    },
    {
      "cell_type": "markdown",
      "metadata": {
        "id": "Uvl_AcDEkJpF"
      },
      "source": [
        "#Data Acquisition"
      ]
    },
    {
      "cell_type": "code",
      "metadata": {
        "id": "LP2acwFcJEXf"
      },
      "source": [
        "#Código para importar a base de dados de lingua portuguesa\n",
        "df_pt = pd.read_csv('/content/drive/MyDrive/BASES_TCC/student-por.csv', sep=';')\n",
        "\n",
        "#Código para importar a base de dados de matemática\n",
        "df_mt = pd.read_csv('/content/drive/MyDrive/BASES_TCC/student-mat.csv', sep=';')"
      ],
      "execution_count": null,
      "outputs": []
    },
    {
      "cell_type": "code",
      "metadata": {
        "id": "32moAwvpje_7"
      },
      "source": [
        "#Define qual base de dados utilizaremos (PT ou MT)\n",
        "df = df_pt"
      ],
      "execution_count": null,
      "outputs": []
    },
    {
      "cell_type": "markdown",
      "metadata": {
        "id": "imAG2jxriTGY"
      },
      "source": [
        "As variáveis categóricas de ambos datasets foram modelados em um esquema binário ou então por uma classificação de cinco níveis\n",
        "\n",
        "**Principais Variáveis:**\n",
        "\n",
        "* G1: Nota do primeiro período\n",
        "\n",
        "* G2: Nota do segunda período\n",
        "\n",
        "* G3: Nota do terceiro período, também é a nota final do aluno\n",
        "\n",
        "**Variáveis Categóricas:**\n",
        "\n",
        "* `school` - escola do estudante (GP: Gabriel Pereira; MS: Mouzinho da Silveira)\n",
        "* `sex` - gênero do estudante\n",
        "* `address` - endereço residencial do estudante (Urbano ou Rural)\n",
        "* `reason` - motivo pelo qual escolheu a escola\n",
        "* `Pstatus` - indica se ou pais do estudante moram juntos ou separados (T: Together; A: Apart)\n",
        "* `famsize` - tamanho da família (maior ou menor do que 3 pessoas)\n",
        "* `Mjob` - profissão da mãe\n",
        "* `Fjob`- profissão do pai\n",
        "* `guardian`- indica quem é o guardião legal do aluno\n",
        "* `schoolsup` - recebe ou não suporte escolar\n",
        "* `famsup` - recebe ou não suporte familiar\n",
        "* `paid` - indica se o aluno faz aulas particulares daquela matéria\n",
        "* `activities` - indica se o aluno faz atividades extracurriculares\n",
        "* `nursery`- indica se o aluno fez aulas de enfermagem\n",
        "* `internet`- indica se o aluno tem acesso ou não à internet\n",
        "* `higher ` - indica se o aluno deseja fazer faculdade ou não \n",
        "* `romantic` - indica se o aluno está namorando ou não\n"
      ]
    },
    {
      "cell_type": "code",
      "metadata": {
        "id": "Gnh64AJKgnvl"
      },
      "source": [
        "#Vamos criar uma nova coluna Media que será a média entre G1, G2 and G3.\n",
        "df['media']= round((df['G1']+df['G2']+df['G3'])/3, 2)\n",
        "\n",
        "#Depois, vamos criar uma nova coluna Aprovado dependendo da média das notas.\n",
        "df['aprovado'] = np.where(df['media'] >= 10, 1, 0)"
      ],
      "execution_count": null,
      "outputs": []
    },
    {
      "cell_type": "code",
      "metadata": {
        "colab": {
          "base_uri": "https://localhost:8080/",
          "height": 224
        },
        "id": "VvApPDbdJMjw",
        "outputId": "a1477dd1-c6e9-4a6f-f44c-1d7223f14a03"
      },
      "source": [
        "#Observar as 5 primeiras linhas da tabela\n",
        "df.head()"
      ],
      "execution_count": null,
      "outputs": [
        {
          "output_type": "execute_result",
          "data": {
            "text/html": [
              "<div>\n",
              "<style scoped>\n",
              "    .dataframe tbody tr th:only-of-type {\n",
              "        vertical-align: middle;\n",
              "    }\n",
              "\n",
              "    .dataframe tbody tr th {\n",
              "        vertical-align: top;\n",
              "    }\n",
              "\n",
              "    .dataframe thead th {\n",
              "        text-align: right;\n",
              "    }\n",
              "</style>\n",
              "<table border=\"1\" class=\"dataframe\">\n",
              "  <thead>\n",
              "    <tr style=\"text-align: right;\">\n",
              "      <th></th>\n",
              "      <th>school</th>\n",
              "      <th>sex</th>\n",
              "      <th>age</th>\n",
              "      <th>address</th>\n",
              "      <th>famsize</th>\n",
              "      <th>Pstatus</th>\n",
              "      <th>Medu</th>\n",
              "      <th>Fedu</th>\n",
              "      <th>Mjob</th>\n",
              "      <th>Fjob</th>\n",
              "      <th>reason</th>\n",
              "      <th>guardian</th>\n",
              "      <th>traveltime</th>\n",
              "      <th>studytime</th>\n",
              "      <th>failures</th>\n",
              "      <th>schoolsup</th>\n",
              "      <th>famsup</th>\n",
              "      <th>paid</th>\n",
              "      <th>activities</th>\n",
              "      <th>nursery</th>\n",
              "      <th>higher</th>\n",
              "      <th>internet</th>\n",
              "      <th>romantic</th>\n",
              "      <th>famrel</th>\n",
              "      <th>freetime</th>\n",
              "      <th>goout</th>\n",
              "      <th>Dalc</th>\n",
              "      <th>Walc</th>\n",
              "      <th>health</th>\n",
              "      <th>absences</th>\n",
              "      <th>G1</th>\n",
              "      <th>G2</th>\n",
              "      <th>G3</th>\n",
              "      <th>media</th>\n",
              "      <th>aprovado</th>\n",
              "    </tr>\n",
              "  </thead>\n",
              "  <tbody>\n",
              "    <tr>\n",
              "      <th>0</th>\n",
              "      <td>GP</td>\n",
              "      <td>F</td>\n",
              "      <td>18</td>\n",
              "      <td>U</td>\n",
              "      <td>GT3</td>\n",
              "      <td>A</td>\n",
              "      <td>4</td>\n",
              "      <td>4</td>\n",
              "      <td>at_home</td>\n",
              "      <td>teacher</td>\n",
              "      <td>course</td>\n",
              "      <td>mother</td>\n",
              "      <td>2</td>\n",
              "      <td>2</td>\n",
              "      <td>0</td>\n",
              "      <td>yes</td>\n",
              "      <td>no</td>\n",
              "      <td>no</td>\n",
              "      <td>no</td>\n",
              "      <td>yes</td>\n",
              "      <td>yes</td>\n",
              "      <td>no</td>\n",
              "      <td>no</td>\n",
              "      <td>4</td>\n",
              "      <td>3</td>\n",
              "      <td>4</td>\n",
              "      <td>1</td>\n",
              "      <td>1</td>\n",
              "      <td>3</td>\n",
              "      <td>4</td>\n",
              "      <td>0</td>\n",
              "      <td>11</td>\n",
              "      <td>11</td>\n",
              "      <td>7.33</td>\n",
              "      <td>0</td>\n",
              "    </tr>\n",
              "    <tr>\n",
              "      <th>1</th>\n",
              "      <td>GP</td>\n",
              "      <td>F</td>\n",
              "      <td>17</td>\n",
              "      <td>U</td>\n",
              "      <td>GT3</td>\n",
              "      <td>T</td>\n",
              "      <td>1</td>\n",
              "      <td>1</td>\n",
              "      <td>at_home</td>\n",
              "      <td>other</td>\n",
              "      <td>course</td>\n",
              "      <td>father</td>\n",
              "      <td>1</td>\n",
              "      <td>2</td>\n",
              "      <td>0</td>\n",
              "      <td>no</td>\n",
              "      <td>yes</td>\n",
              "      <td>no</td>\n",
              "      <td>no</td>\n",
              "      <td>no</td>\n",
              "      <td>yes</td>\n",
              "      <td>yes</td>\n",
              "      <td>no</td>\n",
              "      <td>5</td>\n",
              "      <td>3</td>\n",
              "      <td>3</td>\n",
              "      <td>1</td>\n",
              "      <td>1</td>\n",
              "      <td>3</td>\n",
              "      <td>2</td>\n",
              "      <td>9</td>\n",
              "      <td>11</td>\n",
              "      <td>11</td>\n",
              "      <td>10.33</td>\n",
              "      <td>1</td>\n",
              "    </tr>\n",
              "    <tr>\n",
              "      <th>2</th>\n",
              "      <td>GP</td>\n",
              "      <td>F</td>\n",
              "      <td>15</td>\n",
              "      <td>U</td>\n",
              "      <td>LE3</td>\n",
              "      <td>T</td>\n",
              "      <td>1</td>\n",
              "      <td>1</td>\n",
              "      <td>at_home</td>\n",
              "      <td>other</td>\n",
              "      <td>other</td>\n",
              "      <td>mother</td>\n",
              "      <td>1</td>\n",
              "      <td>2</td>\n",
              "      <td>0</td>\n",
              "      <td>yes</td>\n",
              "      <td>no</td>\n",
              "      <td>no</td>\n",
              "      <td>no</td>\n",
              "      <td>yes</td>\n",
              "      <td>yes</td>\n",
              "      <td>yes</td>\n",
              "      <td>no</td>\n",
              "      <td>4</td>\n",
              "      <td>3</td>\n",
              "      <td>2</td>\n",
              "      <td>2</td>\n",
              "      <td>3</td>\n",
              "      <td>3</td>\n",
              "      <td>6</td>\n",
              "      <td>12</td>\n",
              "      <td>13</td>\n",
              "      <td>12</td>\n",
              "      <td>12.33</td>\n",
              "      <td>1</td>\n",
              "    </tr>\n",
              "    <tr>\n",
              "      <th>3</th>\n",
              "      <td>GP</td>\n",
              "      <td>F</td>\n",
              "      <td>15</td>\n",
              "      <td>U</td>\n",
              "      <td>GT3</td>\n",
              "      <td>T</td>\n",
              "      <td>4</td>\n",
              "      <td>2</td>\n",
              "      <td>health</td>\n",
              "      <td>services</td>\n",
              "      <td>home</td>\n",
              "      <td>mother</td>\n",
              "      <td>1</td>\n",
              "      <td>3</td>\n",
              "      <td>0</td>\n",
              "      <td>no</td>\n",
              "      <td>yes</td>\n",
              "      <td>no</td>\n",
              "      <td>yes</td>\n",
              "      <td>yes</td>\n",
              "      <td>yes</td>\n",
              "      <td>yes</td>\n",
              "      <td>yes</td>\n",
              "      <td>3</td>\n",
              "      <td>2</td>\n",
              "      <td>2</td>\n",
              "      <td>1</td>\n",
              "      <td>1</td>\n",
              "      <td>5</td>\n",
              "      <td>0</td>\n",
              "      <td>14</td>\n",
              "      <td>14</td>\n",
              "      <td>14</td>\n",
              "      <td>14.00</td>\n",
              "      <td>1</td>\n",
              "    </tr>\n",
              "    <tr>\n",
              "      <th>4</th>\n",
              "      <td>GP</td>\n",
              "      <td>F</td>\n",
              "      <td>16</td>\n",
              "      <td>U</td>\n",
              "      <td>GT3</td>\n",
              "      <td>T</td>\n",
              "      <td>3</td>\n",
              "      <td>3</td>\n",
              "      <td>other</td>\n",
              "      <td>other</td>\n",
              "      <td>home</td>\n",
              "      <td>father</td>\n",
              "      <td>1</td>\n",
              "      <td>2</td>\n",
              "      <td>0</td>\n",
              "      <td>no</td>\n",
              "      <td>yes</td>\n",
              "      <td>no</td>\n",
              "      <td>no</td>\n",
              "      <td>yes</td>\n",
              "      <td>yes</td>\n",
              "      <td>no</td>\n",
              "      <td>no</td>\n",
              "      <td>4</td>\n",
              "      <td>3</td>\n",
              "      <td>2</td>\n",
              "      <td>1</td>\n",
              "      <td>2</td>\n",
              "      <td>5</td>\n",
              "      <td>0</td>\n",
              "      <td>11</td>\n",
              "      <td>13</td>\n",
              "      <td>13</td>\n",
              "      <td>12.33</td>\n",
              "      <td>1</td>\n",
              "    </tr>\n",
              "  </tbody>\n",
              "</table>\n",
              "</div>"
            ],
            "text/plain": [
              "  school sex  age address famsize Pstatus  Medu  Fedu     Mjob      Fjob  \\\n",
              "0     GP   F   18       U     GT3       A     4     4  at_home   teacher   \n",
              "1     GP   F   17       U     GT3       T     1     1  at_home     other   \n",
              "2     GP   F   15       U     LE3       T     1     1  at_home     other   \n",
              "3     GP   F   15       U     GT3       T     4     2   health  services   \n",
              "4     GP   F   16       U     GT3       T     3     3    other     other   \n",
              "\n",
              "   reason guardian  traveltime  studytime  failures schoolsup famsup paid  \\\n",
              "0  course   mother           2          2         0       yes     no   no   \n",
              "1  course   father           1          2         0        no    yes   no   \n",
              "2   other   mother           1          2         0       yes     no   no   \n",
              "3    home   mother           1          3         0        no    yes   no   \n",
              "4    home   father           1          2         0        no    yes   no   \n",
              "\n",
              "  activities nursery higher internet romantic  famrel  freetime  goout  Dalc  \\\n",
              "0         no     yes    yes       no       no       4         3      4     1   \n",
              "1         no      no    yes      yes       no       5         3      3     1   \n",
              "2         no     yes    yes      yes       no       4         3      2     2   \n",
              "3        yes     yes    yes      yes      yes       3         2      2     1   \n",
              "4         no     yes    yes       no       no       4         3      2     1   \n",
              "\n",
              "   Walc  health  absences  G1  G2  G3  media  aprovado  \n",
              "0     1       3         4   0  11  11   7.33         0  \n",
              "1     1       3         2   9  11  11  10.33         1  \n",
              "2     3       3         6  12  13  12  12.33         1  \n",
              "3     1       5         0  14  14  14  14.00         1  \n",
              "4     2       5         0  11  13  13  12.33         1  "
            ]
          },
          "metadata": {},
          "execution_count": 9
        }
      ]
    },
    {
      "cell_type": "code",
      "metadata": {
        "colab": {
          "base_uri": "https://localhost:8080/",
          "height": 224
        },
        "id": "u98KCr60tGMl",
        "outputId": "b90fb2fb-69fa-4ec0-c479-aaf3b97aeb0a"
      },
      "source": [
        "#Observar as 5 últimas linhas da tabela\n",
        "df.tail()"
      ],
      "execution_count": null,
      "outputs": [
        {
          "output_type": "execute_result",
          "data": {
            "text/html": [
              "<div>\n",
              "<style scoped>\n",
              "    .dataframe tbody tr th:only-of-type {\n",
              "        vertical-align: middle;\n",
              "    }\n",
              "\n",
              "    .dataframe tbody tr th {\n",
              "        vertical-align: top;\n",
              "    }\n",
              "\n",
              "    .dataframe thead th {\n",
              "        text-align: right;\n",
              "    }\n",
              "</style>\n",
              "<table border=\"1\" class=\"dataframe\">\n",
              "  <thead>\n",
              "    <tr style=\"text-align: right;\">\n",
              "      <th></th>\n",
              "      <th>school</th>\n",
              "      <th>sex</th>\n",
              "      <th>age</th>\n",
              "      <th>address</th>\n",
              "      <th>famsize</th>\n",
              "      <th>Pstatus</th>\n",
              "      <th>Medu</th>\n",
              "      <th>Fedu</th>\n",
              "      <th>Mjob</th>\n",
              "      <th>Fjob</th>\n",
              "      <th>reason</th>\n",
              "      <th>guardian</th>\n",
              "      <th>traveltime</th>\n",
              "      <th>studytime</th>\n",
              "      <th>failures</th>\n",
              "      <th>schoolsup</th>\n",
              "      <th>famsup</th>\n",
              "      <th>paid</th>\n",
              "      <th>activities</th>\n",
              "      <th>nursery</th>\n",
              "      <th>higher</th>\n",
              "      <th>internet</th>\n",
              "      <th>romantic</th>\n",
              "      <th>famrel</th>\n",
              "      <th>freetime</th>\n",
              "      <th>goout</th>\n",
              "      <th>Dalc</th>\n",
              "      <th>Walc</th>\n",
              "      <th>health</th>\n",
              "      <th>absences</th>\n",
              "      <th>G1</th>\n",
              "      <th>G2</th>\n",
              "      <th>G3</th>\n",
              "      <th>media</th>\n",
              "      <th>aprovado</th>\n",
              "    </tr>\n",
              "  </thead>\n",
              "  <tbody>\n",
              "    <tr>\n",
              "      <th>644</th>\n",
              "      <td>MS</td>\n",
              "      <td>F</td>\n",
              "      <td>19</td>\n",
              "      <td>R</td>\n",
              "      <td>GT3</td>\n",
              "      <td>T</td>\n",
              "      <td>2</td>\n",
              "      <td>3</td>\n",
              "      <td>services</td>\n",
              "      <td>other</td>\n",
              "      <td>course</td>\n",
              "      <td>mother</td>\n",
              "      <td>1</td>\n",
              "      <td>3</td>\n",
              "      <td>1</td>\n",
              "      <td>no</td>\n",
              "      <td>no</td>\n",
              "      <td>no</td>\n",
              "      <td>yes</td>\n",
              "      <td>no</td>\n",
              "      <td>yes</td>\n",
              "      <td>yes</td>\n",
              "      <td>no</td>\n",
              "      <td>5</td>\n",
              "      <td>4</td>\n",
              "      <td>2</td>\n",
              "      <td>1</td>\n",
              "      <td>2</td>\n",
              "      <td>5</td>\n",
              "      <td>4</td>\n",
              "      <td>10</td>\n",
              "      <td>11</td>\n",
              "      <td>10</td>\n",
              "      <td>10.33</td>\n",
              "      <td>1</td>\n",
              "    </tr>\n",
              "    <tr>\n",
              "      <th>645</th>\n",
              "      <td>MS</td>\n",
              "      <td>F</td>\n",
              "      <td>18</td>\n",
              "      <td>U</td>\n",
              "      <td>LE3</td>\n",
              "      <td>T</td>\n",
              "      <td>3</td>\n",
              "      <td>1</td>\n",
              "      <td>teacher</td>\n",
              "      <td>services</td>\n",
              "      <td>course</td>\n",
              "      <td>mother</td>\n",
              "      <td>1</td>\n",
              "      <td>2</td>\n",
              "      <td>0</td>\n",
              "      <td>no</td>\n",
              "      <td>yes</td>\n",
              "      <td>no</td>\n",
              "      <td>no</td>\n",
              "      <td>yes</td>\n",
              "      <td>yes</td>\n",
              "      <td>yes</td>\n",
              "      <td>no</td>\n",
              "      <td>4</td>\n",
              "      <td>3</td>\n",
              "      <td>4</td>\n",
              "      <td>1</td>\n",
              "      <td>1</td>\n",
              "      <td>1</td>\n",
              "      <td>4</td>\n",
              "      <td>15</td>\n",
              "      <td>15</td>\n",
              "      <td>16</td>\n",
              "      <td>15.33</td>\n",
              "      <td>1</td>\n",
              "    </tr>\n",
              "    <tr>\n",
              "      <th>646</th>\n",
              "      <td>MS</td>\n",
              "      <td>F</td>\n",
              "      <td>18</td>\n",
              "      <td>U</td>\n",
              "      <td>GT3</td>\n",
              "      <td>T</td>\n",
              "      <td>1</td>\n",
              "      <td>1</td>\n",
              "      <td>other</td>\n",
              "      <td>other</td>\n",
              "      <td>course</td>\n",
              "      <td>mother</td>\n",
              "      <td>2</td>\n",
              "      <td>2</td>\n",
              "      <td>0</td>\n",
              "      <td>no</td>\n",
              "      <td>no</td>\n",
              "      <td>no</td>\n",
              "      <td>yes</td>\n",
              "      <td>yes</td>\n",
              "      <td>yes</td>\n",
              "      <td>no</td>\n",
              "      <td>no</td>\n",
              "      <td>1</td>\n",
              "      <td>1</td>\n",
              "      <td>1</td>\n",
              "      <td>1</td>\n",
              "      <td>1</td>\n",
              "      <td>5</td>\n",
              "      <td>6</td>\n",
              "      <td>11</td>\n",
              "      <td>12</td>\n",
              "      <td>9</td>\n",
              "      <td>10.67</td>\n",
              "      <td>1</td>\n",
              "    </tr>\n",
              "    <tr>\n",
              "      <th>647</th>\n",
              "      <td>MS</td>\n",
              "      <td>M</td>\n",
              "      <td>17</td>\n",
              "      <td>U</td>\n",
              "      <td>LE3</td>\n",
              "      <td>T</td>\n",
              "      <td>3</td>\n",
              "      <td>1</td>\n",
              "      <td>services</td>\n",
              "      <td>services</td>\n",
              "      <td>course</td>\n",
              "      <td>mother</td>\n",
              "      <td>2</td>\n",
              "      <td>1</td>\n",
              "      <td>0</td>\n",
              "      <td>no</td>\n",
              "      <td>no</td>\n",
              "      <td>no</td>\n",
              "      <td>no</td>\n",
              "      <td>no</td>\n",
              "      <td>yes</td>\n",
              "      <td>yes</td>\n",
              "      <td>no</td>\n",
              "      <td>2</td>\n",
              "      <td>4</td>\n",
              "      <td>5</td>\n",
              "      <td>3</td>\n",
              "      <td>4</td>\n",
              "      <td>2</td>\n",
              "      <td>6</td>\n",
              "      <td>10</td>\n",
              "      <td>10</td>\n",
              "      <td>10</td>\n",
              "      <td>10.00</td>\n",
              "      <td>1</td>\n",
              "    </tr>\n",
              "    <tr>\n",
              "      <th>648</th>\n",
              "      <td>MS</td>\n",
              "      <td>M</td>\n",
              "      <td>18</td>\n",
              "      <td>R</td>\n",
              "      <td>LE3</td>\n",
              "      <td>T</td>\n",
              "      <td>3</td>\n",
              "      <td>2</td>\n",
              "      <td>services</td>\n",
              "      <td>other</td>\n",
              "      <td>course</td>\n",
              "      <td>mother</td>\n",
              "      <td>3</td>\n",
              "      <td>1</td>\n",
              "      <td>0</td>\n",
              "      <td>no</td>\n",
              "      <td>no</td>\n",
              "      <td>no</td>\n",
              "      <td>no</td>\n",
              "      <td>no</td>\n",
              "      <td>yes</td>\n",
              "      <td>yes</td>\n",
              "      <td>no</td>\n",
              "      <td>4</td>\n",
              "      <td>4</td>\n",
              "      <td>1</td>\n",
              "      <td>3</td>\n",
              "      <td>4</td>\n",
              "      <td>5</td>\n",
              "      <td>4</td>\n",
              "      <td>10</td>\n",
              "      <td>11</td>\n",
              "      <td>11</td>\n",
              "      <td>10.67</td>\n",
              "      <td>1</td>\n",
              "    </tr>\n",
              "  </tbody>\n",
              "</table>\n",
              "</div>"
            ],
            "text/plain": [
              "    school sex  age address famsize  ...  G1  G2  G3  media aprovado\n",
              "644     MS   F   19       R     GT3  ...  10  11  10  10.33        1\n",
              "645     MS   F   18       U     LE3  ...  15  15  16  15.33        1\n",
              "646     MS   F   18       U     GT3  ...  11  12   9  10.67        1\n",
              "647     MS   M   17       U     LE3  ...  10  10  10  10.00        1\n",
              "648     MS   M   18       R     LE3  ...  10  11  11  10.67        1\n",
              "\n",
              "[5 rows x 35 columns]"
            ]
          },
          "metadata": {},
          "execution_count": 7
        }
      ]
    },
    {
      "cell_type": "code",
      "metadata": {
        "colab": {
          "base_uri": "https://localhost:8080/"
        },
        "id": "mQDx39X0J2dw",
        "outputId": "ba417578-ce79-4f16-b9d9-04e2288b3265"
      },
      "source": [
        "#número de linhas e colunas\n",
        "df.shape"
      ],
      "execution_count": null,
      "outputs": [
        {
          "output_type": "execute_result",
          "data": {
            "text/plain": [
              "(649, 35)"
            ]
          },
          "metadata": {},
          "execution_count": 8
        }
      ]
    },
    {
      "cell_type": "markdown",
      "metadata": {
        "id": "-4crvfb_yYEf"
      },
      "source": [
        "#Data Exploration"
      ]
    },
    {
      "cell_type": "code",
      "metadata": {
        "colab": {
          "base_uri": "https://localhost:8080/"
        },
        "id": "e85p8QFOmH3G",
        "outputId": "dca0f921-1560-438f-f3a8-734837891935"
      },
      "source": [
        "#Tipagem das colunas e quantidade de nulos\n",
        "df.info()"
      ],
      "execution_count": null,
      "outputs": [
        {
          "output_type": "stream",
          "name": "stdout",
          "text": [
            "<class 'pandas.core.frame.DataFrame'>\n",
            "RangeIndex: 649 entries, 0 to 648\n",
            "Data columns (total 35 columns):\n",
            " #   Column      Non-Null Count  Dtype  \n",
            "---  ------      --------------  -----  \n",
            " 0   school      649 non-null    object \n",
            " 1   sex         649 non-null    object \n",
            " 2   age         649 non-null    int64  \n",
            " 3   address     649 non-null    object \n",
            " 4   famsize     649 non-null    object \n",
            " 5   Pstatus     649 non-null    object \n",
            " 6   Medu        649 non-null    int64  \n",
            " 7   Fedu        649 non-null    int64  \n",
            " 8   Mjob        649 non-null    object \n",
            " 9   Fjob        649 non-null    object \n",
            " 10  reason      649 non-null    object \n",
            " 11  guardian    649 non-null    object \n",
            " 12  traveltime  649 non-null    int64  \n",
            " 13  studytime   649 non-null    int64  \n",
            " 14  failures    649 non-null    int64  \n",
            " 15  schoolsup   649 non-null    object \n",
            " 16  famsup      649 non-null    object \n",
            " 17  paid        649 non-null    object \n",
            " 18  activities  649 non-null    object \n",
            " 19  nursery     649 non-null    object \n",
            " 20  higher      649 non-null    object \n",
            " 21  internet    649 non-null    object \n",
            " 22  romantic    649 non-null    object \n",
            " 23  famrel      649 non-null    int64  \n",
            " 24  freetime    649 non-null    int64  \n",
            " 25  goout       649 non-null    int64  \n",
            " 26  Dalc        649 non-null    int64  \n",
            " 27  Walc        649 non-null    int64  \n",
            " 28  health      649 non-null    int64  \n",
            " 29  absences    649 non-null    int64  \n",
            " 30  G1          649 non-null    int64  \n",
            " 31  G2          649 non-null    int64  \n",
            " 32  G3          649 non-null    int64  \n",
            " 33  media       649 non-null    float64\n",
            " 34  aprovado    649 non-null    int64  \n",
            "dtypes: float64(1), int64(17), object(17)\n",
            "memory usage: 177.6+ KB\n"
          ]
        }
      ]
    },
    {
      "cell_type": "code",
      "metadata": {
        "colab": {
          "base_uri": "https://localhost:8080/",
          "height": 317
        },
        "id": "T-6rg1xeJ-Kp",
        "outputId": "fc65d58e-741f-4085-d158-5beebaa52959"
      },
      "source": [
        "#Estatísiticas das colunas tipo numérico\n",
        "df.describe()"
      ],
      "execution_count": null,
      "outputs": [
        {
          "output_type": "execute_result",
          "data": {
            "text/html": [
              "<div>\n",
              "<style scoped>\n",
              "    .dataframe tbody tr th:only-of-type {\n",
              "        vertical-align: middle;\n",
              "    }\n",
              "\n",
              "    .dataframe tbody tr th {\n",
              "        vertical-align: top;\n",
              "    }\n",
              "\n",
              "    .dataframe thead th {\n",
              "        text-align: right;\n",
              "    }\n",
              "</style>\n",
              "<table border=\"1\" class=\"dataframe\">\n",
              "  <thead>\n",
              "    <tr style=\"text-align: right;\">\n",
              "      <th></th>\n",
              "      <th>age</th>\n",
              "      <th>Medu</th>\n",
              "      <th>Fedu</th>\n",
              "      <th>traveltime</th>\n",
              "      <th>studytime</th>\n",
              "      <th>failures</th>\n",
              "      <th>famrel</th>\n",
              "      <th>freetime</th>\n",
              "      <th>goout</th>\n",
              "      <th>Dalc</th>\n",
              "      <th>Walc</th>\n",
              "      <th>health</th>\n",
              "      <th>absences</th>\n",
              "      <th>G1</th>\n",
              "      <th>G2</th>\n",
              "      <th>G3</th>\n",
              "      <th>media</th>\n",
              "      <th>aprovado</th>\n",
              "    </tr>\n",
              "  </thead>\n",
              "  <tbody>\n",
              "    <tr>\n",
              "      <th>count</th>\n",
              "      <td>649.000000</td>\n",
              "      <td>649.000000</td>\n",
              "      <td>649.000000</td>\n",
              "      <td>649.000000</td>\n",
              "      <td>649.000000</td>\n",
              "      <td>649.000000</td>\n",
              "      <td>649.000000</td>\n",
              "      <td>649.000000</td>\n",
              "      <td>649.000000</td>\n",
              "      <td>649.000000</td>\n",
              "      <td>649.000000</td>\n",
              "      <td>649.000000</td>\n",
              "      <td>649.000000</td>\n",
              "      <td>649.000000</td>\n",
              "      <td>649.000000</td>\n",
              "      <td>649.000000</td>\n",
              "      <td>649.000000</td>\n",
              "      <td>649.000000</td>\n",
              "    </tr>\n",
              "    <tr>\n",
              "      <th>mean</th>\n",
              "      <td>16.744222</td>\n",
              "      <td>2.514638</td>\n",
              "      <td>2.306626</td>\n",
              "      <td>1.568567</td>\n",
              "      <td>1.930663</td>\n",
              "      <td>0.221880</td>\n",
              "      <td>3.930663</td>\n",
              "      <td>3.180277</td>\n",
              "      <td>3.184900</td>\n",
              "      <td>1.502311</td>\n",
              "      <td>2.280431</td>\n",
              "      <td>3.536210</td>\n",
              "      <td>3.659476</td>\n",
              "      <td>11.399076</td>\n",
              "      <td>11.570108</td>\n",
              "      <td>11.906009</td>\n",
              "      <td>11.625116</td>\n",
              "      <td>0.758089</td>\n",
              "    </tr>\n",
              "    <tr>\n",
              "      <th>std</th>\n",
              "      <td>1.218138</td>\n",
              "      <td>1.134552</td>\n",
              "      <td>1.099931</td>\n",
              "      <td>0.748660</td>\n",
              "      <td>0.829510</td>\n",
              "      <td>0.593235</td>\n",
              "      <td>0.955717</td>\n",
              "      <td>1.051093</td>\n",
              "      <td>1.175766</td>\n",
              "      <td>0.924834</td>\n",
              "      <td>1.284380</td>\n",
              "      <td>1.446259</td>\n",
              "      <td>4.640759</td>\n",
              "      <td>2.745265</td>\n",
              "      <td>2.913639</td>\n",
              "      <td>3.230656</td>\n",
              "      <td>2.833308</td>\n",
              "      <td>0.428571</td>\n",
              "    </tr>\n",
              "    <tr>\n",
              "      <th>min</th>\n",
              "      <td>15.000000</td>\n",
              "      <td>0.000000</td>\n",
              "      <td>0.000000</td>\n",
              "      <td>1.000000</td>\n",
              "      <td>1.000000</td>\n",
              "      <td>0.000000</td>\n",
              "      <td>1.000000</td>\n",
              "      <td>1.000000</td>\n",
              "      <td>1.000000</td>\n",
              "      <td>1.000000</td>\n",
              "      <td>1.000000</td>\n",
              "      <td>1.000000</td>\n",
              "      <td>0.000000</td>\n",
              "      <td>0.000000</td>\n",
              "      <td>0.000000</td>\n",
              "      <td>0.000000</td>\n",
              "      <td>1.330000</td>\n",
              "      <td>0.000000</td>\n",
              "    </tr>\n",
              "    <tr>\n",
              "      <th>25%</th>\n",
              "      <td>16.000000</td>\n",
              "      <td>2.000000</td>\n",
              "      <td>1.000000</td>\n",
              "      <td>1.000000</td>\n",
              "      <td>1.000000</td>\n",
              "      <td>0.000000</td>\n",
              "      <td>4.000000</td>\n",
              "      <td>3.000000</td>\n",
              "      <td>2.000000</td>\n",
              "      <td>1.000000</td>\n",
              "      <td>1.000000</td>\n",
              "      <td>2.000000</td>\n",
              "      <td>0.000000</td>\n",
              "      <td>10.000000</td>\n",
              "      <td>10.000000</td>\n",
              "      <td>10.000000</td>\n",
              "      <td>10.000000</td>\n",
              "      <td>1.000000</td>\n",
              "    </tr>\n",
              "    <tr>\n",
              "      <th>50%</th>\n",
              "      <td>17.000000</td>\n",
              "      <td>2.000000</td>\n",
              "      <td>2.000000</td>\n",
              "      <td>1.000000</td>\n",
              "      <td>2.000000</td>\n",
              "      <td>0.000000</td>\n",
              "      <td>4.000000</td>\n",
              "      <td>3.000000</td>\n",
              "      <td>3.000000</td>\n",
              "      <td>1.000000</td>\n",
              "      <td>2.000000</td>\n",
              "      <td>4.000000</td>\n",
              "      <td>2.000000</td>\n",
              "      <td>11.000000</td>\n",
              "      <td>11.000000</td>\n",
              "      <td>12.000000</td>\n",
              "      <td>11.670000</td>\n",
              "      <td>1.000000</td>\n",
              "    </tr>\n",
              "    <tr>\n",
              "      <th>75%</th>\n",
              "      <td>18.000000</td>\n",
              "      <td>4.000000</td>\n",
              "      <td>3.000000</td>\n",
              "      <td>2.000000</td>\n",
              "      <td>2.000000</td>\n",
              "      <td>0.000000</td>\n",
              "      <td>5.000000</td>\n",
              "      <td>4.000000</td>\n",
              "      <td>4.000000</td>\n",
              "      <td>2.000000</td>\n",
              "      <td>3.000000</td>\n",
              "      <td>5.000000</td>\n",
              "      <td>6.000000</td>\n",
              "      <td>13.000000</td>\n",
              "      <td>13.000000</td>\n",
              "      <td>14.000000</td>\n",
              "      <td>13.330000</td>\n",
              "      <td>1.000000</td>\n",
              "    </tr>\n",
              "    <tr>\n",
              "      <th>max</th>\n",
              "      <td>22.000000</td>\n",
              "      <td>4.000000</td>\n",
              "      <td>4.000000</td>\n",
              "      <td>4.000000</td>\n",
              "      <td>4.000000</td>\n",
              "      <td>3.000000</td>\n",
              "      <td>5.000000</td>\n",
              "      <td>5.000000</td>\n",
              "      <td>5.000000</td>\n",
              "      <td>5.000000</td>\n",
              "      <td>5.000000</td>\n",
              "      <td>5.000000</td>\n",
              "      <td>32.000000</td>\n",
              "      <td>19.000000</td>\n",
              "      <td>19.000000</td>\n",
              "      <td>19.000000</td>\n",
              "      <td>18.670000</td>\n",
              "      <td>1.000000</td>\n",
              "    </tr>\n",
              "  </tbody>\n",
              "</table>\n",
              "</div>"
            ],
            "text/plain": [
              "              age        Medu        Fedu  ...          G3       media    aprovado\n",
              "count  649.000000  649.000000  649.000000  ...  649.000000  649.000000  649.000000\n",
              "mean    16.744222    2.514638    2.306626  ...   11.906009   11.625116    0.758089\n",
              "std      1.218138    1.134552    1.099931  ...    3.230656    2.833308    0.428571\n",
              "min     15.000000    0.000000    0.000000  ...    0.000000    1.330000    0.000000\n",
              "25%     16.000000    2.000000    1.000000  ...   10.000000   10.000000    1.000000\n",
              "50%     17.000000    2.000000    2.000000  ...   12.000000   11.670000    1.000000\n",
              "75%     18.000000    4.000000    3.000000  ...   14.000000   13.330000    1.000000\n",
              "max     22.000000    4.000000    4.000000  ...   19.000000   18.670000    1.000000\n",
              "\n",
              "[8 rows x 18 columns]"
            ]
          },
          "metadata": {},
          "execution_count": 10
        }
      ]
    },
    {
      "cell_type": "markdown",
      "metadata": {
        "id": "1vwKbiaGJ-eq"
      },
      "source": [
        "##Tabelas de Frequência"
      ]
    },
    {
      "cell_type": "code",
      "metadata": {
        "id": "8XfHxQn1My9m"
      },
      "source": [
        "#método que recebe um dataframe e o nome de uma variavel categorica, e retorna um data frame\n",
        "\n",
        "def tbl_freq(dtframe,variavel):\n",
        "\n",
        "    freq_variavel = pd.DataFrame(\n",
        "        pd.concat([\n",
        "            dtframe[variavel].value_counts(),              \n",
        "            dtframe[variavel].value_counts(normalize=True).mul(1).round(4),\n",
        "            dtframe[variavel].value_counts(normalize=True).mul(100).round(),\n",
        "        ],axis=1,keys=('Absoluta','Relativa','%'))\n",
        "    )\n",
        "\n",
        "    return freq_variavel"
      ],
      "execution_count": null,
      "outputs": []
    },
    {
      "cell_type": "code",
      "metadata": {
        "id": "50q1sxb1OqTp",
        "colab": {
          "base_uri": "https://localhost:8080/",
          "height": 128
        },
        "outputId": "0c07ee51-3d55-43d1-f509-df43f708384f"
      },
      "source": [
        "print(\"Tabela 1. Frequência de distribuição das escolas\")\n",
        "tbl_freq(df,\"school\")"
      ],
      "execution_count": null,
      "outputs": [
        {
          "output_type": "stream",
          "name": "stdout",
          "text": [
            "Tabela 1. Frequência de distribuição das escolas\n"
          ]
        },
        {
          "output_type": "execute_result",
          "data": {
            "text/html": [
              "<div>\n",
              "<style scoped>\n",
              "    .dataframe tbody tr th:only-of-type {\n",
              "        vertical-align: middle;\n",
              "    }\n",
              "\n",
              "    .dataframe tbody tr th {\n",
              "        vertical-align: top;\n",
              "    }\n",
              "\n",
              "    .dataframe thead th {\n",
              "        text-align: right;\n",
              "    }\n",
              "</style>\n",
              "<table border=\"1\" class=\"dataframe\">\n",
              "  <thead>\n",
              "    <tr style=\"text-align: right;\">\n",
              "      <th></th>\n",
              "      <th>Absoluta</th>\n",
              "      <th>Relativa</th>\n",
              "      <th>%</th>\n",
              "    </tr>\n",
              "  </thead>\n",
              "  <tbody>\n",
              "    <tr>\n",
              "      <th>GP</th>\n",
              "      <td>423</td>\n",
              "      <td>0.6518</td>\n",
              "      <td>65.0</td>\n",
              "    </tr>\n",
              "    <tr>\n",
              "      <th>MS</th>\n",
              "      <td>226</td>\n",
              "      <td>0.3482</td>\n",
              "      <td>35.0</td>\n",
              "    </tr>\n",
              "  </tbody>\n",
              "</table>\n",
              "</div>"
            ],
            "text/plain": [
              "    Absoluta  Relativa     %\n",
              "GP       423    0.6518  65.0\n",
              "MS       226    0.3482  35.0"
            ]
          },
          "metadata": {},
          "execution_count": 12
        }
      ]
    },
    {
      "cell_type": "code",
      "metadata": {
        "colab": {
          "base_uri": "https://localhost:8080/",
          "height": 128
        },
        "id": "FpQ-Yg1uRgIU",
        "outputId": "f05e0b5f-575e-4914-bcdb-99ae074f8c02"
      },
      "source": [
        "print(\"Tabela 2. Frequência de distribuição de gênero\")\n",
        "tbl_freq(df,\"sex\")"
      ],
      "execution_count": null,
      "outputs": [
        {
          "output_type": "stream",
          "name": "stdout",
          "text": [
            "Tabela 2. Frequência de distribuição de gênero\n"
          ]
        },
        {
          "output_type": "execute_result",
          "data": {
            "text/html": [
              "<div>\n",
              "<style scoped>\n",
              "    .dataframe tbody tr th:only-of-type {\n",
              "        vertical-align: middle;\n",
              "    }\n",
              "\n",
              "    .dataframe tbody tr th {\n",
              "        vertical-align: top;\n",
              "    }\n",
              "\n",
              "    .dataframe thead th {\n",
              "        text-align: right;\n",
              "    }\n",
              "</style>\n",
              "<table border=\"1\" class=\"dataframe\">\n",
              "  <thead>\n",
              "    <tr style=\"text-align: right;\">\n",
              "      <th></th>\n",
              "      <th>Absoluta</th>\n",
              "      <th>Relativa</th>\n",
              "      <th>%</th>\n",
              "    </tr>\n",
              "  </thead>\n",
              "  <tbody>\n",
              "    <tr>\n",
              "      <th>F</th>\n",
              "      <td>383</td>\n",
              "      <td>0.5901</td>\n",
              "      <td>59.0</td>\n",
              "    </tr>\n",
              "    <tr>\n",
              "      <th>M</th>\n",
              "      <td>266</td>\n",
              "      <td>0.4099</td>\n",
              "      <td>41.0</td>\n",
              "    </tr>\n",
              "  </tbody>\n",
              "</table>\n",
              "</div>"
            ],
            "text/plain": [
              "   Absoluta  Relativa     %\n",
              "F       383    0.5901  59.0\n",
              "M       266    0.4099  41.0"
            ]
          },
          "metadata": {},
          "execution_count": 13
        }
      ]
    },
    {
      "cell_type": "code",
      "metadata": {
        "colab": {
          "base_uri": "https://localhost:8080/",
          "height": 128
        },
        "id": "coDr_dWMSJul",
        "outputId": "b55fe8b2-ff27-471b-db06-6082299d80ad"
      },
      "source": [
        "print(\"Tabela 3. Frequência de distribuição da residência\")\n",
        "tbl_freq(df,\"address\")"
      ],
      "execution_count": null,
      "outputs": [
        {
          "output_type": "stream",
          "name": "stdout",
          "text": [
            "Tabela 3. Frequência de distribuição da residência\n"
          ]
        },
        {
          "output_type": "execute_result",
          "data": {
            "text/html": [
              "<div>\n",
              "<style scoped>\n",
              "    .dataframe tbody tr th:only-of-type {\n",
              "        vertical-align: middle;\n",
              "    }\n",
              "\n",
              "    .dataframe tbody tr th {\n",
              "        vertical-align: top;\n",
              "    }\n",
              "\n",
              "    .dataframe thead th {\n",
              "        text-align: right;\n",
              "    }\n",
              "</style>\n",
              "<table border=\"1\" class=\"dataframe\">\n",
              "  <thead>\n",
              "    <tr style=\"text-align: right;\">\n",
              "      <th></th>\n",
              "      <th>Absoluta</th>\n",
              "      <th>Relativa</th>\n",
              "      <th>%</th>\n",
              "    </tr>\n",
              "  </thead>\n",
              "  <tbody>\n",
              "    <tr>\n",
              "      <th>U</th>\n",
              "      <td>452</td>\n",
              "      <td>0.6965</td>\n",
              "      <td>70.0</td>\n",
              "    </tr>\n",
              "    <tr>\n",
              "      <th>R</th>\n",
              "      <td>197</td>\n",
              "      <td>0.3035</td>\n",
              "      <td>30.0</td>\n",
              "    </tr>\n",
              "  </tbody>\n",
              "</table>\n",
              "</div>"
            ],
            "text/plain": [
              "   Absoluta  Relativa     %\n",
              "U       452    0.6965  70.0\n",
              "R       197    0.3035  30.0"
            ]
          },
          "metadata": {},
          "execution_count": 14
        }
      ]
    },
    {
      "cell_type": "code",
      "metadata": {
        "id": "msRQUpNNVXvL",
        "colab": {
          "base_uri": "https://localhost:8080/",
          "height": 190
        },
        "outputId": "20359b59-4437-4afd-de39-ad2801475cbb"
      },
      "source": [
        "print(\"Tabela 4. Frequência do motivo pelo qual escolheu a escola\")\n",
        "tbl_freq(df,\"reason\")"
      ],
      "execution_count": null,
      "outputs": [
        {
          "output_type": "stream",
          "name": "stdout",
          "text": [
            "Tabela 4. Frequência do motivo pelo qual escolheu a escola\n"
          ]
        },
        {
          "output_type": "execute_result",
          "data": {
            "text/html": [
              "<div>\n",
              "<style scoped>\n",
              "    .dataframe tbody tr th:only-of-type {\n",
              "        vertical-align: middle;\n",
              "    }\n",
              "\n",
              "    .dataframe tbody tr th {\n",
              "        vertical-align: top;\n",
              "    }\n",
              "\n",
              "    .dataframe thead th {\n",
              "        text-align: right;\n",
              "    }\n",
              "</style>\n",
              "<table border=\"1\" class=\"dataframe\">\n",
              "  <thead>\n",
              "    <tr style=\"text-align: right;\">\n",
              "      <th></th>\n",
              "      <th>Absoluta</th>\n",
              "      <th>Relativa</th>\n",
              "      <th>%</th>\n",
              "    </tr>\n",
              "  </thead>\n",
              "  <tbody>\n",
              "    <tr>\n",
              "      <th>course</th>\n",
              "      <td>285</td>\n",
              "      <td>0.4391</td>\n",
              "      <td>44.0</td>\n",
              "    </tr>\n",
              "    <tr>\n",
              "      <th>home</th>\n",
              "      <td>149</td>\n",
              "      <td>0.2296</td>\n",
              "      <td>23.0</td>\n",
              "    </tr>\n",
              "    <tr>\n",
              "      <th>reputation</th>\n",
              "      <td>143</td>\n",
              "      <td>0.2203</td>\n",
              "      <td>22.0</td>\n",
              "    </tr>\n",
              "    <tr>\n",
              "      <th>other</th>\n",
              "      <td>72</td>\n",
              "      <td>0.1109</td>\n",
              "      <td>11.0</td>\n",
              "    </tr>\n",
              "  </tbody>\n",
              "</table>\n",
              "</div>"
            ],
            "text/plain": [
              "            Absoluta  Relativa     %\n",
              "course           285    0.4391  44.0\n",
              "home             149    0.2296  23.0\n",
              "reputation       143    0.2203  22.0\n",
              "other             72    0.1109  11.0"
            ]
          },
          "metadata": {},
          "execution_count": 15
        }
      ]
    },
    {
      "cell_type": "code",
      "metadata": {
        "colab": {
          "base_uri": "https://localhost:8080/",
          "height": 128
        },
        "id": "rmyLv_HNV-be",
        "outputId": "c36e73e2-8de7-48ae-eda2-4297e24e1a77"
      },
      "source": [
        "print(\"Tabela 5. Frequência da distribuição de status parental (casados/together, separdos/alone)\")\n",
        "tbl_freq(df,\"Pstatus\")"
      ],
      "execution_count": null,
      "outputs": [
        {
          "output_type": "stream",
          "name": "stdout",
          "text": [
            "Tabela 5. Frequência da distribuição de status parental (casados/together, separdos/alone)\n"
          ]
        },
        {
          "output_type": "execute_result",
          "data": {
            "text/html": [
              "<div>\n",
              "<style scoped>\n",
              "    .dataframe tbody tr th:only-of-type {\n",
              "        vertical-align: middle;\n",
              "    }\n",
              "\n",
              "    .dataframe tbody tr th {\n",
              "        vertical-align: top;\n",
              "    }\n",
              "\n",
              "    .dataframe thead th {\n",
              "        text-align: right;\n",
              "    }\n",
              "</style>\n",
              "<table border=\"1\" class=\"dataframe\">\n",
              "  <thead>\n",
              "    <tr style=\"text-align: right;\">\n",
              "      <th></th>\n",
              "      <th>Absoluta</th>\n",
              "      <th>Relativa</th>\n",
              "      <th>%</th>\n",
              "    </tr>\n",
              "  </thead>\n",
              "  <tbody>\n",
              "    <tr>\n",
              "      <th>T</th>\n",
              "      <td>569</td>\n",
              "      <td>0.8767</td>\n",
              "      <td>88.0</td>\n",
              "    </tr>\n",
              "    <tr>\n",
              "      <th>A</th>\n",
              "      <td>80</td>\n",
              "      <td>0.1233</td>\n",
              "      <td>12.0</td>\n",
              "    </tr>\n",
              "  </tbody>\n",
              "</table>\n",
              "</div>"
            ],
            "text/plain": [
              "   Absoluta  Relativa     %\n",
              "T       569    0.8767  88.0\n",
              "A        80    0.1233  12.0"
            ]
          },
          "metadata": {},
          "execution_count": 16
        }
      ]
    },
    {
      "cell_type": "code",
      "metadata": {
        "colab": {
          "base_uri": "https://localhost:8080/",
          "height": 128
        },
        "id": "1SAr6jFbWjG0",
        "outputId": "81e58cc6-9a6c-40cc-e557-a057154429dc"
      },
      "source": [
        "print(\"Tabela 6. Frequência do tamanho da família (maior ou menor que 3 indivíduos)\")\n",
        "tbl_freq(df,\"famsize\")"
      ],
      "execution_count": null,
      "outputs": [
        {
          "output_type": "stream",
          "name": "stdout",
          "text": [
            "Tabela 6. Frequência do tamanho da família (maior ou menor que 3 indivíduos)\n"
          ]
        },
        {
          "output_type": "execute_result",
          "data": {
            "text/html": [
              "<div>\n",
              "<style scoped>\n",
              "    .dataframe tbody tr th:only-of-type {\n",
              "        vertical-align: middle;\n",
              "    }\n",
              "\n",
              "    .dataframe tbody tr th {\n",
              "        vertical-align: top;\n",
              "    }\n",
              "\n",
              "    .dataframe thead th {\n",
              "        text-align: right;\n",
              "    }\n",
              "</style>\n",
              "<table border=\"1\" class=\"dataframe\">\n",
              "  <thead>\n",
              "    <tr style=\"text-align: right;\">\n",
              "      <th></th>\n",
              "      <th>Absoluta</th>\n",
              "      <th>Relativa</th>\n",
              "      <th>%</th>\n",
              "    </tr>\n",
              "  </thead>\n",
              "  <tbody>\n",
              "    <tr>\n",
              "      <th>GT3</th>\n",
              "      <td>457</td>\n",
              "      <td>0.7042</td>\n",
              "      <td>70.0</td>\n",
              "    </tr>\n",
              "    <tr>\n",
              "      <th>LE3</th>\n",
              "      <td>192</td>\n",
              "      <td>0.2958</td>\n",
              "      <td>30.0</td>\n",
              "    </tr>\n",
              "  </tbody>\n",
              "</table>\n",
              "</div>"
            ],
            "text/plain": [
              "     Absoluta  Relativa     %\n",
              "GT3       457    0.7042  70.0\n",
              "LE3       192    0.2958  30.0"
            ]
          },
          "metadata": {},
          "execution_count": 17
        }
      ]
    },
    {
      "cell_type": "code",
      "metadata": {
        "colab": {
          "base_uri": "https://localhost:8080/",
          "height": 221
        },
        "id": "xg_eU9tfWoUS",
        "outputId": "95578910-3bc1-434e-8818-6a46351dac01"
      },
      "source": [
        "print(\"Tabela 7. Frequência de distribuição da profissão do pai\")\n",
        "tbl_freq(df,\"Fjob\")"
      ],
      "execution_count": null,
      "outputs": [
        {
          "output_type": "stream",
          "name": "stdout",
          "text": [
            "Tabela 7. Frequência de distribuição da profissão do pai\n"
          ]
        },
        {
          "output_type": "execute_result",
          "data": {
            "text/html": [
              "<div>\n",
              "<style scoped>\n",
              "    .dataframe tbody tr th:only-of-type {\n",
              "        vertical-align: middle;\n",
              "    }\n",
              "\n",
              "    .dataframe tbody tr th {\n",
              "        vertical-align: top;\n",
              "    }\n",
              "\n",
              "    .dataframe thead th {\n",
              "        text-align: right;\n",
              "    }\n",
              "</style>\n",
              "<table border=\"1\" class=\"dataframe\">\n",
              "  <thead>\n",
              "    <tr style=\"text-align: right;\">\n",
              "      <th></th>\n",
              "      <th>Absoluta</th>\n",
              "      <th>Relativa</th>\n",
              "      <th>%</th>\n",
              "    </tr>\n",
              "  </thead>\n",
              "  <tbody>\n",
              "    <tr>\n",
              "      <th>other</th>\n",
              "      <td>367</td>\n",
              "      <td>0.5655</td>\n",
              "      <td>57.0</td>\n",
              "    </tr>\n",
              "    <tr>\n",
              "      <th>services</th>\n",
              "      <td>181</td>\n",
              "      <td>0.2789</td>\n",
              "      <td>28.0</td>\n",
              "    </tr>\n",
              "    <tr>\n",
              "      <th>at_home</th>\n",
              "      <td>42</td>\n",
              "      <td>0.0647</td>\n",
              "      <td>6.0</td>\n",
              "    </tr>\n",
              "    <tr>\n",
              "      <th>teacher</th>\n",
              "      <td>36</td>\n",
              "      <td>0.0555</td>\n",
              "      <td>6.0</td>\n",
              "    </tr>\n",
              "    <tr>\n",
              "      <th>health</th>\n",
              "      <td>23</td>\n",
              "      <td>0.0354</td>\n",
              "      <td>4.0</td>\n",
              "    </tr>\n",
              "  </tbody>\n",
              "</table>\n",
              "</div>"
            ],
            "text/plain": [
              "          Absoluta  Relativa     %\n",
              "other          367    0.5655  57.0\n",
              "services       181    0.2789  28.0\n",
              "at_home         42    0.0647   6.0\n",
              "teacher         36    0.0555   6.0\n",
              "health          23    0.0354   4.0"
            ]
          },
          "metadata": {},
          "execution_count": 18
        }
      ]
    },
    {
      "cell_type": "code",
      "metadata": {
        "colab": {
          "base_uri": "https://localhost:8080/",
          "height": 221
        },
        "id": "9Q295ehmWrYI",
        "outputId": "334966a4-5b19-4915-9620-83f862adfb7a"
      },
      "source": [
        "print(\"Tabela 8. Frequência de distribuição da profissão da mãe\")\n",
        "tbl_freq(df,\"Mjob\")"
      ],
      "execution_count": null,
      "outputs": [
        {
          "output_type": "stream",
          "name": "stdout",
          "text": [
            "Tabela 8. Frequência de distribuição da profissão da mãe\n"
          ]
        },
        {
          "output_type": "execute_result",
          "data": {
            "text/html": [
              "<div>\n",
              "<style scoped>\n",
              "    .dataframe tbody tr th:only-of-type {\n",
              "        vertical-align: middle;\n",
              "    }\n",
              "\n",
              "    .dataframe tbody tr th {\n",
              "        vertical-align: top;\n",
              "    }\n",
              "\n",
              "    .dataframe thead th {\n",
              "        text-align: right;\n",
              "    }\n",
              "</style>\n",
              "<table border=\"1\" class=\"dataframe\">\n",
              "  <thead>\n",
              "    <tr style=\"text-align: right;\">\n",
              "      <th></th>\n",
              "      <th>Absoluta</th>\n",
              "      <th>Relativa</th>\n",
              "      <th>%</th>\n",
              "    </tr>\n",
              "  </thead>\n",
              "  <tbody>\n",
              "    <tr>\n",
              "      <th>other</th>\n",
              "      <td>258</td>\n",
              "      <td>0.3975</td>\n",
              "      <td>40.0</td>\n",
              "    </tr>\n",
              "    <tr>\n",
              "      <th>services</th>\n",
              "      <td>136</td>\n",
              "      <td>0.2096</td>\n",
              "      <td>21.0</td>\n",
              "    </tr>\n",
              "    <tr>\n",
              "      <th>at_home</th>\n",
              "      <td>135</td>\n",
              "      <td>0.2080</td>\n",
              "      <td>21.0</td>\n",
              "    </tr>\n",
              "    <tr>\n",
              "      <th>teacher</th>\n",
              "      <td>72</td>\n",
              "      <td>0.1109</td>\n",
              "      <td>11.0</td>\n",
              "    </tr>\n",
              "    <tr>\n",
              "      <th>health</th>\n",
              "      <td>48</td>\n",
              "      <td>0.0740</td>\n",
              "      <td>7.0</td>\n",
              "    </tr>\n",
              "  </tbody>\n",
              "</table>\n",
              "</div>"
            ],
            "text/plain": [
              "          Absoluta  Relativa     %\n",
              "other          258    0.3975  40.0\n",
              "services       136    0.2096  21.0\n",
              "at_home        135    0.2080  21.0\n",
              "teacher         72    0.1109  11.0\n",
              "health          48    0.0740   7.0"
            ]
          },
          "metadata": {},
          "execution_count": 19
        }
      ]
    },
    {
      "cell_type": "code",
      "metadata": {
        "colab": {
          "base_uri": "https://localhost:8080/",
          "height": 128
        },
        "id": "XycdrgwtWsGo",
        "outputId": "d5cec58f-074e-449c-e3a6-4b11bce75eb3"
      },
      "source": [
        "print(\"Tabela 9. Frequência de distribuição se o aluno recebe apoio aos estudos da escola\")\n",
        "tbl_freq(df,\"schoolsup\")"
      ],
      "execution_count": null,
      "outputs": [
        {
          "output_type": "stream",
          "name": "stdout",
          "text": [
            "Tabela 9. Frequência de distribuição se o aluno recebe apoio aos estudos da escola\n"
          ]
        },
        {
          "output_type": "execute_result",
          "data": {
            "text/html": [
              "<div>\n",
              "<style scoped>\n",
              "    .dataframe tbody tr th:only-of-type {\n",
              "        vertical-align: middle;\n",
              "    }\n",
              "\n",
              "    .dataframe tbody tr th {\n",
              "        vertical-align: top;\n",
              "    }\n",
              "\n",
              "    .dataframe thead th {\n",
              "        text-align: right;\n",
              "    }\n",
              "</style>\n",
              "<table border=\"1\" class=\"dataframe\">\n",
              "  <thead>\n",
              "    <tr style=\"text-align: right;\">\n",
              "      <th></th>\n",
              "      <th>Absoluta</th>\n",
              "      <th>Relativa</th>\n",
              "      <th>%</th>\n",
              "    </tr>\n",
              "  </thead>\n",
              "  <tbody>\n",
              "    <tr>\n",
              "      <th>no</th>\n",
              "      <td>581</td>\n",
              "      <td>0.8952</td>\n",
              "      <td>90.0</td>\n",
              "    </tr>\n",
              "    <tr>\n",
              "      <th>yes</th>\n",
              "      <td>68</td>\n",
              "      <td>0.1048</td>\n",
              "      <td>10.0</td>\n",
              "    </tr>\n",
              "  </tbody>\n",
              "</table>\n",
              "</div>"
            ],
            "text/plain": [
              "     Absoluta  Relativa     %\n",
              "no        581    0.8952  90.0\n",
              "yes        68    0.1048  10.0"
            ]
          },
          "metadata": {},
          "execution_count": 20
        }
      ]
    },
    {
      "cell_type": "code",
      "metadata": {
        "colab": {
          "base_uri": "https://localhost:8080/",
          "height": 128
        },
        "id": "u7VBrljJWszm",
        "outputId": "e3e7cc4c-bad8-4354-aae6-2efb67168348"
      },
      "source": [
        "print(\"Tabela 10. Frequência de distribuição se o aluno recebe apoio aos estudos da família\")\n",
        "tbl_freq(df,\"famsup\")"
      ],
      "execution_count": null,
      "outputs": [
        {
          "output_type": "stream",
          "name": "stdout",
          "text": [
            "Tabela 10. Frequência de distribuição se o aluno recebe apoio aos estudos da família\n"
          ]
        },
        {
          "output_type": "execute_result",
          "data": {
            "text/html": [
              "<div>\n",
              "<style scoped>\n",
              "    .dataframe tbody tr th:only-of-type {\n",
              "        vertical-align: middle;\n",
              "    }\n",
              "\n",
              "    .dataframe tbody tr th {\n",
              "        vertical-align: top;\n",
              "    }\n",
              "\n",
              "    .dataframe thead th {\n",
              "        text-align: right;\n",
              "    }\n",
              "</style>\n",
              "<table border=\"1\" class=\"dataframe\">\n",
              "  <thead>\n",
              "    <tr style=\"text-align: right;\">\n",
              "      <th></th>\n",
              "      <th>Absoluta</th>\n",
              "      <th>Relativa</th>\n",
              "      <th>%</th>\n",
              "    </tr>\n",
              "  </thead>\n",
              "  <tbody>\n",
              "    <tr>\n",
              "      <th>yes</th>\n",
              "      <td>398</td>\n",
              "      <td>0.6133</td>\n",
              "      <td>61.0</td>\n",
              "    </tr>\n",
              "    <tr>\n",
              "      <th>no</th>\n",
              "      <td>251</td>\n",
              "      <td>0.3867</td>\n",
              "      <td>39.0</td>\n",
              "    </tr>\n",
              "  </tbody>\n",
              "</table>\n",
              "</div>"
            ],
            "text/plain": [
              "     Absoluta  Relativa     %\n",
              "yes       398    0.6133  61.0\n",
              "no        251    0.3867  39.0"
            ]
          },
          "metadata": {},
          "execution_count": 21
        }
      ]
    },
    {
      "cell_type": "code",
      "metadata": {
        "colab": {
          "base_uri": "https://localhost:8080/",
          "height": 128
        },
        "id": "5-G2vSsOWuEq",
        "outputId": "1bb577ab-a60c-4d35-e9d6-d50c2e0f1346"
      },
      "source": [
        "print(\"Tabela 11. Frequência de distribuição se o aluno faz aulas particulares da matéria (Ex: Kumon)\")\n",
        "tbl_freq(df,\"paid\")"
      ],
      "execution_count": null,
      "outputs": [
        {
          "output_type": "stream",
          "name": "stdout",
          "text": [
            "Tabela 11. Frequência de distribuição se o aluno faz aulas particulares da matéria (Ex: Kumon)\n"
          ]
        },
        {
          "output_type": "execute_result",
          "data": {
            "text/html": [
              "<div>\n",
              "<style scoped>\n",
              "    .dataframe tbody tr th:only-of-type {\n",
              "        vertical-align: middle;\n",
              "    }\n",
              "\n",
              "    .dataframe tbody tr th {\n",
              "        vertical-align: top;\n",
              "    }\n",
              "\n",
              "    .dataframe thead th {\n",
              "        text-align: right;\n",
              "    }\n",
              "</style>\n",
              "<table border=\"1\" class=\"dataframe\">\n",
              "  <thead>\n",
              "    <tr style=\"text-align: right;\">\n",
              "      <th></th>\n",
              "      <th>Absoluta</th>\n",
              "      <th>Relativa</th>\n",
              "      <th>%</th>\n",
              "    </tr>\n",
              "  </thead>\n",
              "  <tbody>\n",
              "    <tr>\n",
              "      <th>no</th>\n",
              "      <td>610</td>\n",
              "      <td>0.9399</td>\n",
              "      <td>94.0</td>\n",
              "    </tr>\n",
              "    <tr>\n",
              "      <th>yes</th>\n",
              "      <td>39</td>\n",
              "      <td>0.0601</td>\n",
              "      <td>6.0</td>\n",
              "    </tr>\n",
              "  </tbody>\n",
              "</table>\n",
              "</div>"
            ],
            "text/plain": [
              "     Absoluta  Relativa     %\n",
              "no        610    0.9399  94.0\n",
              "yes        39    0.0601   6.0"
            ]
          },
          "metadata": {},
          "execution_count": 22
        }
      ]
    },
    {
      "cell_type": "code",
      "metadata": {
        "colab": {
          "base_uri": "https://localhost:8080/",
          "height": 128
        },
        "id": "-AFz06s7WwmZ",
        "outputId": "0a8dd261-20a1-4f88-e2b4-86b66d7e0f46"
      },
      "source": [
        "print(\"Tabela 12. Frequência se o aluno tem atividades extra-escola\")\n",
        "tbl_freq(df,\"activities\")"
      ],
      "execution_count": null,
      "outputs": [
        {
          "output_type": "stream",
          "name": "stdout",
          "text": [
            "Tabela 12. Frequência se o aluno tem atividades extra-escola\n"
          ]
        },
        {
          "output_type": "execute_result",
          "data": {
            "text/html": [
              "<div>\n",
              "<style scoped>\n",
              "    .dataframe tbody tr th:only-of-type {\n",
              "        vertical-align: middle;\n",
              "    }\n",
              "\n",
              "    .dataframe tbody tr th {\n",
              "        vertical-align: top;\n",
              "    }\n",
              "\n",
              "    .dataframe thead th {\n",
              "        text-align: right;\n",
              "    }\n",
              "</style>\n",
              "<table border=\"1\" class=\"dataframe\">\n",
              "  <thead>\n",
              "    <tr style=\"text-align: right;\">\n",
              "      <th></th>\n",
              "      <th>Absoluta</th>\n",
              "      <th>Relativa</th>\n",
              "      <th>%</th>\n",
              "    </tr>\n",
              "  </thead>\n",
              "  <tbody>\n",
              "    <tr>\n",
              "      <th>no</th>\n",
              "      <td>334</td>\n",
              "      <td>0.5146</td>\n",
              "      <td>51.0</td>\n",
              "    </tr>\n",
              "    <tr>\n",
              "      <th>yes</th>\n",
              "      <td>315</td>\n",
              "      <td>0.4854</td>\n",
              "      <td>49.0</td>\n",
              "    </tr>\n",
              "  </tbody>\n",
              "</table>\n",
              "</div>"
            ],
            "text/plain": [
              "     Absoluta  Relativa     %\n",
              "no        334    0.5146  51.0\n",
              "yes       315    0.4854  49.0"
            ]
          },
          "metadata": {},
          "execution_count": 23
        }
      ]
    },
    {
      "cell_type": "code",
      "metadata": {
        "colab": {
          "base_uri": "https://localhost:8080/",
          "height": 128
        },
        "id": "w5XGwYo4WxVw",
        "outputId": "be4a444d-48f9-4861-d202-9c49d956568e"
      },
      "source": [
        "print(\"Tabela 13. Frequência se o aluno faz aulas de enfermagem\")\n",
        "tbl_freq(df,\"nursery\")"
      ],
      "execution_count": null,
      "outputs": [
        {
          "output_type": "stream",
          "name": "stdout",
          "text": [
            "Tabela 13. Frequência se o aluno faz aulas de enfermagem\n"
          ]
        },
        {
          "output_type": "execute_result",
          "data": {
            "text/html": [
              "<div>\n",
              "<style scoped>\n",
              "    .dataframe tbody tr th:only-of-type {\n",
              "        vertical-align: middle;\n",
              "    }\n",
              "\n",
              "    .dataframe tbody tr th {\n",
              "        vertical-align: top;\n",
              "    }\n",
              "\n",
              "    .dataframe thead th {\n",
              "        text-align: right;\n",
              "    }\n",
              "</style>\n",
              "<table border=\"1\" class=\"dataframe\">\n",
              "  <thead>\n",
              "    <tr style=\"text-align: right;\">\n",
              "      <th></th>\n",
              "      <th>Absoluta</th>\n",
              "      <th>Relativa</th>\n",
              "      <th>%</th>\n",
              "    </tr>\n",
              "  </thead>\n",
              "  <tbody>\n",
              "    <tr>\n",
              "      <th>yes</th>\n",
              "      <td>521</td>\n",
              "      <td>0.8028</td>\n",
              "      <td>80.0</td>\n",
              "    </tr>\n",
              "    <tr>\n",
              "      <th>no</th>\n",
              "      <td>128</td>\n",
              "      <td>0.1972</td>\n",
              "      <td>20.0</td>\n",
              "    </tr>\n",
              "  </tbody>\n",
              "</table>\n",
              "</div>"
            ],
            "text/plain": [
              "     Absoluta  Relativa     %\n",
              "yes       521    0.8028  80.0\n",
              "no        128    0.1972  20.0"
            ]
          },
          "metadata": {},
          "execution_count": 24
        }
      ]
    },
    {
      "cell_type": "code",
      "metadata": {
        "colab": {
          "base_uri": "https://localhost:8080/",
          "height": 128
        },
        "id": "2KjNxa0eWyHM",
        "outputId": "fe4040c9-eca2-43de-c7f9-9486f05a2da9"
      },
      "source": [
        "print(\"Tabela 14. Frequência de distribuição se o aluno tem acesso à internet em casa\")\n",
        "tbl_freq(df,\"internet\")"
      ],
      "execution_count": null,
      "outputs": [
        {
          "output_type": "stream",
          "name": "stdout",
          "text": [
            "Tabela 14. Frequência de distribuição se o aluno tem acesso à internet em casa\n"
          ]
        },
        {
          "output_type": "execute_result",
          "data": {
            "text/html": [
              "<div>\n",
              "<style scoped>\n",
              "    .dataframe tbody tr th:only-of-type {\n",
              "        vertical-align: middle;\n",
              "    }\n",
              "\n",
              "    .dataframe tbody tr th {\n",
              "        vertical-align: top;\n",
              "    }\n",
              "\n",
              "    .dataframe thead th {\n",
              "        text-align: right;\n",
              "    }\n",
              "</style>\n",
              "<table border=\"1\" class=\"dataframe\">\n",
              "  <thead>\n",
              "    <tr style=\"text-align: right;\">\n",
              "      <th></th>\n",
              "      <th>Absoluta</th>\n",
              "      <th>Relativa</th>\n",
              "      <th>%</th>\n",
              "    </tr>\n",
              "  </thead>\n",
              "  <tbody>\n",
              "    <tr>\n",
              "      <th>yes</th>\n",
              "      <td>498</td>\n",
              "      <td>0.7673</td>\n",
              "      <td>77.0</td>\n",
              "    </tr>\n",
              "    <tr>\n",
              "      <th>no</th>\n",
              "      <td>151</td>\n",
              "      <td>0.2327</td>\n",
              "      <td>23.0</td>\n",
              "    </tr>\n",
              "  </tbody>\n",
              "</table>\n",
              "</div>"
            ],
            "text/plain": [
              "     Absoluta  Relativa     %\n",
              "yes       498    0.7673  77.0\n",
              "no        151    0.2327  23.0"
            ]
          },
          "metadata": {},
          "execution_count": 25
        }
      ]
    },
    {
      "cell_type": "code",
      "metadata": {
        "colab": {
          "base_uri": "https://localhost:8080/",
          "height": 128
        },
        "id": "dq9HVUbTWyvc",
        "outputId": "4ff09e56-509f-4fcb-a10d-4d6fc5f788cb"
      },
      "source": [
        "print(\"Tabela 15. Frequência de interesse do aluno em cursar ensino superior\")\n",
        "tbl_freq(df,\"higher\")"
      ],
      "execution_count": null,
      "outputs": [
        {
          "output_type": "stream",
          "name": "stdout",
          "text": [
            "Tabela 15. Frequência de interesse do aluno em cursar ensino superior\n"
          ]
        },
        {
          "output_type": "execute_result",
          "data": {
            "text/html": [
              "<div>\n",
              "<style scoped>\n",
              "    .dataframe tbody tr th:only-of-type {\n",
              "        vertical-align: middle;\n",
              "    }\n",
              "\n",
              "    .dataframe tbody tr th {\n",
              "        vertical-align: top;\n",
              "    }\n",
              "\n",
              "    .dataframe thead th {\n",
              "        text-align: right;\n",
              "    }\n",
              "</style>\n",
              "<table border=\"1\" class=\"dataframe\">\n",
              "  <thead>\n",
              "    <tr style=\"text-align: right;\">\n",
              "      <th></th>\n",
              "      <th>Absoluta</th>\n",
              "      <th>Relativa</th>\n",
              "      <th>%</th>\n",
              "    </tr>\n",
              "  </thead>\n",
              "  <tbody>\n",
              "    <tr>\n",
              "      <th>yes</th>\n",
              "      <td>580</td>\n",
              "      <td>0.8937</td>\n",
              "      <td>89.0</td>\n",
              "    </tr>\n",
              "    <tr>\n",
              "      <th>no</th>\n",
              "      <td>69</td>\n",
              "      <td>0.1063</td>\n",
              "      <td>11.0</td>\n",
              "    </tr>\n",
              "  </tbody>\n",
              "</table>\n",
              "</div>"
            ],
            "text/plain": [
              "     Absoluta  Relativa     %\n",
              "yes       580    0.8937  89.0\n",
              "no         69    0.1063  11.0"
            ]
          },
          "metadata": {},
          "execution_count": 26
        }
      ]
    },
    {
      "cell_type": "code",
      "metadata": {
        "colab": {
          "base_uri": "https://localhost:8080/",
          "height": 128
        },
        "id": "QxSHNHrSWzaT",
        "outputId": "c712b5c5-0e6a-472e-c93a-88b9746ebee2"
      },
      "source": [
        "print(\"Tabela 16. Frequência de distribuição se o aluno está em um relacionamento romântico\")\n",
        "tbl_freq(df,\"romantic\")"
      ],
      "execution_count": null,
      "outputs": [
        {
          "output_type": "stream",
          "name": "stdout",
          "text": [
            "Tabela 16. Frequência de distribuição se o aluno está em um relacionamento romântico\n"
          ]
        },
        {
          "output_type": "execute_result",
          "data": {
            "text/html": [
              "<div>\n",
              "<style scoped>\n",
              "    .dataframe tbody tr th:only-of-type {\n",
              "        vertical-align: middle;\n",
              "    }\n",
              "\n",
              "    .dataframe tbody tr th {\n",
              "        vertical-align: top;\n",
              "    }\n",
              "\n",
              "    .dataframe thead th {\n",
              "        text-align: right;\n",
              "    }\n",
              "</style>\n",
              "<table border=\"1\" class=\"dataframe\">\n",
              "  <thead>\n",
              "    <tr style=\"text-align: right;\">\n",
              "      <th></th>\n",
              "      <th>Absoluta</th>\n",
              "      <th>Relativa</th>\n",
              "      <th>%</th>\n",
              "    </tr>\n",
              "  </thead>\n",
              "  <tbody>\n",
              "    <tr>\n",
              "      <th>no</th>\n",
              "      <td>410</td>\n",
              "      <td>0.6317</td>\n",
              "      <td>63.0</td>\n",
              "    </tr>\n",
              "    <tr>\n",
              "      <th>yes</th>\n",
              "      <td>239</td>\n",
              "      <td>0.3683</td>\n",
              "      <td>37.0</td>\n",
              "    </tr>\n",
              "  </tbody>\n",
              "</table>\n",
              "</div>"
            ],
            "text/plain": [
              "     Absoluta  Relativa     %\n",
              "no        410    0.6317  63.0\n",
              "yes       239    0.3683  37.0"
            ]
          },
          "metadata": {},
          "execution_count": 27
        }
      ]
    },
    {
      "cell_type": "code",
      "metadata": {
        "colab": {
          "base_uri": "https://localhost:8080/",
          "height": 159
        },
        "id": "4NujYWLYgTSM",
        "outputId": "944af1a2-9db5-44db-b9bf-fc85c24144f5"
      },
      "source": [
        "print(\"Tabela 17. Frequência de distribuição do guardião legal do aluno\")\n",
        "tbl_freq(df,\"guardian\")"
      ],
      "execution_count": null,
      "outputs": [
        {
          "output_type": "stream",
          "name": "stdout",
          "text": [
            "Tabela 17. Frequência de distribuição do guardião legal do aluno\n"
          ]
        },
        {
          "output_type": "execute_result",
          "data": {
            "text/html": [
              "<div>\n",
              "<style scoped>\n",
              "    .dataframe tbody tr th:only-of-type {\n",
              "        vertical-align: middle;\n",
              "    }\n",
              "\n",
              "    .dataframe tbody tr th {\n",
              "        vertical-align: top;\n",
              "    }\n",
              "\n",
              "    .dataframe thead th {\n",
              "        text-align: right;\n",
              "    }\n",
              "</style>\n",
              "<table border=\"1\" class=\"dataframe\">\n",
              "  <thead>\n",
              "    <tr style=\"text-align: right;\">\n",
              "      <th></th>\n",
              "      <th>Absoluta</th>\n",
              "      <th>Relativa</th>\n",
              "      <th>%</th>\n",
              "    </tr>\n",
              "  </thead>\n",
              "  <tbody>\n",
              "    <tr>\n",
              "      <th>mother</th>\n",
              "      <td>455</td>\n",
              "      <td>0.7011</td>\n",
              "      <td>70.0</td>\n",
              "    </tr>\n",
              "    <tr>\n",
              "      <th>father</th>\n",
              "      <td>153</td>\n",
              "      <td>0.2357</td>\n",
              "      <td>24.0</td>\n",
              "    </tr>\n",
              "    <tr>\n",
              "      <th>other</th>\n",
              "      <td>41</td>\n",
              "      <td>0.0632</td>\n",
              "      <td>6.0</td>\n",
              "    </tr>\n",
              "  </tbody>\n",
              "</table>\n",
              "</div>"
            ],
            "text/plain": [
              "        Absoluta  Relativa     %\n",
              "mother       455    0.7011  70.0\n",
              "father       153    0.2357  24.0\n",
              "other         41    0.0632   6.0"
            ]
          },
          "metadata": {},
          "execution_count": 28
        }
      ]
    },
    {
      "cell_type": "markdown",
      "metadata": {
        "id": "1aYHjbIooe9p"
      },
      "source": [
        "##Análise dos Dados Demográficos"
      ]
    },
    {
      "cell_type": "code",
      "metadata": {
        "id": "VbAQ2Nmxo7oe",
        "colab": {
          "base_uri": "https://localhost:8080/",
          "height": 349
        },
        "outputId": "7bafd04a-fdcb-408a-87aa-ef8ddde7122f"
      },
      "source": [
        "#Análise entre idade e sexo\n",
        "ax = sns.countplot('age',hue='sex', data=df)\n",
        "ax.set_title('Distribuição de acordo com Sexo e Idade')\n",
        "ax.set_xlabel('Idade')\n",
        "ax.set_ylabel('Quantidade de Alunos')\n",
        "plt.show()"
      ],
      "execution_count": null,
      "outputs": [
        {
          "output_type": "stream",
          "name": "stderr",
          "text": [
            "/usr/local/lib/python3.7/dist-packages/seaborn/_decorators.py:43: FutureWarning: Pass the following variable as a keyword arg: x. From version 0.12, the only valid positional argument will be `data`, and passing other arguments without an explicit keyword will result in an error or misinterpretation.\n",
            "  FutureWarning\n"
          ]
        },
        {
          "output_type": "display_data",
          "data": {
            "image/png": "[encoded data removed]",
            "text/plain": [
              "<Figure size 432x288 with 1 Axes>"
            ]
          },
          "metadata": {
            "needs_background": "light"
          }
        }
      ]
    },
    {
      "cell_type": "code",
      "metadata": {
        "colab": {
          "base_uri": "https://localhost:8080/",
          "height": 485
        },
        "id": "ZtUBJz-yQoJX",
        "outputId": "d6bbfa73-afc3-4945-b53f-bd92777a825d"
      },
      "source": [
        "#Análise entre idade, sexo e média\n",
        "ax = sns.swarmplot(x='age', y='media',hue='sex', data=df)\n",
        "ax.set_title('Relação de Sexo e Idade com Média')\n",
        "ax.set_xlabel('Idade')\n",
        "ax.set_ylabel('Média das Notas')\n",
        "plt.show()"
      ],
      "execution_count": null,
      "outputs": [
        {
          "output_type": "stream",
          "name": "stderr",
          "text": [
            "/usr/local/lib/python3.7/dist-packages/seaborn/categorical.py:1296: UserWarning: 36.6% of the points cannot be placed; you may want to decrease the size of the markers or use stripplot.\n",
            "  warnings.warn(msg, UserWarning)\n",
            "/usr/local/lib/python3.7/dist-packages/seaborn/categorical.py:1296: UserWarning: 44.6% of the points cannot be placed; you may want to decrease the size of the markers or use stripplot.\n",
            "  warnings.warn(msg, UserWarning)\n",
            "/usr/local/lib/python3.7/dist-packages/seaborn/categorical.py:1296: UserWarning: 37.4% of the points cannot be placed; you may want to decrease the size of the markers or use stripplot.\n",
            "  warnings.warn(msg, UserWarning)\n",
            "/usr/local/lib/python3.7/dist-packages/seaborn/categorical.py:1296: UserWarning: 19.3% of the points cannot be placed; you may want to decrease the size of the markers or use stripplot.\n",
            "  warnings.warn(msg, UserWarning)\n",
            "/usr/local/lib/python3.7/dist-packages/seaborn/categorical.py:1296: UserWarning: 9.4% of the points cannot be placed; you may want to decrease the size of the markers or use stripplot.\n",
            "  warnings.warn(msg, UserWarning)\n"
          ]
        },
        {
          "output_type": "display_data",
          "data": {
            "image/png": "[encoded data removed]",
            "text/plain": [
              "<Figure size 432x288 with 1 Axes>"
            ]
          },
          "metadata": {
            "needs_background": "light"
          }
        }
      ]
    },
    {
      "cell_type": "markdown",
      "metadata": {
        "id": "Bj2iTBActM0P"
      },
      "source": [
        "A maioria dos estudantes está entre 15 e 18 anos, com um número levemente maior de meninas.\n",
        "\n",
        "Idade e sexo não parecem ter uma influência clara nas médias das notas."
      ]
    },
    {
      "cell_type": "code",
      "metadata": {
        "colab": {
          "base_uri": "https://localhost:8080/",
          "height": 554
        },
        "id": "o-Z6jfnUs8QQ",
        "outputId": "3b8d71c5-0088-4c80-e5c4-f46715112218"
      },
      "source": [
        "#Impacto do grau de instrução dos pais (mãe + pai) no impacto da nota dos alunos\n",
        "Pedu = df['Fedu'] + df['Medu'] \n",
        "ax = sns.swarmplot(x=Pedu,y=df['media'])\n",
        "ax.set_title('Impacto do nível de educação dos pais em relação as notas')\n",
        "ax.set_xlabel('Nível de educação dos pais')\n",
        "ax.set_ylabel('Média das Notas')\n",
        "plt.show()"
      ],
      "execution_count": null,
      "outputs": [
        {
          "output_type": "stream",
          "name": "stderr",
          "text": [
            "/usr/local/lib/python3.7/dist-packages/seaborn/categorical.py:1296: UserWarning: 17.9% of the points cannot be placed; you may want to decrease the size of the markers or use stripplot.\n",
            "  warnings.warn(msg, UserWarning)\n",
            "/usr/local/lib/python3.7/dist-packages/seaborn/categorical.py:1296: UserWarning: 15.9% of the points cannot be placed; you may want to decrease the size of the markers or use stripplot.\n",
            "  warnings.warn(msg, UserWarning)\n",
            "/usr/local/lib/python3.7/dist-packages/seaborn/categorical.py:1296: UserWarning: 33.8% of the points cannot be placed; you may want to decrease the size of the markers or use stripplot.\n",
            "  warnings.warn(msg, UserWarning)\n",
            "/usr/local/lib/python3.7/dist-packages/seaborn/categorical.py:1296: UserWarning: 9.1% of the points cannot be placed; you may want to decrease the size of the markers or use stripplot.\n",
            "  warnings.warn(msg, UserWarning)\n",
            "/usr/local/lib/python3.7/dist-packages/seaborn/categorical.py:1296: UserWarning: 21.3% of the points cannot be placed; you may want to decrease the size of the markers or use stripplot.\n",
            "  warnings.warn(msg, UserWarning)\n",
            "/usr/local/lib/python3.7/dist-packages/seaborn/categorical.py:1296: UserWarning: 6.0% of the points cannot be placed; you may want to decrease the size of the markers or use stripplot.\n",
            "  warnings.warn(msg, UserWarning)\n",
            "/usr/local/lib/python3.7/dist-packages/seaborn/categorical.py:1296: UserWarning: 20.0% of the points cannot be placed; you may want to decrease the size of the markers or use stripplot.\n",
            "  warnings.warn(msg, UserWarning)\n"
          ]
        },
        {
          "output_type": "display_data",
          "data": {
            "image/png": "[encoded data removed]",
            "text/plain": [
              "<Figure size 432x288 with 1 Axes>"
            ]
          },
          "metadata": {
            "needs_background": "light"
          }
        }
      ]
    },
    {
      "cell_type": "code",
      "metadata": {
        "colab": {
          "base_uri": "https://localhost:8080/",
          "height": 349
        },
        "id": "N7Qsf4HitzsQ",
        "outputId": "3cd677c2-160a-458f-9796-e2d9eecc2ff9"
      },
      "source": [
        "#Análise se os pais casados ou separados tem impacto nas notas dos alunos\n",
        "ax = sns.swarmplot(x=df['Pstatus'],y=df['media'])\n",
        "ax.set_title('Efeito da situação de casamento dos pais nas notas')\n",
        "ax.set_xlabel('A = Separados, T = Juntos')\n",
        "ax.set_ylabel('Nota Média')\n",
        "plt.show()"
      ],
      "execution_count": null,
      "outputs": [
        {
          "output_type": "stream",
          "name": "stderr",
          "text": [
            "/usr/local/lib/python3.7/dist-packages/seaborn/categorical.py:1296: UserWarning: 30.1% of the points cannot be placed; you may want to decrease the size of the markers or use stripplot.\n",
            "  warnings.warn(msg, UserWarning)\n"
          ]
        },
        {
          "output_type": "display_data",
          "data": {
            "image/png": "[encoded data removed]",
            "text/plain": [
              "<Figure size 432x288 with 1 Axes>"
            ]
          },
          "metadata": {
            "needs_background": "light"
          }
        }
      ]
    },
    {
      "cell_type": "code",
      "metadata": {
        "colab": {
          "base_uri": "https://localhost:8080/",
          "height": 417
        },
        "id": "_LKkaAMquTI8",
        "outputId": "44da364c-5848-45d5-e113-ce5ef7c39e21"
      },
      "source": [
        "#Qualidade da relação familiar\n",
        "ax = sns.swarmplot(x=df['famrel'], y=df['media'])\n",
        "ax.set_title('Qualidade da relação familiar em relação as notas média')\n",
        "ax.set_xlabel('Grau de qualidade do relacionamento familiar')\n",
        "ax.set_ylabel('Média das notas')\n",
        "plt.show()"
      ],
      "execution_count": null,
      "outputs": [
        {
          "output_type": "stream",
          "name": "stderr",
          "text": [
            "/usr/local/lib/python3.7/dist-packages/seaborn/categorical.py:1296: UserWarning: 5.9% of the points cannot be placed; you may want to decrease the size of the markers or use stripplot.\n",
            "  warnings.warn(msg, UserWarning)\n",
            "/usr/local/lib/python3.7/dist-packages/seaborn/categorical.py:1296: UserWarning: 44.5% of the points cannot be placed; you may want to decrease the size of the markers or use stripplot.\n",
            "  warnings.warn(msg, UserWarning)\n",
            "/usr/local/lib/python3.7/dist-packages/seaborn/categorical.py:1296: UserWarning: 17.8% of the points cannot be placed; you may want to decrease the size of the markers or use stripplot.\n",
            "  warnings.warn(msg, UserWarning)\n"
          ]
        },
        {
          "output_type": "display_data",
          "data": {
            "image/png": "[encoded data removed]",
            "text/plain": [
              "<Figure size 432x288 with 1 Axes>"
            ]
          },
          "metadata": {
            "needs_background": "light"
          }
        }
      ]
    },
    {
      "cell_type": "markdown",
      "metadata": {
        "id": "r8bI7iTsuiAn"
      },
      "source": [
        "A maioria das famílias tem 3 membros ou mais, porém isso não parece ter efeito nas notas dos alunos.\n",
        "\n",
        "Podemos notar notas ligeiramente maiores quando o nível de educação dos pais é maior também.\n",
        "\n",
        "Analisando em conjunto os gráficos acima, podemos notar que grande parte dos estudantes moram com ambos os pais, e que eles tem um bom relacionament familiar. Contudo, isso não parece afetar as notas deles."
      ]
    },
    {
      "cell_type": "code",
      "metadata": {
        "colab": {
          "base_uri": "https://localhost:8080/",
          "height": 296
        },
        "id": "g5QHfbgrvQyW",
        "outputId": "5dd18410-7d1d-49d3-c536-3e511a689232"
      },
      "source": [
        "#Análise do deslocamento dos estudantes\n",
        "ax = sns.boxplot(x='traveltime', y='media',hue='address', data=df)\n",
        "ax.set_title('Endereço e tempo de deslocamento')\n",
        "ax.set_xlabel('Tempo de deslocamento (1: até 15min, 2: 15min à 30min, 3: 30min à 1h, 4: acima de 1h)')\n",
        "ax.set_ylabel('Média de Notas')\n",
        "plt.show()"
      ],
      "execution_count": null,
      "outputs": [
        {
          "output_type": "display_data",
          "data": {
            "image/png": "[encoded data removed]",
            "text/plain": [
              "<Figure size 432x288 with 1 Axes>"
            ]
          },
          "metadata": {
            "needs_background": "light"
          }
        }
      ]
    },
    {
      "cell_type": "markdown",
      "metadata": {
        "id": "1IweJOarvvRa"
      },
      "source": [
        "Estudantes que moram a mais de uma hora de distância da escola tem média menor que os demais.\n",
        "\n",
        "Estudantes que moram na zona urbana tem uma nota média maior em relação aos que moram na zona rural."
      ]
    },
    {
      "cell_type": "markdown",
      "metadata": {
        "id": "NUnk5eWro4nU"
      },
      "source": [
        "##Análise dos Dados de Performance"
      ]
    },
    {
      "cell_type": "code",
      "metadata": {
        "colab": {
          "base_uri": "https://localhost:8080/",
          "height": 311
        },
        "id": "jSlNOzmHxyKT",
        "outputId": "88b68f97-89a2-4d33-b4b0-58105d330f01"
      },
      "source": [
        "g = sns.catplot(x=\"sex\", col=\"aprovado\",\n",
        "                 data=df, kind=\"count\",\n",
        "                 height=4, aspect=.7);"
      ],
      "execution_count": null,
      "outputs": [
        {
          "output_type": "display_data",
          "data": {
            "image/png": "[encoded data removed]",
            "text/plain": [
              "<Figure size 403.2x288 with 2 Axes>"
            ]
          },
          "metadata": {
            "needs_background": "light"
          }
        }
      ]
    },
    {
      "cell_type": "code",
      "metadata": {
        "colab": {
          "base_uri": "https://localhost:8080/",
          "height": 295
        },
        "id": "Vz74BgnQTt_P",
        "outputId": "f8a1c4dd-6a44-400f-d670-060b82fa5a2d"
      },
      "source": [
        "#Análise da distribuição de notas médias dos estudantes\n",
        "plt.hist(df['media'], bins=20, range=[0,20])\n",
        "plt.title('Distribuição das Notas (Médias)')\n",
        "plt.xlabel('Média')\n",
        "plt.ylabel('Quantidade')\n",
        "plt.show()"
      ],
      "execution_count": null,
      "outputs": [
        {
          "output_type": "display_data",
          "data": {
            "image/png": "[encoded data removed]",
            "text/plain": [
              "<Figure size 432x288 with 1 Axes>"
            ]
          },
          "metadata": {
            "needs_background": "light"
          }
        }
      ]
    },
    {
      "cell_type": "code",
      "metadata": {
        "id": "JsXq70uio8X9",
        "colab": {
          "base_uri": "https://localhost:8080/",
          "height": 295
        },
        "outputId": "defebdc4-6049-43cf-eafc-21e2dc90a1ac"
      },
      "source": [
        "#Análise entre a frequência que o aluno sai com os amigos e notas médias\n",
        "ax = sns.boxplot(x=df['goout'],y=df['media'])\n",
        "ax.set_title('Estudantes que saem com amigos x média das notas')\n",
        "ax.set_xlabel('Qtd de vezes que sai')\n",
        "ax.set_ylabel('Média das notas')\n",
        "plt.show()"
      ],
      "execution_count": null,
      "outputs": [
        {
          "output_type": "display_data",
          "data": {
            "image/png": "[encoded data removed]",
            "text/plain": [
              "<Figure size 432x288 with 1 Axes>"
            ]
          },
          "metadata": {
            "needs_background": "light"
          }
        }
      ]
    },
    {
      "cell_type": "code",
      "metadata": {
        "colab": {
          "base_uri": "https://localhost:8080/",
          "height": 451
        },
        "id": "4j8gyJ2iSxec",
        "outputId": "20dcaa7c-dcb3-4831-9069-4ec4c0e7e38a"
      },
      "source": [
        "#Análise do consumo de álcool\n",
        "\n",
        "#Vamos juntar as colunas \"dalc\" e \"walc\", \n",
        "#que representam consumo de álcool durante a semana e aos finais de semana, respectivamente\n",
        "alc = df['Dalc'] + df['Walc'] \n",
        "\n",
        "#Plot do Gráfico\n",
        "ax = sns.swarmplot(x=alc,y=df['media'])\n",
        "ax.set_title('Consumo de Alcool (Dias Úteis + Finais de Semana)')\n",
        "ax.set_xlabel('Escala de Consumo')\n",
        "ax.set_ylabel('Média das Notas')\n",
        "plt.show()"
      ],
      "execution_count": null,
      "outputs": [
        {
          "output_type": "stream",
          "name": "stderr",
          "text": [
            "/usr/local/lib/python3.7/dist-packages/seaborn/categorical.py:1296: UserWarning: 53.9% of the points cannot be placed; you may want to decrease the size of the markers or use stripplot.\n",
            "  warnings.warn(msg, UserWarning)\n",
            "/usr/local/lib/python3.7/dist-packages/seaborn/categorical.py:1296: UserWarning: 25.0% of the points cannot be placed; you may want to decrease the size of the markers or use stripplot.\n",
            "  warnings.warn(msg, UserWarning)\n",
            "/usr/local/lib/python3.7/dist-packages/seaborn/categorical.py:1296: UserWarning: 19.2% of the points cannot be placed; you may want to decrease the size of the markers or use stripplot.\n",
            "  warnings.warn(msg, UserWarning)\n",
            "/usr/local/lib/python3.7/dist-packages/seaborn/categorical.py:1296: UserWarning: 14.0% of the points cannot be placed; you may want to decrease the size of the markers or use stripplot.\n",
            "  warnings.warn(msg, UserWarning)\n"
          ]
        },
        {
          "output_type": "display_data",
          "data": {
            "image/png": "[encoded data removed]",
            "text/plain": [
              "<Figure size 432x288 with 1 Axes>"
            ]
          },
          "metadata": {
            "needs_background": "light"
          }
        }
      ]
    },
    {
      "cell_type": "markdown",
      "metadata": {
        "id": "tMcVK9lQwbVT"
      },
      "source": [
        "Não parece haver uma correlação entre a quantidade de vezes que o aluno sai, com suas as médias - uma vez que os extremos tem medianas semelhantes.\n",
        "\n",
        "O consumo exagerado de álcool (grau 6 em diante) resulta em notas médias menores."
      ]
    },
    {
      "cell_type": "code",
      "metadata": {
        "colab": {
          "base_uri": "https://localhost:8080/",
          "height": 295
        },
        "id": "8tClTLk5Ss_9",
        "outputId": "099be33f-dc4d-4141-d01f-c69c30268554"
      },
      "source": [
        "#Análise se o desejo de ingressar na faculdade tem impacto nas notas\n",
        "ax= sns.boxplot(x=df['higher'],y=df['media'])\n",
        "ax.set_title('Estudantes que desejam cursar ensino superior')\n",
        "ax.set_xlabel('Desejo de ingressar na faculdade')\n",
        "ax.set_ylabel('Média das notas')\n",
        "plt.show()"
      ],
      "execution_count": null,
      "outputs": [
        {
          "output_type": "display_data",
          "data": {
            "image/png": "[encoded data removed]",
            "text/plain": [
              "<Figure size 432x288 with 1 Axes>"
            ]
          },
          "metadata": {
            "needs_background": "light"
          }
        }
      ]
    },
    {
      "cell_type": "code",
      "metadata": {
        "colab": {
          "base_uri": "https://localhost:8080/",
          "height": 349
        },
        "id": "Zx6cV22gyQAO",
        "outputId": "ee8cd289-c4e7-4504-8a4f-f5764ffdf25d"
      },
      "source": [
        "ax= sns.swarmplot(x=df['internet'],y=df['media'])\n",
        "ax.set_title('Análise de Acesso à Internet')\n",
        "ax.set_xlabel('Tem acesso?')\n",
        "ax.set_ylabel('Média')\n",
        "plt.show()\n",
        "\n",
        "#ax= sns.boxplot(x=df['internet'],y=df['media'])\n",
        "#ax.set_title('Análise de Acesso à Internet')\n",
        "#ax.set_xlabel('Tem acesso?')\n",
        "#ax.set_ylabel('Média das notas')\n",
        "#plt.show()"
      ],
      "execution_count": null,
      "outputs": [
        {
          "output_type": "stream",
          "name": "stderr",
          "text": [
            "/usr/local/lib/python3.7/dist-packages/seaborn/categorical.py:1296: UserWarning: 22.1% of the points cannot be placed; you may want to decrease the size of the markers or use stripplot.\n",
            "  warnings.warn(msg, UserWarning)\n"
          ]
        },
        {
          "output_type": "display_data",
          "data": {
            "image/png": "[encoded data removed]",
            "text/plain": [
              "<Figure size 432x288 with 1 Axes>"
            ]
          },
          "metadata": {
            "needs_background": "light"
          }
        }
      ]
    },
    {
      "cell_type": "markdown",
      "metadata": {
        "id": "owavI8jiweOR"
      },
      "source": [
        "Estudantes que desejam ingressar na universidade tem notas médias consideravelmente maiores.\n",
        "\n",
        "Há mais alunos com acesso à internet, contudo parece não haver um impacto alto nas médias das notas. "
      ]
    },
    {
      "cell_type": "code",
      "metadata": {
        "colab": {
          "base_uri": "https://localhost:8080/",
          "height": 295
        },
        "id": "NC7OdCmewHpy",
        "outputId": "947c3109-715d-4d46-a979-d6e28a8fd87b"
      },
      "source": [
        "#Impacto do tempo livre x atividades em relação à média\n",
        "b = sns.boxplot(x=df['freetime'], hue=df['activities'], y=df['media'])\n",
        "b.set_title('Tempo livre e Atividades Extracurriculares')\n",
        "b.set_xlabel('Tempo Livre')\n",
        "b.set_ylabel('Média de Notas')\n",
        "plt.show()"
      ],
      "execution_count": null,
      "outputs": [
        {
          "output_type": "display_data",
          "data": {
            "image/png": "[encoded data removed]",
            "text/plain": [
              "<Figure size 432x288 with 1 Axes>"
            ]
          },
          "metadata": {
            "needs_background": "light"
          }
        }
      ]
    },
    {
      "cell_type": "code",
      "metadata": {
        "colab": {
          "base_uri": "https://localhost:8080/",
          "height": 349
        },
        "id": "NZg3o_RKxk4Q",
        "outputId": "b7df9d89-19ee-4ace-e2cf-e5285cd0973a"
      },
      "source": [
        "#Impacto dos relacionamentos românticos\n",
        "ax = sns.swarmplot(x=df['romantic'],y=df['media'])\n",
        "ax.set_title('Estudantes que namoram')\n",
        "ax.set_xlabel('Namora?')\n",
        "ax.set_ylabel('Média das Notas')\n",
        "plt.show()"
      ],
      "execution_count": null,
      "outputs": [
        {
          "output_type": "stream",
          "name": "stderr",
          "text": [
            "/usr/local/lib/python3.7/dist-packages/seaborn/categorical.py:1296: UserWarning: 18.8% of the points cannot be placed; you may want to decrease the size of the markers or use stripplot.\n",
            "  warnings.warn(msg, UserWarning)\n"
          ]
        },
        {
          "output_type": "display_data",
          "data": {
            "image/png": "[encoded data removed]",
            "text/plain": [
              "<Figure size 432x288 with 1 Axes>"
            ]
          },
          "metadata": {
            "needs_background": "light"
          }
        }
      ]
    },
    {
      "cell_type": "markdown",
      "metadata": {
        "id": "J4P7bvm2x4_g"
      },
      "source": [
        "Tempo livre e atividades extracurriculares não tem grande impacto impacto nas médias.\n",
        "\n",
        "Estudantes que namoram tem médias ligeramente menores do que aqueles que não namoram."
      ]
    },
    {
      "cell_type": "code",
      "metadata": {
        "colab": {
          "base_uri": "https://localhost:8080/",
          "height": 519
        },
        "id": "N-tQt_HSwyuy",
        "outputId": "8f1d02f4-2f05-4edf-85a4-7d1bda58460c"
      },
      "source": [
        "#Faltas\n",
        "ax= sns.swarmplot(x=df['absences'],y=df['media'])\n",
        "ax.set_title('Efeito das faltas nas notas')\n",
        "ax.set_xlabel('Qtd de faltas')\n",
        "ax.set_ylabel('Média das Notas')\n",
        "plt.show()"
      ],
      "execution_count": null,
      "outputs": [
        {
          "output_type": "stream",
          "name": "stderr",
          "text": [
            "/usr/local/lib/python3.7/dist-packages/seaborn/categorical.py:1296: UserWarning: 73.8% of the points cannot be placed; you may want to decrease the size of the markers or use stripplot.\n",
            "  warnings.warn(msg, UserWarning)\n",
            "/usr/local/lib/python3.7/dist-packages/seaborn/categorical.py:1296: UserWarning: 60.9% of the points cannot be placed; you may want to decrease the size of the markers or use stripplot.\n",
            "  warnings.warn(msg, UserWarning)\n",
            "/usr/local/lib/python3.7/dist-packages/seaborn/categorical.py:1296: UserWarning: 57.0% of the points cannot be placed; you may want to decrease the size of the markers or use stripplot.\n",
            "  warnings.warn(msg, UserWarning)\n",
            "/usr/local/lib/python3.7/dist-packages/seaborn/categorical.py:1296: UserWarning: 28.6% of the points cannot be placed; you may want to decrease the size of the markers or use stripplot.\n",
            "  warnings.warn(msg, UserWarning)\n",
            "/usr/local/lib/python3.7/dist-packages/seaborn/categorical.py:1296: UserWarning: 9.5% of the points cannot be placed; you may want to decrease the size of the markers or use stripplot.\n",
            "  warnings.warn(msg, UserWarning)\n",
            "/usr/local/lib/python3.7/dist-packages/seaborn/categorical.py:1296: UserWarning: 10.0% of the points cannot be placed; you may want to decrease the size of the markers or use stripplot.\n",
            "  warnings.warn(msg, UserWarning)\n"
          ]
        },
        {
          "output_type": "display_data",
          "data": {
            "image/png": "[encoded data removed]",
            "text/plain": [
              "<Figure size 432x288 with 1 Axes>"
            ]
          },
          "metadata": {
            "needs_background": "light"
          }
        }
      ]
    },
    {
      "cell_type": "markdown",
      "metadata": {
        "id": "rJ8i0Pl2QT68"
      },
      "source": [
        "Em geral, há uma tendência de que quanto mais o aluno falta, menores são suas médias."
      ]
    },
    {
      "cell_type": "code",
      "metadata": {
        "colab": {
          "base_uri": "https://localhost:8080/",
          "height": 295
        },
        "id": "nmbDzFZVxGFu",
        "outputId": "6380134c-44a3-41b2-fe30-f2b0e0f2dc18"
      },
      "source": [
        "#Análise do aluno repetente\n",
        "ax = sns.violinplot(x=df['failures'],y=df['media'])\n",
        "ax.set_title('Reprovações anteriores')\n",
        "ax.set_xlabel('Reprovação')\n",
        "ax.set_ylabel('Média de Notas')\n",
        "plt.show()"
      ],
      "execution_count": null,
      "outputs": [
        {
          "output_type": "display_data",
          "data": {
            "image/png": "[encoded data removed]",
            "text/plain": [
              "<Figure size 432x288 with 1 Axes>"
            ]
          },
          "metadata": {
            "needs_background": "light"
          }
        }
      ]
    },
    {
      "cell_type": "code",
      "metadata": {
        "colab": {
          "base_uri": "https://localhost:8080/",
          "height": 295
        },
        "id": "XFj7Ehsk_C9p",
        "outputId": "18492b11-b828-41f8-e998-01a06ad519d4"
      },
      "source": [
        "#Análise da distribuição de horas de estudo\n",
        "plt.hist(df['studytime'], bins=5, range=[0,6])\n",
        "plt.title('Distribuição de Horas de Estudo')\n",
        "plt.xlabel('Horas')\n",
        "plt.ylabel('Quantidade')\n",
        "plt.show()"
      ],
      "execution_count": null,
      "outputs": [
        {
          "output_type": "display_data",
          "data": {
            "image/png": "[encoded data removed]",
            "text/plain": [
              "<Figure size 432x288 with 1 Axes>"
            ]
          },
          "metadata": {
            "needs_background": "light"
          }
        }
      ]
    },
    {
      "cell_type": "code",
      "metadata": {
        "colab": {
          "base_uri": "https://localhost:8080/",
          "height": 295
        },
        "id": "LqVgJtR6_ciR",
        "outputId": "6c915136-b28d-44cf-bb6a-c0a53a54ae4e"
      },
      "source": [
        "ax= sns.boxplot(x=df['failures'],y=df['studytime'])\n",
        "ax.set_title('Análise de Reprovações x Tempo de Estudo')\n",
        "ax.set_xlabel('Quantidade de Reprovações')\n",
        "ax.set_ylabel('Tempo de Estudo')\n",
        "plt.show()"
      ],
      "execution_count": null,
      "outputs": [
        {
          "output_type": "display_data",
          "data": {
            "image/png": "[encoded data removed]",
            "text/plain": [
              "<Figure size 432x288 with 1 Axes>"
            ]
          },
          "metadata": {
            "needs_background": "light"
          }
        }
      ]
    },
    {
      "cell_type": "markdown",
      "metadata": {
        "id": "4a_HTS6QAPla"
      },
      "source": [
        "Em geral, os alunos estudam de 1 a 2 horas por dia.\n",
        "\n",
        "Alunos que estudam mais horas por dia tendem a reprovar menos."
      ]
    },
    {
      "cell_type": "markdown",
      "metadata": {
        "id": "VMpTo2yA6EWE"
      },
      "source": [
        "#MODELAGEM COM ESTATÍSTICA TRADICIONAL"
      ]
    },
    {
      "cell_type": "code",
      "metadata": {
        "id": "c6-nvaJ3V7bS",
        "colab": {
          "base_uri": "https://localhost:8080/",
          "height": 100
        },
        "outputId": "6e9a10ae-0244-4292-d314-db23a0f97f3e"
      },
      "source": [
        "#one-hot encoding nas variaveis categoricas\n",
        "\n",
        "df_ohe = pd.get_dummies(df, columns = \n",
        "[\n",
        "    'sex',\n",
        "    'school',\n",
        "    'address',\n",
        "    'famsize',\n",
        "    'Pstatus',\n",
        "    'Mjob',\n",
        "    'Fjob',\n",
        "    'reason',\n",
        "    'guardian',\n",
        "    'schoolsup',\n",
        "    'famsup',\n",
        "    'paid',\n",
        "    'activities',\n",
        "    'nursery',\n",
        "    'higher',\n",
        "    'internet',\n",
        "    'romantic'\n",
        "])\n",
        "df_ohe.head(1)"
      ],
      "execution_count": null,
      "outputs": [
        {
          "output_type": "execute_result",
          "data": {
            "text/html": [
              "<div>\n",
              "<style scoped>\n",
              "    .dataframe tbody tr th:only-of-type {\n",
              "        vertical-align: middle;\n",
              "    }\n",
              "\n",
              "    .dataframe tbody tr th {\n",
              "        vertical-align: top;\n",
              "    }\n",
              "\n",
              "    .dataframe thead th {\n",
              "        text-align: right;\n",
              "    }\n",
              "</style>\n",
              "<table border=\"1\" class=\"dataframe\">\n",
              "  <thead>\n",
              "    <tr style=\"text-align: right;\">\n",
              "      <th></th>\n",
              "      <th>age</th>\n",
              "      <th>Medu</th>\n",
              "      <th>Fedu</th>\n",
              "      <th>traveltime</th>\n",
              "      <th>studytime</th>\n",
              "      <th>failures</th>\n",
              "      <th>famrel</th>\n",
              "      <th>freetime</th>\n",
              "      <th>goout</th>\n",
              "      <th>Dalc</th>\n",
              "      <th>Walc</th>\n",
              "      <th>health</th>\n",
              "      <th>absences</th>\n",
              "      <th>G1</th>\n",
              "      <th>G2</th>\n",
              "      <th>G3</th>\n",
              "      <th>media</th>\n",
              "      <th>aprovado</th>\n",
              "      <th>sex_F</th>\n",
              "      <th>sex_M</th>\n",
              "      <th>school_GP</th>\n",
              "      <th>school_MS</th>\n",
              "      <th>address_R</th>\n",
              "      <th>address_U</th>\n",
              "      <th>famsize_GT3</th>\n",
              "      <th>famsize_LE3</th>\n",
              "      <th>Pstatus_A</th>\n",
              "      <th>Pstatus_T</th>\n",
              "      <th>Mjob_at_home</th>\n",
              "      <th>Mjob_health</th>\n",
              "      <th>Mjob_other</th>\n",
              "      <th>Mjob_services</th>\n",
              "      <th>Mjob_teacher</th>\n",
              "      <th>Fjob_at_home</th>\n",
              "      <th>Fjob_health</th>\n",
              "      <th>Fjob_other</th>\n",
              "      <th>Fjob_services</th>\n",
              "      <th>Fjob_teacher</th>\n",
              "      <th>reason_course</th>\n",
              "      <th>reason_home</th>\n",
              "      <th>reason_other</th>\n",
              "      <th>reason_reputation</th>\n",
              "      <th>guardian_father</th>\n",
              "      <th>guardian_mother</th>\n",
              "      <th>guardian_other</th>\n",
              "      <th>schoolsup_no</th>\n",
              "      <th>schoolsup_yes</th>\n",
              "      <th>famsup_no</th>\n",
              "      <th>famsup_yes</th>\n",
              "      <th>paid_no</th>\n",
              "      <th>paid_yes</th>\n",
              "      <th>activities_no</th>\n",
              "      <th>activities_yes</th>\n",
              "      <th>nursery_no</th>\n",
              "      <th>nursery_yes</th>\n",
              "      <th>higher_no</th>\n",
              "      <th>higher_yes</th>\n",
              "      <th>internet_no</th>\n",
              "      <th>internet_yes</th>\n",
              "      <th>romantic_no</th>\n",
              "      <th>romantic_yes</th>\n",
              "    </tr>\n",
              "  </thead>\n",
              "  <tbody>\n",
              "    <tr>\n",
              "      <th>0</th>\n",
              "      <td>18</td>\n",
              "      <td>4</td>\n",
              "      <td>4</td>\n",
              "      <td>2</td>\n",
              "      <td>2</td>\n",
              "      <td>0</td>\n",
              "      <td>4</td>\n",
              "      <td>3</td>\n",
              "      <td>4</td>\n",
              "      <td>1</td>\n",
              "      <td>1</td>\n",
              "      <td>3</td>\n",
              "      <td>4</td>\n",
              "      <td>0</td>\n",
              "      <td>11</td>\n",
              "      <td>11</td>\n",
              "      <td>7.33</td>\n",
              "      <td>0</td>\n",
              "      <td>1</td>\n",
              "      <td>0</td>\n",
              "      <td>1</td>\n",
              "      <td>0</td>\n",
              "      <td>0</td>\n",
              "      <td>1</td>\n",
              "      <td>1</td>\n",
              "      <td>0</td>\n",
              "      <td>1</td>\n",
              "      <td>0</td>\n",
              "      <td>1</td>\n",
              "      <td>0</td>\n",
              "      <td>0</td>\n",
              "      <td>0</td>\n",
              "      <td>0</td>\n",
              "      <td>0</td>\n",
              "      <td>0</td>\n",
              "      <td>0</td>\n",
              "      <td>0</td>\n",
              "      <td>1</td>\n",
              "      <td>1</td>\n",
              "      <td>0</td>\n",
              "      <td>0</td>\n",
              "      <td>0</td>\n",
              "      <td>0</td>\n",
              "      <td>1</td>\n",
              "      <td>0</td>\n",
              "      <td>0</td>\n",
              "      <td>1</td>\n",
              "      <td>1</td>\n",
              "      <td>0</td>\n",
              "      <td>1</td>\n",
              "      <td>0</td>\n",
              "      <td>1</td>\n",
              "      <td>0</td>\n",
              "      <td>0</td>\n",
              "      <td>1</td>\n",
              "      <td>0</td>\n",
              "      <td>1</td>\n",
              "      <td>1</td>\n",
              "      <td>0</td>\n",
              "      <td>1</td>\n",
              "      <td>0</td>\n",
              "    </tr>\n",
              "  </tbody>\n",
              "</table>\n",
              "</div>"
            ],
            "text/plain": [
              "   age  Medu  Fedu  ...  internet_yes  romantic_no  romantic_yes\n",
              "0   18     4     4  ...             0            1             0\n",
              "\n",
              "[1 rows x 61 columns]"
            ]
          },
          "metadata": {},
          "execution_count": 12
        }
      ]
    },
    {
      "cell_type": "code",
      "metadata": {
        "id": "SuYf6WImbBKL"
      },
      "source": [
        "#Função que retorna as variáveis mais significativas dado um modelo e um p-valor\n",
        "def filtro_pvalor(resultados,valor):\n",
        "    stat_df = pd.DataFrame({'coefficients':resultados.params, \n",
        "                            'p-value': resultados.pvalues, \n",
        "                            'odds_ratio': np.exp(resultados.params)\n",
        "                            })\n",
        "\n",
        "    significant_params = stat_df[stat_df['p-value']<=valor].index\n",
        "    return significant_params"
      ],
      "execution_count": null,
      "outputs": []
    },
    {
      "cell_type": "markdown",
      "metadata": {
        "id": "_C6uvr3mQxOr"
      },
      "source": [
        "##Regressão Linear SIMPLES"
      ]
    },
    {
      "cell_type": "code",
      "metadata": {
        "colab": {
          "base_uri": "https://localhost:8080/",
          "height": 295
        },
        "id": "M7jaNUiHQ1W2",
        "outputId": "d7154a01-3114-4eed-afbf-d20c43f77614"
      },
      "source": [
        "#Comportamento da média em relação a G3\n",
        "plt.figure(figsize = (8,4))\n",
        "plt.scatter(\n",
        "    df['G3'],\n",
        "    df['media'], \n",
        "    c='red')\n",
        "plt.title('Comportamento de G3 em Relação a Média')\n",
        "plt.xlabel(\"Nota final G3\")\n",
        "plt.ylabel(\"Média do Aluno\")\n",
        "plt.show()"
      ],
      "execution_count": null,
      "outputs": [
        {
          "output_type": "display_data",
          "data": {
            "image/png": "[encoded data removed]",
            "text/plain": [
              "<Figure size 576x288 with 1 Axes>"
            ]
          },
          "metadata": {
            "needs_background": "light"
          }
        }
      ]
    },
    {
      "cell_type": "code",
      "metadata": {
        "colab": {
          "base_uri": "https://localhost:8080/"
        },
        "id": "UyRRiszoRoIk",
        "outputId": "3699c9de-a5ea-4133-8128-963fc44e7336"
      },
      "source": [
        "#Cálculo da equação do modelo\n",
        "\n",
        "X_RLS = df['G3'].values.reshape(-1,1)\n",
        "y_RLS = df['media'].values.reshape(-1,1)\n",
        "\n",
        "X_RLS = sm.add_constant(X_RLS)\n",
        "reg_sim = sm.OLS(y_RLS, X_RLS)\n",
        "resultado_RLS = reg_sim.fit()\n",
        "\n",
        "print(\"A equação do modelo é = {:.5} + ({:.5} * X)\".format(resultado_RLS.params[0], resultado_RLS.params[1]))"
      ],
      "execution_count": null,
      "outputs": [
        {
          "output_type": "stream",
          "name": "stdout",
          "text": [
            "A equação do modelo é = 1.5821 + (0.84353 * X)\n"
          ]
        }
      ]
    },
    {
      "cell_type": "code",
      "metadata": {
        "colab": {
          "base_uri": "https://localhost:8080/",
          "height": 295
        },
        "id": "zdLvfONNR31p",
        "outputId": "eb22da8c-eb55-400c-d981-493d6535b59d"
      },
      "source": [
        "predict_RLS = resultado_RLS.predict(X_RLS)\n",
        "\n",
        "plt.figure(figsize = (8,4))\n",
        "plt.scatter(\n",
        "    df['G3'], \n",
        "    df['media'], \n",
        "    c='red')\n",
        "\n",
        "plt.plot(\n",
        "    df['G3'],\n",
        "    predict_RLS,\n",
        "    c='blue',\n",
        "    linewidth=3,\n",
        "    linestyle=':'\n",
        ")\n",
        "\n",
        "plt.title('Equação da Regressão Linear Simples')\n",
        "plt.xlabel(\"Nota final G3\")\n",
        "plt.ylabel(\"Média do Aluno\")\n",
        "plt.show()"
      ],
      "execution_count": null,
      "outputs": [
        {
          "output_type": "display_data",
          "data": {
            "image/png": "[encoded data removed]",
            "text/plain": [
              "<Figure size 576x288 with 1 Axes>"
            ]
          },
          "metadata": {
            "needs_background": "light"
          }
        }
      ]
    },
    {
      "cell_type": "code",
      "metadata": {
        "id": "m9W3fEG_SU5w",
        "colab": {
          "base_uri": "https://localhost:8080/"
        },
        "outputId": "8b6175b6-7d41-4ab9-c529-7dd93b53d4db"
      },
      "source": [
        "#Avaliação do modelo\n",
        "X_RLS = df['G3']\n",
        "y_RLS = df['media']\n",
        "\n",
        "X_RLS = sm.add_constant(X_RLS)\n",
        "modelo_RLS = sm.OLS(y_RLS, X_RLS)\n",
        "resultado_RLS = modelo_RLS.fit()\n",
        "print(resultado_RLS.summary())"
      ],
      "execution_count": null,
      "outputs": [
        {
          "output_type": "stream",
          "name": "stdout",
          "text": [
            "                            OLS Regression Results                            \n",
            "==============================================================================\n",
            "Dep. Variable:                  media   R-squared:                       0.925\n",
            "Model:                            OLS   Adj. R-squared:                  0.925\n",
            "Method:                 Least Squares   F-statistic:                     7992.\n",
            "Date:                Mon, 06 Sep 2021   Prob (F-statistic):               0.00\n",
            "Time:                        12:48:45   Log-Likelihood:                -755.28\n",
            "No. Observations:                 649   AIC:                             1515.\n",
            "Df Residuals:                     647   BIC:                             1524.\n",
            "Df Model:                           1                                         \n",
            "Covariance Type:            nonrobust                                         \n",
            "==============================================================================\n",
            "                 coef    std err          t      P>|t|      [0.025      0.975]\n",
            "------------------------------------------------------------------------------\n",
            "const          1.5821      0.116     13.592      0.000       1.354       1.811\n",
            "G3             0.8435      0.009     89.399      0.000       0.825       0.862\n",
            "==============================================================================\n",
            "Omnibus:                      191.029   Durbin-Watson:                   1.733\n",
            "Prob(Omnibus):                  0.000   Jarque-Bera (JB):             1463.632\n",
            "Skew:                           1.091   Prob(JB):                         0.00\n",
            "Kurtosis:                      10.026   Cond. No.                         47.4\n",
            "==============================================================================\n",
            "\n",
            "Warnings:\n",
            "[1] Standard Errors assume that the covariance matrix of the errors is correctly specified.\n"
          ]
        }
      ]
    },
    {
      "cell_type": "code",
      "metadata": {
        "colab": {
          "base_uri": "https://localhost:8080/"
        },
        "id": "UxM3PpSv47q1",
        "outputId": "2937236b-e41e-4537-b4da-0bf3136fee36"
      },
      "source": [
        "y_pred_RLS = resultado_RLS.predict(X_RLS)\n",
        "\n",
        "MAE = metrics.mean_absolute_error(y_RLS, y_pred_RLS)\n",
        "RMSE = np.sqrt(metrics.mean_squared_error(y_RLS, y_pred_RLS))\n",
        "\n",
        "print(\"RMSE:\",round(RMSE,2))\n",
        "print(\"MAE: \",round(MAE,2))"
      ],
      "execution_count": null,
      "outputs": [
        {
          "output_type": "stream",
          "name": "stdout",
          "text": [
            "RMSE: 0.77\n",
            "MAE:  0.55\n"
          ]
        }
      ]
    },
    {
      "cell_type": "markdown",
      "metadata": {
        "id": "PZM4jre3Sp2g"
      },
      "source": [
        "**Teste de Hipóteses**\n",
        "\n",
        "* Hipótese Nula: Não existe relação entre G3 e Média\n",
        "* Hipótese Alternativa: Existe relação entre G3 e Média\n",
        "\n",
        "Quando analisamos o `p-valor` observamos que está abaixo de 0.05, o que nos faz rejeitar a hipótese nula e **aceitar a hipótese alternativa**.\n",
        "\n",
        "Podemos observar que R2 = 0.925, ou seja, aproximadamente 92% do comportamento da variável `media` é explicado pela variável `G3`."
      ]
    },
    {
      "cell_type": "markdown",
      "metadata": {
        "id": "7y2aacSzTuR0"
      },
      "source": [
        "##Regressão Linear MÚLTIPLA"
      ]
    },
    {
      "cell_type": "markdown",
      "metadata": {
        "id": "TtgvyP21546j"
      },
      "source": [
        "Pela **regressão linear múltipla**, tentaremos prever a variável target `media` baseado nas variáveis com maior correlação encontradas na análise exploratória dos dados e também na análise do p-valor.\n",
        "\n",
        "**Teste de hipóteses**\n",
        "* Hipótese Nula: A variável não afeta a média das notas.\n",
        "* Hipótese Alternativa: A variável afeta a média das notas.\n",
        "\n",
        "Portanto, se a coluna mostrar um p-valor <= 0,05 rejeitaremos a hipótese nula e diremos que a variável afeta sim a média."
      ]
    },
    {
      "cell_type": "code",
      "metadata": {
        "id": "BrWqVOgK99eq"
      },
      "source": [
        "#não utilizaremos a variável aprovado para a regressão linear múltipla\n",
        "df_RLM = df_ohe.drop('aprovado', 1)"
      ],
      "execution_count": null,
      "outputs": []
    },
    {
      "cell_type": "code",
      "metadata": {
        "id": "uufDbuplYJDg",
        "colab": {
          "base_uri": "https://localhost:8080/"
        },
        "outputId": "e6c61c95-0de3-4cb6-df03-1dc66abb7c40"
      },
      "source": [
        "#vamos dropar a variavel target 'media'\n",
        "#e também as variáveis com multicolinearidade: 'G1' e 'G2'\n",
        "\n",
        "#variaveis independentes\n",
        "X_RLM = df_RLM.drop(['media','G1','G2'], 1)\n",
        "\n",
        "#variavel dependente\n",
        "y_RLM = df_RLM['media']\n",
        "\n",
        "#modelagem com StatsModels\n",
        "X_RLM = sm.add_constant(X_RLM)\n",
        "modelo_RLM = sm.OLS(y_RLM,X_RLM)\n",
        "resultados_RLM = modelo_RLM.fit()\n",
        "print(resultados_RLM.summary())"
      ],
      "execution_count": null,
      "outputs": [
        {
          "output_type": "stream",
          "name": "stdout",
          "text": [
            "                            OLS Regression Results                            \n",
            "==============================================================================\n",
            "Dep. Variable:                  media   R-squared:                       0.933\n",
            "Model:                            OLS   Adj. R-squared:                  0.928\n",
            "Method:                 Least Squares   F-statistic:                     211.2\n",
            "Date:                Mon, 06 Sep 2021   Prob (F-statistic):               0.00\n",
            "Time:                        12:48:45   Log-Likelihood:                -719.84\n",
            "No. Observations:                 649   AIC:                             1522.\n",
            "Df Residuals:                     608   BIC:                             1705.\n",
            "Df Model:                          40                                         \n",
            "Covariance Type:            nonrobust                                         \n",
            "=====================================================================================\n",
            "                        coef    std err          t      P>|t|      [0.025      0.975]\n",
            "-------------------------------------------------------------------------------------\n",
            "const                 0.2625      0.065      4.052      0.000       0.135       0.390\n",
            "age                  -0.0381      0.029     -1.309      0.191      -0.095       0.019\n",
            "Medu                  0.0609      0.043      1.414      0.158      -0.024       0.145\n",
            "Fedu                 -0.0122      0.039     -0.311      0.756      -0.089       0.065\n",
            "traveltime           -0.0776      0.045     -1.713      0.087      -0.166       0.011\n",
            "studytime             0.0569      0.040      1.420      0.156      -0.022       0.136\n",
            "failures             -0.0374      0.060     -0.620      0.535      -0.156       0.081\n",
            "famrel                0.0027      0.033      0.082      0.935      -0.062       0.068\n",
            "freetime              0.0131      0.032      0.408      0.683      -0.050       0.076\n",
            "goout                 0.0146      0.031      0.476      0.634      -0.045       0.075\n",
            "Dalc                 -0.0134      0.044     -0.308      0.758      -0.099       0.072\n",
            "Walc                  0.0023      0.034      0.070      0.945      -0.064       0.069\n",
            "health                0.0207      0.022      0.940      0.347      -0.023       0.064\n",
            "absences             -0.0191      0.007     -2.695      0.007      -0.033      -0.005\n",
            "G3                    0.8120      0.012     70.463      0.000       0.789       0.835\n",
            "sex_F                 0.1536      0.048      3.185      0.002       0.059       0.248\n",
            "sex_M                 0.1089      0.048      2.258      0.024       0.014       0.204\n",
            "school_GP             0.1971      0.050      3.914      0.000       0.098       0.296\n",
            "school_MS             0.0653      0.050      1.295      0.196      -0.034       0.164\n",
            "address_R             0.1488      0.050      2.963      0.003       0.050       0.247\n",
            "address_U             0.1137      0.049      2.343      0.019       0.018       0.209\n",
            "famsize_GT3           0.1020      0.047      2.180      0.030       0.010       0.194\n",
            "famsize_LE3           0.1605      0.048      3.316      0.001       0.065       0.256\n",
            "Pstatus_A             0.0894      0.059      1.516      0.130      -0.026       0.205\n",
            "Pstatus_T             0.1731      0.059      2.932      0.003       0.057       0.289\n",
            "Mjob_at_home          0.0333      0.078      0.427      0.669      -0.120       0.187\n",
            "Mjob_health           0.0076      0.102      0.075      0.940      -0.193       0.208\n",
            "Mjob_other            0.1337      0.059      2.261      0.024       0.018       0.250\n",
            "Mjob_services         0.0396      0.066      0.601      0.548      -0.090       0.169\n",
            "Mjob_teacher          0.0482      0.094      0.515      0.607      -0.136       0.232\n",
            "Fjob_at_home         -0.1832      0.112     -1.636      0.102      -0.403       0.037\n",
            "Fjob_health           0.0207      0.142      0.146      0.884      -0.258       0.300\n",
            "Fjob_other            0.0461      0.066      0.703      0.482      -0.083       0.175\n",
            "Fjob_services         0.0789      0.070      1.124      0.262      -0.059       0.217\n",
            "Fjob_teacher          0.2999      0.122      2.465      0.014       0.061       0.539\n",
            "reason_course        -0.0451      0.051     -0.891      0.373      -0.144       0.054\n",
            "reason_home           0.0492      0.060      0.826      0.409      -0.068       0.166\n",
            "reason_other          0.1554      0.078      2.000      0.046       0.003       0.308\n",
            "reason_reputation     0.1030      0.064      1.597      0.111      -0.024       0.230\n",
            "guardian_father       0.1647      0.064      2.585      0.010       0.040       0.290\n",
            "guardian_mother       0.0903      0.054      1.668      0.096      -0.016       0.197\n",
            "guardian_other        0.0075      0.102      0.073      0.941      -0.192       0.207\n",
            "schoolsup_no          0.2221      0.064      3.476      0.001       0.097       0.348\n",
            "schoolsup_yes         0.0404      0.059      0.684      0.494      -0.076       0.156\n",
            "famsup_no             0.1652      0.048      3.462      0.001       0.071       0.259\n",
            "famsup_yes            0.0973      0.044      2.216      0.027       0.011       0.184\n",
            "paid_no               0.1411      0.070      2.019      0.044       0.004       0.278\n",
            "paid_yes              0.1214      0.076      1.590      0.112      -0.029       0.271\n",
            "activities_no         0.1110      0.046      2.434      0.015       0.021       0.201\n",
            "activities_yes        0.1515      0.045      3.355      0.001       0.063       0.240\n",
            "nursery_no            0.1236      0.050      2.449      0.015       0.024       0.223\n",
            "nursery_yes           0.1389      0.050      2.760      0.006       0.040       0.238\n",
            "higher_no             0.0436      0.067      0.647      0.518      -0.089       0.176\n",
            "higher_yes            0.2189      0.061      3.606      0.000       0.100       0.338\n",
            "internet_no           0.1477      0.050      2.955      0.003       0.050       0.246\n",
            "internet_yes          0.1148      0.052      2.213      0.027       0.013       0.217\n",
            "romantic_no           0.1296      0.044      2.967      0.003       0.044       0.215\n",
            "romantic_yes          0.1329      0.048      2.755      0.006       0.038       0.228\n",
            "==============================================================================\n",
            "Omnibus:                      155.533   Durbin-Watson:                   1.771\n",
            "Prob(Omnibus):                  0.000   Jarque-Bera (JB):             1075.677\n",
            "Skew:                           0.875   Prob(JB):                    2.63e-234\n",
            "Kurtosis:                       9.059   Cond. No.                     8.20e+16\n",
            "==============================================================================\n",
            "\n",
            "Warnings:\n",
            "[1] Standard Errors assume that the covariance matrix of the errors is correctly specified.\n",
            "[2] The smallest eigenvalue is 5.06e-29. This might indicate that there are\n",
            "strong multicollinearity problems or that the design matrix is singular.\n"
          ]
        }
      ]
    },
    {
      "cell_type": "markdown",
      "metadata": {
        "id": "bolsZ7fyXZ4u"
      },
      "source": [
        "Vamos utilizar um intervalo de confiança de 50%, ou seja, manteremos apenas as variáveis com p-valor abaixo de 0.5"
      ]
    },
    {
      "cell_type": "code",
      "metadata": {
        "colab": {
          "base_uri": "https://localhost:8080/"
        },
        "id": "fCQBPwWvbiiq",
        "outputId": "1b7df673-9401-46db-df48-26b225609ce8"
      },
      "source": [
        "filtro_pvalor(resultados_RLM,0.5)"
      ],
      "execution_count": null,
      "outputs": [
        {
          "output_type": "execute_result",
          "data": {
            "text/plain": [
              "Index(['const', 'age', 'Medu', 'traveltime', 'studytime', 'health', 'absences',\n",
              "       'G3', 'sex_F', 'sex_M', 'school_GP', 'school_MS', 'address_R',\n",
              "       'address_U', 'famsize_GT3', 'famsize_LE3', 'Pstatus_A', 'Pstatus_T',\n",
              "       'Mjob_other', 'Fjob_at_home', 'Fjob_other', 'Fjob_services',\n",
              "       'Fjob_teacher', 'reason_course', 'reason_home', 'reason_other',\n",
              "       'reason_reputation', 'guardian_father', 'guardian_mother',\n",
              "       'schoolsup_no', 'schoolsup_yes', 'famsup_no', 'famsup_yes', 'paid_no',\n",
              "       'paid_yes', 'activities_no', 'activities_yes', 'nursery_no',\n",
              "       'nursery_yes', 'higher_yes', 'internet_no', 'internet_yes',\n",
              "       'romantic_no', 'romantic_yes'],\n",
              "      dtype='object')"
            ]
          },
          "metadata": {},
          "execution_count": 57
        }
      ]
    },
    {
      "cell_type": "code",
      "metadata": {
        "colab": {
          "base_uri": "https://localhost:8080/"
        },
        "id": "juzspQEuFfag",
        "outputId": "26b6201c-2393-41d4-a6b2-d78736c54ac0"
      },
      "source": [
        "#Refinamento do modelo\n",
        "X_RLM = df_RLM[\n",
        "    ['age', 'Medu', 'traveltime', 'studytime', 'health', 'absences',\n",
        "       'G3', 'sex_F', 'sex_M', 'school_GP', 'school_MS', 'address_R',\n",
        "       'address_U', 'famsize_GT3', 'famsize_LE3', 'Pstatus_A', 'Pstatus_T',\n",
        "       'Mjob_other', 'Fjob_at_home', 'Fjob_other', 'Fjob_services',\n",
        "       'Fjob_teacher', 'reason_course', 'reason_home', 'reason_other',\n",
        "       'reason_reputation', 'guardian_father', 'guardian_mother',\n",
        "       'schoolsup_no', 'schoolsup_yes', 'famsup_no', 'famsup_yes', 'paid_no',\n",
        "       'paid_yes', 'activities_no', 'activities_yes', 'nursery_no',\n",
        "       'nursery_yes', 'higher_yes', 'internet_no', 'internet_yes',\n",
        "       'romantic_no', 'romantic_yes'\n",
        "    ]\n",
        "]\n",
        "\n",
        "X_RLM = sm.add_constant(X_RLM)\n",
        "modelo_RLM = sm.OLS(y_RLM,X_RLM)\n",
        "resultados_RLM = modelo_RLM.fit()\n",
        "print(resultados_RLM.summary())"
      ],
      "execution_count": null,
      "outputs": [
        {
          "output_type": "stream",
          "name": "stdout",
          "text": [
            "                            OLS Regression Results                            \n",
            "==============================================================================\n",
            "Dep. Variable:                  media   R-squared:                       0.933\n",
            "Model:                            OLS   Adj. R-squared:                  0.929\n",
            "Method:                 Least Squares   F-statistic:                     285.6\n",
            "Date:                Mon, 06 Sep 2021   Prob (F-statistic):               0.00\n",
            "Time:                        12:48:45   Log-Likelihood:                -720.49\n",
            "No. Observations:                 649   AIC:                             1503.\n",
            "Df Residuals:                     618   BIC:                             1642.\n",
            "Df Model:                          30                                         \n",
            "Covariance Type:            nonrobust                                         \n",
            "=====================================================================================\n",
            "                        coef    std err          t      P>|t|      [0.025      0.975]\n",
            "-------------------------------------------------------------------------------------\n",
            "const                 0.2849      0.080      3.577      0.000       0.129       0.441\n",
            "age                  -0.0417      0.028     -1.510      0.132      -0.096       0.013\n",
            "Medu                  0.0554      0.032      1.739      0.082      -0.007       0.118\n",
            "traveltime           -0.0770      0.045     -1.726      0.085      -0.165       0.011\n",
            "studytime             0.0581      0.039      1.482      0.139      -0.019       0.135\n",
            "health                0.0213      0.021      0.995      0.320      -0.021       0.063\n",
            "absences             -0.0195      0.007     -2.846      0.005      -0.033      -0.006\n",
            "G3                    0.8134      0.011     74.808      0.000       0.792       0.835\n",
            "sex_F                 0.1655      0.053      3.117      0.002       0.061       0.270\n",
            "sex_M                 0.1194      0.051      2.339      0.020       0.019       0.220\n",
            "school_GP             0.2064      0.055      3.765      0.000       0.099       0.314\n",
            "school_MS             0.0785      0.056      1.413      0.158      -0.031       0.188\n",
            "address_R             0.1599      0.055      2.925      0.004       0.053       0.267\n",
            "address_U             0.1251      0.054      2.327      0.020       0.020       0.231\n",
            "famsize_GT3           0.1126      0.052      2.177      0.030       0.011       0.214\n",
            "famsize_LE3           0.1723      0.053      3.223      0.001       0.067       0.277\n",
            "Pstatus_A             0.0992      0.062      1.592      0.112      -0.023       0.222\n",
            "Pstatus_T             0.1857      0.063      2.929      0.004       0.061       0.310\n",
            "Mjob_other            0.1029      0.065      1.583      0.114      -0.025       0.231\n",
            "Fjob_at_home         -0.1858      0.204     -0.909      0.364      -0.587       0.216\n",
            "Fjob_other            0.0408      0.171      0.239      0.811      -0.294       0.376\n",
            "Fjob_services         0.0683      0.173      0.395      0.693      -0.272       0.408\n",
            "Fjob_teacher          0.2868      0.206      1.394      0.164      -0.117       0.691\n",
            "reason_course        -0.0399      0.051     -0.783      0.434      -0.140       0.060\n",
            "reason_home           0.0560      0.060      0.925      0.355      -0.063       0.175\n",
            "reason_other          0.1587      0.077      2.056      0.040       0.007       0.310\n",
            "reason_reputation     0.1102      0.064      1.714      0.087      -0.016       0.236\n",
            "guardian_father       0.1649      0.148      1.113      0.266      -0.126       0.456\n",
            "guardian_mother       0.1006      0.135      0.744      0.457      -0.165       0.366\n",
            "schoolsup_no          0.2357      0.068      3.477      0.001       0.103       0.369\n",
            "schoolsup_yes         0.0492      0.062      0.790      0.430      -0.073       0.172\n",
            "famsup_no             0.1771      0.054      3.295      0.001       0.072       0.283\n",
            "famsup_yes            0.1078      0.048      2.231      0.026       0.013       0.203\n",
            "paid_no               0.1596      0.072      2.220      0.027       0.018       0.301\n",
            "paid_yes              0.1253      0.079      1.578      0.115      -0.031       0.281\n",
            "activities_no         0.1193      0.051      2.331      0.020       0.019       0.220\n",
            "activities_yes        0.1657      0.050      3.317      0.001       0.068       0.264\n",
            "nursery_no            0.1326      0.055      2.404      0.016       0.024       0.241\n",
            "nursery_yes           0.1524      0.055      2.764      0.006       0.044       0.261\n",
            "higher_yes            0.1778      0.108      1.639      0.102      -0.035       0.391\n",
            "internet_no           0.1539      0.055      2.822      0.005       0.047       0.261\n",
            "internet_yes          0.1311      0.056      2.352      0.019       0.022       0.241\n",
            "romantic_no           0.1417      0.049      2.877      0.004       0.045       0.238\n",
            "romantic_yes          0.1432      0.053      2.700      0.007       0.039       0.247\n",
            "==============================================================================\n",
            "Omnibus:                      157.012   Durbin-Watson:                   1.760\n",
            "Prob(Omnibus):                  0.000   Jarque-Bera (JB):             1064.980\n",
            "Skew:                           0.892   Prob(JB):                    5.53e-232\n",
            "Kurtosis:                       9.017   Cond. No.                     8.08e+16\n",
            "==============================================================================\n",
            "\n",
            "Warnings:\n",
            "[1] Standard Errors assume that the covariance matrix of the errors is correctly specified.\n",
            "[2] The smallest eigenvalue is 4.73e-29. This might indicate that there are\n",
            "strong multicollinearity problems or that the design matrix is singular.\n"
          ]
        }
      ]
    },
    {
      "cell_type": "code",
      "metadata": {
        "colab": {
          "base_uri": "https://localhost:8080/"
        },
        "id": "ZCKUWQSGa-A8",
        "outputId": "db0909fb-055c-4e1f-c8f5-34c373ab2293"
      },
      "source": [
        "filtro_pvalor(resultados_RLM,0.1)"
      ],
      "execution_count": null,
      "outputs": [
        {
          "output_type": "execute_result",
          "data": {
            "text/plain": [
              "Index(['const', 'Medu', 'traveltime', 'absences', 'G3', 'sex_F', 'sex_M',\n",
              "       'school_GP', 'address_R', 'address_U', 'famsize_GT3', 'famsize_LE3',\n",
              "       'Pstatus_T', 'reason_other', 'reason_reputation', 'schoolsup_no',\n",
              "       'famsup_no', 'famsup_yes', 'paid_no', 'activities_no', 'activities_yes',\n",
              "       'nursery_no', 'nursery_yes', 'internet_no', 'internet_yes',\n",
              "       'romantic_no', 'romantic_yes'],\n",
              "      dtype='object')"
            ]
          },
          "metadata": {},
          "execution_count": 59
        }
      ]
    },
    {
      "cell_type": "code",
      "metadata": {
        "colab": {
          "base_uri": "https://localhost:8080/"
        },
        "id": "7edx1m9ocTIh",
        "outputId": "13671baf-49ae-4455-f9e7-23702bd9ae25"
      },
      "source": [
        "#Refinamento do modelo\n",
        "X_RLM = df_RLM[\n",
        "    ['age', 'Medu', 'traveltime', 'absences', 'G3', 'sex_F',\n",
        "       'sex_M', 'school_GP', 'school_MS', 'address_R', 'address_U',\n",
        "       'famsize_GT3', 'famsize_LE3', 'Pstatus_A', 'Pstatus_T', 'Mjob_other',\n",
        "       'Fjob_teacher', 'reason_other', 'schoolsup_no', 'famsup_no',\n",
        "       'famsup_yes', 'paid_no', 'paid_yes', 'activities_no', 'activities_yes',\n",
        "       'nursery_no', 'nursery_yes', 'higher_yes', 'internet_no',\n",
        "       'internet_yes', 'romantic_no', 'romantic_yes'\n",
        "    ]\n",
        "]\n",
        "\n",
        "X_RLM = sm.add_constant(X_RLM)\n",
        "modelo_RLM = sm.OLS(y_RLM,X_RLM)\n",
        "resultados_RLM = modelo_RLM.fit()\n",
        "print(resultados_RLM.summary())"
      ],
      "execution_count": null,
      "outputs": [
        {
          "output_type": "stream",
          "name": "stdout",
          "text": [
            "                            OLS Regression Results                            \n",
            "==============================================================================\n",
            "Dep. Variable:                  media   R-squared:                       0.931\n",
            "Model:                            OLS   Adj. R-squared:                  0.929\n",
            "Method:                 Least Squares   F-statistic:                     404.8\n",
            "Date:                Mon, 06 Sep 2021   Prob (F-statistic):               0.00\n",
            "Time:                        12:48:45   Log-Likelihood:                -727.21\n",
            "No. Observations:                 649   AIC:                             1498.\n",
            "Df Residuals:                     627   BIC:                             1597.\n",
            "Df Model:                          21                                         \n",
            "Covariance Type:            nonrobust                                         \n",
            "==================================================================================\n",
            "                     coef    std err          t      P>|t|      [0.025      0.975]\n",
            "----------------------------------------------------------------------------------\n",
            "const              0.3439      0.076      4.537      0.000       0.195       0.493\n",
            "age               -0.0469      0.026     -1.787      0.074      -0.099       0.005\n",
            "Medu               0.0632      0.031      2.009      0.045       0.001       0.125\n",
            "traveltime        -0.0827      0.044     -1.883      0.060      -0.169       0.004\n",
            "absences          -0.0218      0.007     -3.218      0.001      -0.035      -0.008\n",
            "G3                 0.8162      0.011     76.535      0.000       0.795       0.837\n",
            "sex_F              0.1950      0.051      3.807      0.000       0.094       0.296\n",
            "sex_M              0.1489      0.049      3.039      0.002       0.053       0.245\n",
            "school_GP          0.2555      0.053      4.841      0.000       0.152       0.359\n",
            "school_MS          0.0883      0.053      1.652      0.099      -0.017       0.193\n",
            "address_R          0.1960      0.053      3.675      0.000       0.091       0.301\n",
            "address_U          0.1479      0.052      2.859      0.004       0.046       0.249\n",
            "famsize_GT3        0.1387      0.050      2.751      0.006       0.040       0.238\n",
            "famsize_LE3        0.2051      0.052      3.949      0.000       0.103       0.307\n",
            "Pstatus_A          0.1218      0.063      1.948      0.052      -0.001       0.245\n",
            "Pstatus_T          0.2220      0.060      3.727      0.000       0.105       0.339\n",
            "Mjob_other         0.1183      0.063      1.877      0.061      -0.005       0.242\n",
            "Fjob_teacher       0.2376      0.137      1.737      0.083      -0.031       0.506\n",
            "reason_other       0.1597      0.098      1.626      0.104      -0.033       0.353\n",
            "schoolsup_no       0.1735      0.102      1.694      0.091      -0.028       0.375\n",
            "famsup_no          0.2049      0.052      3.975      0.000       0.104       0.306\n",
            "famsup_yes         0.1389      0.047      2.949      0.003       0.046       0.231\n",
            "paid_no            0.2024      0.070      2.897      0.004       0.065       0.340\n",
            "paid_yes           0.1414      0.079      1.801      0.072      -0.013       0.296\n",
            "activities_no      0.1464      0.049      2.961      0.003       0.049       0.244\n",
            "activities_yes     0.1974      0.048      4.105      0.000       0.103       0.292\n",
            "nursery_no         0.1605      0.055      2.939      0.003       0.053       0.268\n",
            "nursery_yes        0.1834      0.053      3.474      0.001       0.080       0.287\n",
            "higher_yes         0.2302      0.107      2.150      0.032       0.020       0.440\n",
            "internet_no        0.1736      0.052      3.312      0.001       0.071       0.276\n",
            "internet_yes       0.1703      0.055      3.113      0.002       0.063       0.278\n",
            "romantic_no        0.1739      0.046      3.750      0.000       0.083       0.265\n",
            "romantic_yes       0.1700      0.053      3.226      0.001       0.067       0.273\n",
            "==============================================================================\n",
            "Omnibus:                      154.490   Durbin-Watson:                   1.740\n",
            "Prob(Omnibus):                  0.000   Jarque-Bera (JB):             1045.847\n",
            "Skew:                           0.874   Prob(JB):                    7.89e-228\n",
            "Kurtosis:                       8.968   Cond. No.                     2.12e+17\n",
            "==============================================================================\n",
            "\n",
            "Warnings:\n",
            "[1] Standard Errors assume that the covariance matrix of the errors is correctly specified.\n",
            "[2] The smallest eigenvalue is 6.65e-30. This might indicate that there are\n",
            "strong multicollinearity problems or that the design matrix is singular.\n"
          ]
        }
      ]
    },
    {
      "cell_type": "code",
      "metadata": {
        "colab": {
          "base_uri": "https://localhost:8080/"
        },
        "id": "knROkdidcvfc",
        "outputId": "82a24889-5aab-40fe-97f6-097c2117d39e"
      },
      "source": [
        "filtro_pvalor(resultados_RLM,0.05)"
      ],
      "execution_count": null,
      "outputs": [
        {
          "output_type": "execute_result",
          "data": {
            "text/plain": [
              "Index(['const', 'Medu', 'absences', 'G3', 'sex_F', 'sex_M', 'school_GP',\n",
              "       'address_R', 'address_U', 'famsize_GT3', 'famsize_LE3', 'Pstatus_T',\n",
              "       'famsup_no', 'famsup_yes', 'paid_no', 'activities_no', 'activities_yes',\n",
              "       'nursery_no', 'nursery_yes', 'higher_yes', 'internet_no',\n",
              "       'internet_yes', 'romantic_no', 'romantic_yes'],\n",
              "      dtype='object')"
            ]
          },
          "metadata": {},
          "execution_count": 61
        }
      ]
    },
    {
      "cell_type": "code",
      "metadata": {
        "colab": {
          "base_uri": "https://localhost:8080/"
        },
        "id": "UgYJa6Kdc0eC",
        "outputId": "f7585262-c55a-48c5-e2b2-fcac300b31f2"
      },
      "source": [
        "#Refinamento do modelo\n",
        "X_RLM = df_RLM[\n",
        "    ['Medu', 'absences', 'G3', 'sex_F', 'sex_M', 'school_GP',\n",
        "       'address_R', 'address_U', 'famsize_GT3', 'famsize_LE3', 'Pstatus_T',\n",
        "       'famsup_no', 'famsup_yes', 'paid_no', 'activities_no', 'activities_yes',\n",
        "       'nursery_no', 'nursery_yes', 'higher_yes', 'internet_no',\n",
        "       'internet_yes', 'romantic_no', 'romantic_yes'\n",
        "    ]\n",
        "]\n",
        "\n",
        "X_RLM = sm.add_constant(X_RLM)\n",
        "modelo_RLM = sm.OLS(y_RLM,X_RLM)\n",
        "resultados_RLM = modelo_RLM.fit()\n",
        "print(resultados_RLM.summary())"
      ],
      "execution_count": null,
      "outputs": [
        {
          "output_type": "stream",
          "name": "stdout",
          "text": [
            "                            OLS Regression Results                            \n",
            "==============================================================================\n",
            "Dep. Variable:                  media   R-squared:                       0.929\n",
            "Model:                            OLS   Adj. R-squared:                  0.928\n",
            "Method:                 Least Squares   F-statistic:                     556.0\n",
            "Date:                Mon, 06 Sep 2021   Prob (F-statistic):               0.00\n",
            "Time:                        12:48:45   Log-Likelihood:                -735.88\n",
            "No. Observations:                 649   AIC:                             1504.\n",
            "Df Residuals:                     633   BIC:                             1575.\n",
            "Df Model:                          15                                         \n",
            "Covariance Type:            nonrobust                                         \n",
            "==================================================================================\n",
            "                     coef    std err          t      P>|t|      [0.025      0.975]\n",
            "----------------------------------------------------------------------------------\n",
            "const              0.2601      0.041      6.390      0.000       0.180       0.340\n",
            "Medu               0.0801      0.030      2.691      0.007       0.022       0.139\n",
            "absences          -0.0232      0.007     -3.441      0.001      -0.036      -0.010\n",
            "G3                 0.8188      0.011     77.506      0.000       0.798       0.840\n",
            "sex_F              0.1436      0.039      3.668      0.000       0.067       0.220\n",
            "sex_M              0.1165      0.038      3.100      0.002       0.043       0.190\n",
            "school_GP          0.1552      0.073      2.135      0.033       0.012       0.298\n",
            "address_R          0.1391      0.040      3.495      0.001       0.061       0.217\n",
            "address_U          0.1210      0.042      2.892      0.004       0.039       0.203\n",
            "famsize_GT3        0.1079      0.040      2.714      0.007       0.030       0.186\n",
            "famsize_LE3        0.1522      0.040      3.779      0.000       0.073       0.231\n",
            "Pstatus_T          0.0904      0.096      0.938      0.349      -0.099       0.280\n",
            "famsup_no          0.1690      0.038      4.495      0.000       0.095       0.243\n",
            "famsup_yes         0.0911      0.038      2.428      0.015       0.017       0.165\n",
            "paid_no            0.0733      0.128      0.571      0.568      -0.179       0.325\n",
            "activities_no      0.1081      0.035      3.048      0.002       0.038       0.178\n",
            "activities_yes     0.1520      0.038      3.972      0.000       0.077       0.227\n",
            "nursery_no         0.1269      0.045      2.814      0.005       0.038       0.215\n",
            "nursery_yes        0.1332      0.042      3.206      0.001       0.052       0.215\n",
            "higher_yes         0.2571      0.105      2.444      0.015       0.051       0.464\n",
            "internet_no        0.1326      0.042      3.172      0.002       0.051       0.215\n",
            "internet_yes       0.1275      0.044      2.884      0.004       0.041       0.214\n",
            "romantic_no        0.1289      0.038      3.353      0.001       0.053       0.204\n",
            "romantic_yes       0.1312      0.037      3.538      0.000       0.058       0.204\n",
            "==============================================================================\n",
            "Omnibus:                      154.602   Durbin-Watson:                   1.753\n",
            "Prob(Omnibus):                  0.000   Jarque-Bera (JB):             1149.687\n",
            "Skew:                           0.845   Prob(JB):                    2.23e-250\n",
            "Kurtosis:                       9.297   Cond. No.                     4.90e+17\n",
            "==============================================================================\n",
            "\n",
            "Warnings:\n",
            "[1] Standard Errors assume that the covariance matrix of the errors is correctly specified.\n",
            "[2] The smallest eigenvalue is 4.87e-31. This might indicate that there are\n",
            "strong multicollinearity problems or that the design matrix is singular.\n"
          ]
        }
      ]
    },
    {
      "cell_type": "code",
      "metadata": {
        "colab": {
          "base_uri": "https://localhost:8080/"
        },
        "id": "JCQNaXwadKVV",
        "outputId": "c290726b-7d56-4917-f037-44c1f1478594"
      },
      "source": [
        "filtro_pvalor(resultados_RLM,0.05)"
      ],
      "execution_count": null,
      "outputs": [
        {
          "output_type": "execute_result",
          "data": {
            "text/plain": [
              "Index(['const', 'Medu', 'absences', 'G3', 'sex_F', 'sex_M', 'school_GP',\n",
              "       'address_R', 'address_U', 'famsize_GT3', 'famsize_LE3', 'famsup_no',\n",
              "       'famsup_yes', 'activities_no', 'activities_yes', 'nursery_no',\n",
              "       'nursery_yes', 'higher_yes', 'internet_no', 'internet_yes',\n",
              "       'romantic_no', 'romantic_yes'],\n",
              "      dtype='object')"
            ]
          },
          "metadata": {},
          "execution_count": 63
        }
      ]
    },
    {
      "cell_type": "code",
      "metadata": {
        "colab": {
          "base_uri": "https://localhost:8080/"
        },
        "id": "nvEZn3mfdRRj",
        "outputId": "f8fc06f3-93bf-496f-a9b9-29908b0c3d04"
      },
      "source": [
        "#Refinamento do modelo\n",
        "X_RLM = df_RLM[\n",
        "    ['Medu', 'Medu', 'absences', 'G3', 'sex_F', 'sex_M', 'school_GP',\n",
        "       'address_R', 'address_U', 'famsize_GT3', 'famsize_LE3', 'famsup_no',\n",
        "       'famsup_yes', 'activities_no', 'activities_yes', 'nursery_no',\n",
        "       'nursery_yes', 'higher_yes', 'internet_no', 'internet_yes',\n",
        "       'romantic_no', 'romantic_yes'\n",
        "    ]\n",
        "]\n",
        "\n",
        "X_RLM = sm.add_constant(X_RLM)\n",
        "modelo_RLM = sm.OLS(y_RLM,X_RLM)\n",
        "resultados_RLM = modelo_RLM.fit()\n",
        "print(resultados_RLM.summary())"
      ],
      "execution_count": null,
      "outputs": [
        {
          "output_type": "stream",
          "name": "stdout",
          "text": [
            "                            OLS Regression Results                            \n",
            "==============================================================================\n",
            "Dep. Variable:                  media   R-squared:                       0.929\n",
            "Model:                            OLS   Adj. R-squared:                  0.928\n",
            "Method:                 Least Squares   F-statistic:                     642.2\n",
            "Date:                Mon, 06 Sep 2021   Prob (F-statistic):               0.00\n",
            "Time:                        12:48:45   Log-Likelihood:                -736.50\n",
            "No. Observations:                 649   AIC:                             1501.\n",
            "Df Residuals:                     635   BIC:                             1564.\n",
            "Df Model:                          13                                         \n",
            "Covariance Type:            nonrobust                                         \n",
            "==================================================================================\n",
            "                     coef    std err          t      P>|t|      [0.025      0.975]\n",
            "----------------------------------------------------------------------------------\n",
            "const              0.2900      0.028     10.329      0.000       0.235       0.345\n",
            "Medu               0.0379      0.015      2.570      0.010       0.009       0.067\n",
            "Medu               0.0379      0.015      2.570      0.010       0.009       0.067\n",
            "absences          -0.0237      0.007     -3.548      0.000      -0.037      -0.011\n",
            "G3                 0.8194      0.011     77.857      0.000       0.799       0.840\n",
            "sex_F              0.1570      0.036      4.355      0.000       0.086       0.228\n",
            "sex_M              0.1330      0.034      3.868      0.000       0.065       0.201\n",
            "school_GP          0.1541      0.073      2.122      0.034       0.011       0.297\n",
            "address_R          0.1557      0.037      4.251      0.000       0.084       0.228\n",
            "address_U          0.1343      0.039      3.423      0.001       0.057       0.211\n",
            "famsize_GT3        0.1300      0.034      3.793      0.000       0.063       0.197\n",
            "famsize_LE3        0.1600      0.038      4.223      0.000       0.086       0.234\n",
            "famsup_no          0.1850      0.034      5.507      0.000       0.119       0.251\n",
            "famsup_yes         0.1050      0.035      2.984      0.003       0.036       0.174\n",
            "activities_no      0.1211      0.032      3.749      0.000       0.058       0.185\n",
            "activities_yes     0.1689      0.035      4.834      0.000       0.100       0.237\n",
            "nursery_no         0.1423      0.042      3.356      0.001       0.059       0.226\n",
            "nursery_yes        0.1477      0.039      3.787      0.000       0.071       0.224\n",
            "higher_yes         0.2580      0.105      2.455      0.014       0.052       0.464\n",
            "internet_no        0.1443      0.040      3.645      0.000       0.067       0.222\n",
            "internet_yes       0.1457      0.041      3.566      0.000       0.065       0.226\n",
            "romantic_no        0.1453      0.035      4.134      0.000       0.076       0.214\n",
            "romantic_yes       0.1447      0.034      4.223      0.000       0.077       0.212\n",
            "==============================================================================\n",
            "Omnibus:                      156.930   Durbin-Watson:                   1.756\n",
            "Prob(Omnibus):                  0.000   Jarque-Bera (JB):             1194.625\n",
            "Skew:                           0.854   Prob(JB):                    3.89e-260\n",
            "Kurtosis:                       9.423   Cond. No.                     4.61e+17\n",
            "==============================================================================\n",
            "\n",
            "Warnings:\n",
            "[1] Standard Errors assume that the covariance matrix of the errors is correctly specified.\n",
            "[2] The smallest eigenvalue is 5.65e-31. This might indicate that there are\n",
            "strong multicollinearity problems or that the design matrix is singular.\n"
          ]
        }
      ]
    },
    {
      "cell_type": "markdown",
      "metadata": {
        "id": "OzQYkklQFKbR"
      },
      "source": [
        "Finalização de refinamento do modelo."
      ]
    },
    {
      "cell_type": "code",
      "metadata": {
        "colab": {
          "base_uri": "https://localhost:8080/",
          "height": 296
        },
        "id": "3Jc6OP3yiD4G",
        "outputId": "267e1242-66e6-498a-f5ab-e73693b90db2"
      },
      "source": [
        "y_pred_RLM = resultados_RLM.predict(X_RLM)\n",
        "\n",
        "sns.regplot(\n",
        "    x=df[\"media\"], \n",
        "    y=y_pred_RLM, \n",
        "    ci=None, \n",
        "    scatter_kws={\"color\": \"blue\"}, line_kws={\"color\": \"red\"}\n",
        "    )"
      ],
      "execution_count": null,
      "outputs": [
        {
          "output_type": "execute_result",
          "data": {
            "text/plain": [
              "<matplotlib.axes._subplots.AxesSubplot at 0x7fa8394675d0>"
            ]
          },
          "metadata": {},
          "execution_count": 65
        },
        {
          "output_type": "display_data",
          "data": {
            "image/png": "[encoded data removed]",
            "text/plain": [
              "<Figure size 432x288 with 1 Axes>"
            ]
          },
          "metadata": {
            "needs_background": "light"
          }
        }
      ]
    },
    {
      "cell_type": "code",
      "metadata": {
        "colab": {
          "base_uri": "https://localhost:8080/"
        },
        "id": "l7eXwbtyL2r1",
        "outputId": "e27aecfd-3879-4bf6-deb2-a31ae4bf0f7c"
      },
      "source": [
        "MAE = metrics.mean_absolute_error(y_RLM, y_pred_RLM)\n",
        "RMSE = np.sqrt(metrics.mean_squared_error(y_RLM, y_pred_RLM))\n",
        "\n",
        "print(\"RMSE:\",round(RMSE,2))\n",
        "print(\"MAE: \",round(MAE,2))"
      ],
      "execution_count": null,
      "outputs": [
        {
          "output_type": "stream",
          "name": "stdout",
          "text": [
            "RMSE: 0.75\n",
            "MAE:  0.54\n"
          ]
        }
      ]
    },
    {
      "cell_type": "markdown",
      "metadata": {
        "id": "vZSGtkcWPkpi"
      },
      "source": [
        "##Regressão LOGÍSTICA (statsmodels)"
      ]
    },
    {
      "cell_type": "markdown",
      "metadata": {
        "id": "Ma78onfvdeuo"
      },
      "source": [
        "Variável target: `aprovado` (1 ou 0)"
      ]
    },
    {
      "cell_type": "code",
      "metadata": {
        "id": "w6K5sxUZXRZs",
        "colab": {
          "base_uri": "https://localhost:8080/"
        },
        "outputId": "6576e3eb-6832-42e0-db78-ff41c6aaf9a1"
      },
      "source": [
        "#não utilizaremos a variável media para a regressão logistica\n",
        "df_RL = df_ohe.drop('media', 1)\n",
        "\n",
        "X_RL = df_RL.drop(['aprovado','G1','G2'], 1)\n",
        "X_RL = sm.add_constant(X_RL)\n",
        "y_RL = df_RL['aprovado']\n",
        "\n",
        "#separacao em treino e teste\n",
        "X_train_RL, X_test_RL, y_train_RL, y_test_RL = train_test_split(X_RL, y_RL, test_size=0.2, random_state=0)\n",
        "\n",
        "#treinamento do modelo com Logit\n",
        "modelo_RL = sm.Logit(y_train_RL,X_train_RL,random_state=0).fit_regularized()#.fit()\n",
        "print(modelo_RL.summary())"
      ],
      "execution_count": null,
      "outputs": [
        {
          "output_type": "stream",
          "name": "stdout",
          "text": [
            "Optimization terminated successfully.    (Exit mode 0)\n",
            "            Current function value: 0.09168536111628672\n",
            "            Iterations: 259\n",
            "            Function evaluations: 262\n",
            "            Gradient evaluations: 259\n",
            "                           Logit Regression Results                           \n",
            "==============================================================================\n",
            "Dep. Variable:               aprovado   No. Observations:                  519\n",
            "Model:                          Logit   Df Residuals:                      461\n",
            "Method:                           MLE   Df Model:                           57\n",
            "Date:                Mon, 06 Sep 2021   Pseudo R-squ.:                  0.8389\n",
            "Time:                        12:48:47   Log-Likelihood:                -47.585\n",
            "converged:                       True   LL-Null:                       -295.37\n",
            "Covariance Type:            nonrobust   LLR p-value:                 3.297e-71\n",
            "=====================================================================================\n",
            "                        coef    std err          z      P>|z|      [0.025      0.975]\n",
            "-------------------------------------------------------------------------------------\n",
            "const                -4.4966        nan        nan        nan         nan         nan\n",
            "age                  -0.6435      0.323     -1.993      0.046      -1.276      -0.011\n",
            "Medu                 -0.3095      0.399     -0.775      0.438      -1.092       0.473\n",
            "Fedu                  0.1503      0.472      0.318      0.750      -0.775       1.076\n",
            "traveltime           -0.5079      0.403     -1.262      0.207      -1.297       0.281\n",
            "studytime             0.9026      0.449      2.009      0.044       0.022       1.783\n",
            "failures             -0.4185      0.531     -0.789      0.430      -1.459       0.622\n",
            "famrel                0.2652      0.368      0.721      0.471      -0.456       0.986\n",
            "freetime             -0.0415      0.335     -0.124      0.901      -0.699       0.616\n",
            "goout                 0.7706      0.348      2.216      0.027       0.089       1.452\n",
            "Dalc                 -0.1990      0.424     -0.470      0.639      -1.029       0.631\n",
            "Walc                 -0.2422      0.399     -0.607      0.544      -1.024       0.539\n",
            "health               -0.1663      0.230     -0.722      0.470      -0.618       0.285\n",
            "absences              0.0456      0.071      0.640      0.522      -0.094       0.185\n",
            "G3                    4.5821      0.774      5.919      0.000       3.065       6.099\n",
            "sex_F                -2.0649    1.1e+07  -1.88e-07      1.000   -2.15e+07    2.15e+07\n",
            "sex_M                -2.1458   1.38e+07  -1.55e-07      1.000   -2.71e+07    2.71e+07\n",
            "school_GP            -1.8266        nan        nan        nan         nan         nan\n",
            "school_MS            -2.6337   4.65e+06  -5.66e-07      1.000   -9.12e+06    9.12e+06\n",
            "address_R            -2.2840        nan        nan        nan         nan         nan\n",
            "address_U            -3.1223        nan        nan        nan         nan         nan\n",
            "famsize_GT3          -2.0207        nan        nan        nan         nan         nan\n",
            "famsize_LE3          -2.1904        nan        nan        nan         nan         nan\n",
            "Pstatus_A            -2.1405        nan        nan        nan         nan         nan\n",
            "Pstatus_T            -2.3048   5.18e+06  -4.45e-07      1.000   -1.02e+07    1.02e+07\n",
            "Mjob_at_home         -1.2630   8.64e+06  -1.46e-07      1.000   -1.69e+07    1.69e+07\n",
            "Mjob_health          -2.1817   9.14e+06  -2.39e-07      1.000   -1.79e+07    1.79e+07\n",
            "Mjob_other           -1.5213   9.12e+06  -1.67e-07      1.000   -1.79e+07    1.79e+07\n",
            "Mjob_services         1.1871   9.42e+06   1.26e-07      1.000   -1.85e+07    1.85e+07\n",
            "Mjob_teacher         -0.6276   8.56e+06  -7.33e-08      1.000   -1.68e+07    1.68e+07\n",
            "Fjob_at_home          1.5056   9.49e+06   1.59e-07      1.000   -1.86e+07    1.86e+07\n",
            "Fjob_health           0.2199   9.86e+06   2.23e-08      1.000   -1.93e+07    1.93e+07\n",
            "Fjob_other           -0.6883   9.84e+06     -7e-08      1.000   -1.93e+07    1.93e+07\n",
            "Fjob_services        -0.8127   1.03e+07   -7.9e-08      1.000   -2.02e+07    2.02e+07\n",
            "Fjob_teacher         -2.0077   9.92e+06  -2.02e-07      1.000   -1.94e+07    1.94e+07\n",
            "reason_course        -1.3715   8.95e+06  -1.53e-07      1.000   -1.75e+07    1.75e+07\n",
            "reason_home          -0.0005   8.76e+06  -5.96e-11      1.000   -1.72e+07    1.72e+07\n",
            "reason_other         -1.4931   8.86e+06  -1.69e-07      1.000   -1.74e+07    1.74e+07\n",
            "reason_reputation    -1.1071    8.8e+06  -1.26e-07      1.000   -1.72e+07    1.72e+07\n",
            "guardian_father      -1.5641   7.34e+06  -2.13e-07      1.000   -1.44e+07    1.44e+07\n",
            "guardian_mother      -2.1631   7.32e+06  -2.96e-07      1.000   -1.43e+07    1.43e+07\n",
            "guardian_other       -1.3391   7.19e+06  -1.86e-07      1.000   -1.41e+07    1.41e+07\n",
            "schoolsup_no         -1.8986        nan        nan        nan         nan         nan\n",
            "schoolsup_yes        -4.4496        nan        nan        nan         nan         nan\n",
            "famsup_no            -2.6580        nan        nan        nan         nan         nan\n",
            "famsup_yes           -2.2136        nan        nan        nan         nan         nan\n",
            "paid_no              -1.2354    1.2e+07  -1.03e-07      1.000   -2.35e+07    2.35e+07\n",
            "paid_yes             -2.1320    1.2e+07  -1.77e-07      1.000   -2.35e+07    2.35e+07\n",
            "activities_no        -2.1311   4.81e+06  -4.43e-07      1.000   -9.43e+06    9.43e+06\n",
            "activities_yes       -2.0820   4.82e+06  -4.32e-07      1.000   -9.44e+06    9.44e+06\n",
            "nursery_no           -1.5415        nan        nan        nan         nan         nan\n",
            "nursery_yes          -2.1984        nan        nan        nan         nan         nan\n",
            "higher_no            -1.6705   1.07e+07  -1.56e-07      1.000    -2.1e+07     2.1e+07\n",
            "higher_yes           -1.2554   1.06e+07  -1.18e-07      1.000   -2.09e+07    2.09e+07\n",
            "internet_no          -4.0469   5.58e+06  -7.26e-07      1.000   -1.09e+07    1.09e+07\n",
            "internet_yes         -2.5857   5.53e+06  -4.68e-07      1.000   -1.08e+07    1.08e+07\n",
            "romantic_no          -3.0570        nan        nan        nan         nan         nan\n",
            "romantic_yes         -2.5268        nan        nan        nan         nan         nan\n",
            "=====================================================================================\n",
            "\n",
            "Possibly complete quasi-separation: A fraction 0.56 of observations can be\n",
            "perfectly predicted. This might indicate that there is complete\n",
            "quasi-separation. In this case some parameters will not be identified.\n"
          ]
        },
        {
          "output_type": "stream",
          "name": "stderr",
          "text": [
            "/usr/local/lib/python3.7/dist-packages/statsmodels/base/model.py:1286: RuntimeWarning: invalid value encountered in sqrt\n",
            "  bse_ = np.sqrt(np.diag(self.cov_params()))\n"
          ]
        }
      ]
    },
    {
      "cell_type": "code",
      "metadata": {
        "id": "5yEW-DVXyq-F",
        "colab": {
          "base_uri": "https://localhost:8080/"
        },
        "outputId": "b0757485-5903-4016-ab12-9c3ce27eb868"
      },
      "source": [
        "melhores_parametros = filtro_pvalor(modelo_RL,0.9)\n",
        "print('Total de parâmetros: %s '%len(X_RL.keys()))\n",
        "print('Parâmetros significantes: %s'%(len(melhores_parametros)))\n",
        "print(melhores_parametros)"
      ],
      "execution_count": null,
      "outputs": [
        {
          "output_type": "stream",
          "name": "stdout",
          "text": [
            "Total de parâmetros: 58 \n",
            "Parâmetros significantes: 13\n",
            "Index(['age', 'Medu', 'Fedu', 'traveltime', 'studytime', 'failures', 'famrel',\n",
            "       'goout', 'Dalc', 'Walc', 'health', 'absences', 'G3'],\n",
            "      dtype='object')\n"
          ]
        }
      ]
    },
    {
      "cell_type": "markdown",
      "metadata": {
        "id": "eWm_gz3WPunc"
      },
      "source": [
        "Refinamento do modelo com os melhores parâmetros"
      ]
    },
    {
      "cell_type": "code",
      "metadata": {
        "id": "eQNjsGzcPVCF",
        "colab": {
          "base_uri": "https://localhost:8080/"
        },
        "outputId": "5667affb-2e1d-4b7c-8bae-53f25e9be923"
      },
      "source": [
        "#Refinamento do modelo\n",
        "X_RL = df_RL[\n",
        "    [\n",
        "     'age', 'Medu', 'Fedu', 'traveltime', 'studytime', 'failures', 'famrel',\n",
        "     'goout', 'Dalc', 'Walc', 'health', 'absences', 'G3'\n",
        "    ]\n",
        "]\n",
        "X_RL = sm.add_constant(X_RL)\n",
        "\n",
        "#separacao em treino e teste\n",
        "X_train_RL, X_test_RL, y_train_RL, y_test_RL = train_test_split(X_RL, y_RL, test_size=0.2, random_state=0)\n",
        "\n",
        "#treinamento do modelo com Logit\n",
        "modelo_RL = sm.Logit(y_train_RL,X_train_RL,random_state=0).fit_regularized()#.fit()\n",
        "print(modelo_RL.summary())"
      ],
      "execution_count": null,
      "outputs": [
        {
          "output_type": "stream",
          "name": "stdout",
          "text": [
            "Optimization terminated successfully.    (Exit mode 0)\n",
            "            Current function value: 0.12194145820448996\n",
            "            Iterations: 83\n",
            "            Function evaluations: 87\n",
            "            Gradient evaluations: 83\n",
            "                           Logit Regression Results                           \n",
            "==============================================================================\n",
            "Dep. Variable:               aprovado   No. Observations:                  519\n",
            "Model:                          Logit   Df Residuals:                      505\n",
            "Method:                           MLE   Df Model:                           13\n",
            "Date:                Mon, 06 Sep 2021   Pseudo R-squ.:                  0.7857\n",
            "Time:                        12:48:47   Log-Likelihood:                -63.288\n",
            "converged:                       True   LL-Null:                       -295.37\n",
            "Covariance Type:            nonrobust   LLR p-value:                 5.898e-91\n",
            "==============================================================================\n",
            "                 coef    std err          z      P>|z|      [0.025      0.975]\n",
            "------------------------------------------------------------------------------\n",
            "const        -31.1048      6.122     -5.081      0.000     -43.104     -19.106\n",
            "age           -0.3725      0.206     -1.807      0.071      -0.777       0.032\n",
            "Medu           0.0449      0.274      0.164      0.870      -0.492       0.582\n",
            "Fedu           0.0897      0.286      0.314      0.754      -0.471       0.650\n",
            "traveltime    -0.5741      0.288     -1.996      0.046      -1.138      -0.010\n",
            "studytime      0.4564      0.301      1.517      0.129      -0.133       1.046\n",
            "failures      -0.4723      0.360     -1.311      0.190      -1.179       0.234\n",
            "famrel         0.1863      0.263      0.709      0.478      -0.329       0.701\n",
            "goout          0.4797      0.221      2.174      0.030       0.047       0.912\n",
            "Dalc           0.1630      0.306      0.533      0.594      -0.436       0.762\n",
            "Walc          -0.1630      0.243     -0.672      0.501      -0.638       0.312\n",
            "health        -0.0875      0.184     -0.476      0.634      -0.447       0.272\n",
            "absences       0.0747      0.046      1.637      0.102      -0.015       0.164\n",
            "G3             3.4956      0.527      6.639      0.000       2.464       4.528\n",
            "==============================================================================\n",
            "\n",
            "Possibly complete quasi-separation: A fraction 0.47 of observations can be\n",
            "perfectly predicted. This might indicate that there is complete\n",
            "quasi-separation. In this case some parameters will not be identified.\n"
          ]
        }
      ]
    },
    {
      "cell_type": "code",
      "metadata": {
        "colab": {
          "base_uri": "https://localhost:8080/"
        },
        "id": "D5zNIPTjQnnJ",
        "outputId": "c1214068-ce11-4195-e4e1-5e79f9c7448c"
      },
      "source": [
        "y_pred_RL = modelo_RL.predict(X_test_RL)\n",
        "\n",
        "#converter y em binario. Utilizaremos um threshold de 0.5\n",
        "y_pred_RL = np.where(y_pred_RL > 0.5,1,0)\n",
        "\n",
        "#Metricas de análise de erro residual\n",
        "MAE = metrics.mean_absolute_error(y_test_RL, y_pred_RL)\n",
        "RMSE = np.sqrt(metrics.mean_squared_error(y_test_RL, y_pred_RL))\n",
        "\n",
        "print(\"RMSE:\",round(RMSE,2))\n",
        "print(\"MAE: \",round(MAE,2))"
      ],
      "execution_count": null,
      "outputs": [
        {
          "output_type": "stream",
          "name": "stdout",
          "text": [
            "RMSE: 0.26\n",
            "MAE:  0.07\n"
          ]
        }
      ]
    },
    {
      "cell_type": "code",
      "metadata": {
        "colab": {
          "base_uri": "https://localhost:8080/",
          "height": 312
        },
        "id": "_3X1yajuoYIj",
        "outputId": "7b56a8f3-fb2e-418c-d23e-93efd68b4b0c"
      },
      "source": [
        "#Matriz de confusão\n",
        "mc_RL = confusion_matrix(y_test_RL,y_pred_RL)\n",
        "ax=sns.heatmap(mc_RL/np.sum(mc_RL), annot=True, fmt='.2%', cmap='Blues')\n",
        "plt.title(\"Matriz de Confusão da Regressão Logística\")\n",
        "plt.xlabel('Valores Preditos', fontsize=10)\n",
        "plt.ylabel('Valores Reais', fontsize=10)"
      ],
      "execution_count": null,
      "outputs": [
        {
          "output_type": "execute_result",
          "data": {
            "text/plain": [
              "Text(33.0, 0.5, 'Valores Reais')"
            ]
          },
          "metadata": {},
          "execution_count": 71
        },
        {
          "output_type": "display_data",
          "data": {
            "image/png": "[encoded data removed]",
            "text/plain": [
              "<Figure size 432x288 with 2 Axes>"
            ]
          },
          "metadata": {
            "needs_background": "light"
          }
        }
      ]
    },
    {
      "cell_type": "code",
      "metadata": {
        "id": "3JSlUwsmp_ZW",
        "colab": {
          "base_uri": "https://localhost:8080/"
        },
        "outputId": "1114fcf2-2c51-409a-fce4-0183e18de72e"
      },
      "source": [
        "TP = mc_RL[1][1]\n",
        "TN = mc_RL[0][0]\n",
        "FP = mc_RL[0][1]\n",
        "FN = mc_RL[1][0]\n",
        "\n",
        "print('Verdadeiro Positivo (TP): previu', TP,\"aprovados corretamente\")\n",
        "print('Verdadeiro Negativo (VN): previu', TN,\"não-aprovados corretamente\")\n",
        "print('Falso Positivo      (FP): previu', FP,\"aprovado incorretamente\")\n",
        "print('Falso Negativo      (FN): previu', FN,\"não-aprovado incorretamente\")"
      ],
      "execution_count": null,
      "outputs": [
        {
          "output_type": "stream",
          "name": "stdout",
          "text": [
            "Verdadeiro Positivo (TP): previu 98 aprovados corretamente\n",
            "Verdadeiro Negativo (VN): previu 23 não-aprovados corretamente\n",
            "Falso Positivo      (FP): previu 1 aprovado incorretamente\n",
            "Falso Negativo      (FN): previu 8 não-aprovado incorretamente\n"
          ]
        }
      ]
    },
    {
      "cell_type": "code",
      "metadata": {
        "colab": {
          "base_uri": "https://localhost:8080/"
        },
        "id": "wceTqFxTqS8z",
        "outputId": "36256616-3cbe-41f9-95e0-e05bf81b732a"
      },
      "source": [
        "#Cálculo da Especificidade - O quão bom é o modelo em evitar falsos positivos?\n",
        "especificidade = TN / (TN + FP)\n",
        "print(\"Especificidade: \",round(especificidade*100),\"%\")\n",
        "\n",
        "#Cálculo da Sensibilidade/Recall - Com qual frequência o modelo encontrou positivos?\n",
        "sensibilidade = TP / (TP + FN)\n",
        "print(\"Sensibilidade: \",round(sensibilidade*100),\"%\")\n",
        "\n",
        "#Cálculo da Acurácia - Quantas instâncias o modelo classificou corretamente?\n",
        "acuracia = (TP+TN) / (TP+FP+TN+FN)\n",
        "print(\"Acurácia: \",round(acuracia*100),\"%\")"
      ],
      "execution_count": null,
      "outputs": [
        {
          "output_type": "stream",
          "name": "stdout",
          "text": [
            "Especificidade:  96 %\n",
            "Sensibilidade:  92 %\n",
            "Acurácia:  93 %\n"
          ]
        }
      ]
    },
    {
      "cell_type": "markdown",
      "metadata": {
        "id": "Ro8eBfsr7RdG"
      },
      "source": [
        "#MODELAGEM COM MACHINE LEARNING"
      ]
    },
    {
      "cell_type": "markdown",
      "metadata": {
        "id": "gMSq83roupbJ"
      },
      "source": [
        "##PyCaret"
      ]
    },
    {
      "cell_type": "code",
      "metadata": {
        "id": "raZAfwciu2W7"
      },
      "source": [
        "#variáveis que utilizaremos com base na análise exploratória\n",
        "df_PC = df[\n",
        "    ['age',\n",
        "    'Medu',\n",
        "    'Fedu',\n",
        "    'studytime',\n",
        "    'traveltime',\n",
        "    'failures',\n",
        "    'famrel',\n",
        "    'freetime',\n",
        "    'goout',\n",
        "    'Dalc',\n",
        "    'Walc',\n",
        "    'health',\n",
        "    'absences',\n",
        "    'G3',\n",
        "    'aprovado']           \n",
        "]"
      ],
      "execution_count": null,
      "outputs": []
    },
    {
      "cell_type": "code",
      "metadata": {
        "id": "XAg6WxQ4u5Iu"
      },
      "source": [
        "#divisão entre treino e teste\n",
        "df_train_PC, df_test_PC = train_test_split(df_PC, test_size=0.2)\n",
        "\n",
        "#configuração inicial pycaret - utilizaremos a variável target 'aprovado' \n",
        "\n",
        "clf = setup(\n",
        "    data = df_train_PC\n",
        "    ,test_data = df_test_PC\n",
        "    ,target = 'aprovado'\n",
        "    ,silent = True\n",
        "    ,normalize = True\n",
        "    #,transformation = True\n",
        "    #,feature_selection = True\n",
        "    #,feature_interaction = True\n",
        "    #,feature_ratio = True\n",
        "    ,remove_multicollinearity = True\n",
        "    ,multicollinearity_threshold = 0.6\n",
        "    #,ignore_low_variance = True\n",
        ")"
      ],
      "execution_count": null,
      "outputs": []
    },
    {
      "cell_type": "code",
      "metadata": {
        "colab": {
          "base_uri": "https://localhost:8080/",
          "height": 452,
          "referenced_widgets": [
            "7aec0689aa8841c8b70261b7979ce9ef",
            "d910d033c23f4fcdb5a29f93c1deb15c",
            "46de5f515833413aa9376c9aef509b60"
          ]
        },
        "id": "UiWEzZhLu9TH",
        "outputId": "64a10117-47ee-4e75-942a-9dd14b3c807b"
      },
      "source": [
        "# retorna os melhores modelos que foram treinados\n",
        "models = compare_models(\n",
        "    errors = \"raise\"\n",
        "    ,sort = \"AUC\"\n",
        ")"
      ],
      "execution_count": null,
      "outputs": [
        {
          "output_type": "display_data",
          "data": {
            "text/html": [
              "<div>\n",
              "<style scoped>\n",
              "    .dataframe tbody tr th:only-of-type {\n",
              "        vertical-align: middle;\n",
              "    }\n",
              "\n",
              "    .dataframe tbody tr th {\n",
              "        vertical-align: top;\n",
              "    }\n",
              "\n",
              "    .dataframe thead th {\n",
              "        text-align: right;\n",
              "    }\n",
              "</style>\n",
              "<table border=\"1\" class=\"dataframe\">\n",
              "  <thead>\n",
              "    <tr style=\"text-align: right;\">\n",
              "      <th></th>\n",
              "      <th>Model</th>\n",
              "      <th>Accuracy</th>\n",
              "      <th>AUC</th>\n",
              "      <th>Recall</th>\n",
              "      <th>Prec.</th>\n",
              "      <th>F1</th>\n",
              "      <th>Kappa</th>\n",
              "      <th>MCC</th>\n",
              "      <th>TT (Sec)</th>\n",
              "    </tr>\n",
              "  </thead>\n",
              "  <tbody>\n",
              "    <tr>\n",
              "      <th>lda</th>\n",
              "      <td>Linear Discriminant Analysis</td>\n",
              "      <td>0.9172</td>\n",
              "      <td>0.9636</td>\n",
              "      <td>0.9263</td>\n",
              "      <td>0.9634</td>\n",
              "      <td>0.9440</td>\n",
              "      <td>0.7837</td>\n",
              "      <td>0.7880</td>\n",
              "      <td>0.025</td>\n",
              "    </tr>\n",
              "    <tr>\n",
              "      <th>gbc</th>\n",
              "      <td>Gradient Boosting Classifier</td>\n",
              "      <td>0.9076</td>\n",
              "      <td>0.9632</td>\n",
              "      <td>0.9416</td>\n",
              "      <td>0.9381</td>\n",
              "      <td>0.9395</td>\n",
              "      <td>0.7433</td>\n",
              "      <td>0.7458</td>\n",
              "      <td>0.133</td>\n",
              "    </tr>\n",
              "    <tr>\n",
              "      <th>nb</th>\n",
              "      <td>Naive Bayes</td>\n",
              "      <td>0.7747</td>\n",
              "      <td>0.9627</td>\n",
              "      <td>0.7080</td>\n",
              "      <td>0.9926</td>\n",
              "      <td>0.8253</td>\n",
              "      <td>0.5323</td>\n",
              "      <td>0.5968</td>\n",
              "      <td>0.020</td>\n",
              "    </tr>\n",
              "    <tr>\n",
              "      <th>lr</th>\n",
              "      <td>Logistic Regression</td>\n",
              "      <td>0.9095</td>\n",
              "      <td>0.9624</td>\n",
              "      <td>0.9466</td>\n",
              "      <td>0.9364</td>\n",
              "      <td>0.9410</td>\n",
              "      <td>0.7453</td>\n",
              "      <td>0.7492</td>\n",
              "      <td>0.345</td>\n",
              "    </tr>\n",
              "    <tr>\n",
              "      <th>et</th>\n",
              "      <td>Extra Trees Classifier</td>\n",
              "      <td>0.9075</td>\n",
              "      <td>0.9603</td>\n",
              "      <td>0.9466</td>\n",
              "      <td>0.9332</td>\n",
              "      <td>0.9395</td>\n",
              "      <td>0.7426</td>\n",
              "      <td>0.7455</td>\n",
              "      <td>0.474</td>\n",
              "    </tr>\n",
              "    <tr>\n",
              "      <th>ada</th>\n",
              "      <td>Ada Boost Classifier</td>\n",
              "      <td>0.9057</td>\n",
              "      <td>0.9581</td>\n",
              "      <td>0.9466</td>\n",
              "      <td>0.9318</td>\n",
              "      <td>0.9385</td>\n",
              "      <td>0.7345</td>\n",
              "      <td>0.7396</td>\n",
              "      <td>0.129</td>\n",
              "    </tr>\n",
              "    <tr>\n",
              "      <th>rf</th>\n",
              "      <td>Random Forest Classifier</td>\n",
              "      <td>0.9056</td>\n",
              "      <td>0.9568</td>\n",
              "      <td>0.9517</td>\n",
              "      <td>0.9268</td>\n",
              "      <td>0.9388</td>\n",
              "      <td>0.7317</td>\n",
              "      <td>0.7348</td>\n",
              "      <td>0.525</td>\n",
              "    </tr>\n",
              "    <tr>\n",
              "      <th>lightgbm</th>\n",
              "      <td>Light Gradient Boosting Machine</td>\n",
              "      <td>0.8863</td>\n",
              "      <td>0.9333</td>\n",
              "      <td>0.9491</td>\n",
              "      <td>0.9070</td>\n",
              "      <td>0.9270</td>\n",
              "      <td>0.6696</td>\n",
              "      <td>0.6780</td>\n",
              "      <td>0.095</td>\n",
              "    </tr>\n",
              "    <tr>\n",
              "      <th>qda</th>\n",
              "      <td>Quadratic Discriminant Analysis</td>\n",
              "      <td>0.8342</td>\n",
              "      <td>0.8321</td>\n",
              "      <td>0.8378</td>\n",
              "      <td>0.9407</td>\n",
              "      <td>0.8838</td>\n",
              "      <td>0.5949</td>\n",
              "      <td>0.6137</td>\n",
              "      <td>0.028</td>\n",
              "    </tr>\n",
              "    <tr>\n",
              "      <th>dt</th>\n",
              "      <td>Decision Tree Classifier</td>\n",
              "      <td>0.8767</td>\n",
              "      <td>0.8299</td>\n",
              "      <td>0.9213</td>\n",
              "      <td>0.9171</td>\n",
              "      <td>0.9188</td>\n",
              "      <td>0.6625</td>\n",
              "      <td>0.6648</td>\n",
              "      <td>0.021</td>\n",
              "    </tr>\n",
              "    <tr>\n",
              "      <th>knn</th>\n",
              "      <td>K Neighbors Classifier</td>\n",
              "      <td>0.7997</td>\n",
              "      <td>0.8031</td>\n",
              "      <td>0.9519</td>\n",
              "      <td>0.8159</td>\n",
              "      <td>0.8778</td>\n",
              "      <td>0.3315</td>\n",
              "      <td>0.3859</td>\n",
              "      <td>0.125</td>\n",
              "    </tr>\n",
              "    <tr>\n",
              "      <th>svm</th>\n",
              "      <td>SVM - Linear Kernel</td>\n",
              "      <td>0.8844</td>\n",
              "      <td>0.0000</td>\n",
              "      <td>0.9009</td>\n",
              "      <td>0.9465</td>\n",
              "      <td>0.9211</td>\n",
              "      <td>0.7009</td>\n",
              "      <td>0.7115</td>\n",
              "      <td>0.020</td>\n",
              "    </tr>\n",
              "    <tr>\n",
              "      <th>ridge</th>\n",
              "      <td>Ridge Classifier</td>\n",
              "      <td>0.9230</td>\n",
              "      <td>0.0000</td>\n",
              "      <td>0.9364</td>\n",
              "      <td>0.9616</td>\n",
              "      <td>0.9484</td>\n",
              "      <td>0.7955</td>\n",
              "      <td>0.7988</td>\n",
              "      <td>0.018</td>\n",
              "    </tr>\n",
              "  </tbody>\n",
              "</table>\n",
              "</div>"
            ],
            "text/plain": [
              "                                    Model  Accuracy     AUC  Recall   Prec.  \\\n",
              "lda          Linear Discriminant Analysis    0.9172  0.9636  0.9263  0.9634   \n",
              "gbc          Gradient Boosting Classifier    0.9076  0.9632  0.9416  0.9381   \n",
              "nb                            Naive Bayes    0.7747  0.9627  0.7080  0.9926   \n",
              "lr                    Logistic Regression    0.9095  0.9624  0.9466  0.9364   \n",
              "et                 Extra Trees Classifier    0.9075  0.9603  0.9466  0.9332   \n",
              "ada                  Ada Boost Classifier    0.9057  0.9581  0.9466  0.9318   \n",
              "rf               Random Forest Classifier    0.9056  0.9568  0.9517  0.9268   \n",
              "lightgbm  Light Gradient Boosting Machine    0.8863  0.9333  0.9491  0.9070   \n",
              "qda       Quadratic Discriminant Analysis    0.8342  0.8321  0.8378  0.9407   \n",
              "dt               Decision Tree Classifier    0.8767  0.8299  0.9213  0.9171   \n",
              "knn                K Neighbors Classifier    0.7997  0.8031  0.9519  0.8159   \n",
              "svm                   SVM - Linear Kernel    0.8844  0.0000  0.9009  0.9465   \n",
              "ridge                    Ridge Classifier    0.9230  0.0000  0.9364  0.9616   \n",
              "\n",
              "              F1   Kappa     MCC  TT (Sec)  \n",
              "lda       0.9440  0.7837  0.7880     0.025  \n",
              "gbc       0.9395  0.7433  0.7458     0.133  \n",
              "nb        0.8253  0.5323  0.5968     0.020  \n",
              "lr        0.9410  0.7453  0.7492     0.345  \n",
              "et        0.9395  0.7426  0.7455     0.474  \n",
              "ada       0.9385  0.7345  0.7396     0.129  \n",
              "rf        0.9388  0.7317  0.7348     0.525  \n",
              "lightgbm  0.9270  0.6696  0.6780     0.095  \n",
              "qda       0.8838  0.5949  0.6137     0.028  \n",
              "dt        0.9188  0.6625  0.6648     0.021  \n",
              "knn       0.8778  0.3315  0.3859     0.125  \n",
              "svm       0.9211  0.7009  0.7115     0.020  \n",
              "ridge     0.9484  0.7955  0.7988     0.018  "
            ]
          },
          "metadata": {}
        }
      ]
    },
    {
      "cell_type": "code",
      "metadata": {
        "colab": {
          "base_uri": "https://localhost:8080/",
          "height": 421,
          "referenced_widgets": [
            "934fcd0f8d2b4661903cafa20e3763be",
            "af4a40a5024844bc9ed387710a5f8f3e",
            "f101fdca3bbd4a8eb67cbbafe7f3317d"
          ]
        },
        "id": "2hwLSos6vAlp",
        "outputId": "c5fdba28-427c-435e-f1c0-9ebdb72e0426"
      },
      "source": [
        "#cria o melhor modelo\n",
        "best_model = create_model(models)"
      ],
      "execution_count": null,
      "outputs": [
        {
          "output_type": "display_data",
          "data": {
            "text/html": [
              "<div>\n",
              "<style scoped>\n",
              "    .dataframe tbody tr th:only-of-type {\n",
              "        vertical-align: middle;\n",
              "    }\n",
              "\n",
              "    .dataframe tbody tr th {\n",
              "        vertical-align: top;\n",
              "    }\n",
              "\n",
              "    .dataframe thead th {\n",
              "        text-align: right;\n",
              "    }\n",
              "</style>\n",
              "<table border=\"1\" class=\"dataframe\">\n",
              "  <thead>\n",
              "    <tr style=\"text-align: right;\">\n",
              "      <th></th>\n",
              "      <th>Accuracy</th>\n",
              "      <th>AUC</th>\n",
              "      <th>Recall</th>\n",
              "      <th>Prec.</th>\n",
              "      <th>F1</th>\n",
              "      <th>Kappa</th>\n",
              "      <th>MCC</th>\n",
              "    </tr>\n",
              "  </thead>\n",
              "  <tbody>\n",
              "    <tr>\n",
              "      <th>0</th>\n",
              "      <td>0.9423</td>\n",
              "      <td>0.9750</td>\n",
              "      <td>0.9500</td>\n",
              "      <td>0.9744</td>\n",
              "      <td>0.9620</td>\n",
              "      <td>0.8421</td>\n",
              "      <td>0.8433</td>\n",
              "    </tr>\n",
              "    <tr>\n",
              "      <th>1</th>\n",
              "      <td>0.9231</td>\n",
              "      <td>0.9562</td>\n",
              "      <td>0.9500</td>\n",
              "      <td>0.9500</td>\n",
              "      <td>0.9500</td>\n",
              "      <td>0.7833</td>\n",
              "      <td>0.7833</td>\n",
              "    </tr>\n",
              "    <tr>\n",
              "      <th>2</th>\n",
              "      <td>0.9423</td>\n",
              "      <td>0.9917</td>\n",
              "      <td>0.9250</td>\n",
              "      <td>1.0000</td>\n",
              "      <td>0.9610</td>\n",
              "      <td>0.8506</td>\n",
              "      <td>0.8602</td>\n",
              "    </tr>\n",
              "    <tr>\n",
              "      <th>3</th>\n",
              "      <td>0.9231</td>\n",
              "      <td>0.9083</td>\n",
              "      <td>0.9250</td>\n",
              "      <td>0.9737</td>\n",
              "      <td>0.9487</td>\n",
              "      <td>0.7953</td>\n",
              "      <td>0.7995</td>\n",
              "    </tr>\n",
              "    <tr>\n",
              "      <th>4</th>\n",
              "      <td>0.9423</td>\n",
              "      <td>0.9487</td>\n",
              "      <td>0.9744</td>\n",
              "      <td>0.9500</td>\n",
              "      <td>0.9620</td>\n",
              "      <td>0.8421</td>\n",
              "      <td>0.8433</td>\n",
              "    </tr>\n",
              "    <tr>\n",
              "      <th>5</th>\n",
              "      <td>0.9615</td>\n",
              "      <td>0.9882</td>\n",
              "      <td>0.9487</td>\n",
              "      <td>1.0000</td>\n",
              "      <td>0.9737</td>\n",
              "      <td>0.9024</td>\n",
              "      <td>0.9068</td>\n",
              "    </tr>\n",
              "    <tr>\n",
              "      <th>6</th>\n",
              "      <td>0.8654</td>\n",
              "      <td>0.9546</td>\n",
              "      <td>0.8974</td>\n",
              "      <td>0.9211</td>\n",
              "      <td>0.9091</td>\n",
              "      <td>0.6500</td>\n",
              "      <td>0.6508</td>\n",
              "    </tr>\n",
              "    <tr>\n",
              "      <th>7</th>\n",
              "      <td>0.8846</td>\n",
              "      <td>0.9704</td>\n",
              "      <td>0.8974</td>\n",
              "      <td>0.9459</td>\n",
              "      <td>0.9211</td>\n",
              "      <td>0.7073</td>\n",
              "      <td>0.7107</td>\n",
              "    </tr>\n",
              "    <tr>\n",
              "      <th>8</th>\n",
              "      <td>0.8654</td>\n",
              "      <td>0.9625</td>\n",
              "      <td>0.8462</td>\n",
              "      <td>0.9706</td>\n",
              "      <td>0.9041</td>\n",
              "      <td>0.6818</td>\n",
              "      <td>0.7001</td>\n",
              "    </tr>\n",
              "    <tr>\n",
              "      <th>9</th>\n",
              "      <td>0.9216</td>\n",
              "      <td>0.9808</td>\n",
              "      <td>0.9487</td>\n",
              "      <td>0.9487</td>\n",
              "      <td>0.9487</td>\n",
              "      <td>0.7821</td>\n",
              "      <td>0.7821</td>\n",
              "    </tr>\n",
              "    <tr>\n",
              "      <th>Mean</th>\n",
              "      <td>0.9172</td>\n",
              "      <td>0.9636</td>\n",
              "      <td>0.9263</td>\n",
              "      <td>0.9634</td>\n",
              "      <td>0.9440</td>\n",
              "      <td>0.7837</td>\n",
              "      <td>0.7880</td>\n",
              "    </tr>\n",
              "    <tr>\n",
              "      <th>SD</th>\n",
              "      <td>0.0322</td>\n",
              "      <td>0.0230</td>\n",
              "      <td>0.0354</td>\n",
              "      <td>0.0237</td>\n",
              "      <td>0.0229</td>\n",
              "      <td>0.0772</td>\n",
              "      <td>0.0762</td>\n",
              "    </tr>\n",
              "  </tbody>\n",
              "</table>\n",
              "</div>"
            ],
            "text/plain": [
              "      Accuracy     AUC  Recall   Prec.      F1   Kappa     MCC\n",
              "0       0.9423  0.9750  0.9500  0.9744  0.9620  0.8421  0.8433\n",
              "1       0.9231  0.9562  0.9500  0.9500  0.9500  0.7833  0.7833\n",
              "2       0.9423  0.9917  0.9250  1.0000  0.9610  0.8506  0.8602\n",
              "3       0.9231  0.9083  0.9250  0.9737  0.9487  0.7953  0.7995\n",
              "4       0.9423  0.9487  0.9744  0.9500  0.9620  0.8421  0.8433\n",
              "5       0.9615  0.9882  0.9487  1.0000  0.9737  0.9024  0.9068\n",
              "6       0.8654  0.9546  0.8974  0.9211  0.9091  0.6500  0.6508\n",
              "7       0.8846  0.9704  0.8974  0.9459  0.9211  0.7073  0.7107\n",
              "8       0.8654  0.9625  0.8462  0.9706  0.9041  0.6818  0.7001\n",
              "9       0.9216  0.9808  0.9487  0.9487  0.9487  0.7821  0.7821\n",
              "Mean    0.9172  0.9636  0.9263  0.9634  0.9440  0.7837  0.7880\n",
              "SD      0.0322  0.0230  0.0354  0.0237  0.0229  0.0772  0.0762"
            ]
          },
          "metadata": {}
        }
      ]
    },
    {
      "cell_type": "code",
      "metadata": {
        "colab": {
          "base_uri": "https://localhost:8080/",
          "height": 421,
          "referenced_widgets": [
            "1a6d5d62ebed4a9787ee82e6a427a78c",
            "d45177249ce44bb192777d846ae1554b",
            "fd8344bb32ea410499e017d789a262af"
          ]
        },
        "id": "Idt5wfqSvD29",
        "outputId": "b6bc709d-235d-4ade-b50b-71e70d9b2aed"
      },
      "source": [
        "#otimização dos hiper-parâmetros\n",
        "tuned = tune_model(best_model)"
      ],
      "execution_count": null,
      "outputs": [
        {
          "output_type": "display_data",
          "data": {
            "text/html": [
              "<div>\n",
              "<style scoped>\n",
              "    .dataframe tbody tr th:only-of-type {\n",
              "        vertical-align: middle;\n",
              "    }\n",
              "\n",
              "    .dataframe tbody tr th {\n",
              "        vertical-align: top;\n",
              "    }\n",
              "\n",
              "    .dataframe thead th {\n",
              "        text-align: right;\n",
              "    }\n",
              "</style>\n",
              "<table border=\"1\" class=\"dataframe\">\n",
              "  <thead>\n",
              "    <tr style=\"text-align: right;\">\n",
              "      <th></th>\n",
              "      <th>Accuracy</th>\n",
              "      <th>AUC</th>\n",
              "      <th>Recall</th>\n",
              "      <th>Prec.</th>\n",
              "      <th>F1</th>\n",
              "      <th>Kappa</th>\n",
              "      <th>MCC</th>\n",
              "    </tr>\n",
              "  </thead>\n",
              "  <tbody>\n",
              "    <tr>\n",
              "      <th>0</th>\n",
              "      <td>0.9423</td>\n",
              "      <td>0.9750</td>\n",
              "      <td>0.9500</td>\n",
              "      <td>0.9744</td>\n",
              "      <td>0.9620</td>\n",
              "      <td>0.8421</td>\n",
              "      <td>0.8433</td>\n",
              "    </tr>\n",
              "    <tr>\n",
              "      <th>1</th>\n",
              "      <td>0.9231</td>\n",
              "      <td>0.9542</td>\n",
              "      <td>0.9500</td>\n",
              "      <td>0.9500</td>\n",
              "      <td>0.9500</td>\n",
              "      <td>0.7833</td>\n",
              "      <td>0.7833</td>\n",
              "    </tr>\n",
              "    <tr>\n",
              "      <th>2</th>\n",
              "      <td>0.9423</td>\n",
              "      <td>0.9917</td>\n",
              "      <td>0.9250</td>\n",
              "      <td>1.0000</td>\n",
              "      <td>0.9610</td>\n",
              "      <td>0.8506</td>\n",
              "      <td>0.8602</td>\n",
              "    </tr>\n",
              "    <tr>\n",
              "      <th>3</th>\n",
              "      <td>0.9231</td>\n",
              "      <td>0.9083</td>\n",
              "      <td>0.9250</td>\n",
              "      <td>0.9737</td>\n",
              "      <td>0.9487</td>\n",
              "      <td>0.7953</td>\n",
              "      <td>0.7995</td>\n",
              "    </tr>\n",
              "    <tr>\n",
              "      <th>4</th>\n",
              "      <td>0.9423</td>\n",
              "      <td>0.9487</td>\n",
              "      <td>0.9744</td>\n",
              "      <td>0.9500</td>\n",
              "      <td>0.9620</td>\n",
              "      <td>0.8421</td>\n",
              "      <td>0.8433</td>\n",
              "    </tr>\n",
              "    <tr>\n",
              "      <th>5</th>\n",
              "      <td>0.9615</td>\n",
              "      <td>0.9882</td>\n",
              "      <td>0.9487</td>\n",
              "      <td>1.0000</td>\n",
              "      <td>0.9737</td>\n",
              "      <td>0.9024</td>\n",
              "      <td>0.9068</td>\n",
              "    </tr>\n",
              "    <tr>\n",
              "      <th>6</th>\n",
              "      <td>0.8654</td>\n",
              "      <td>0.9546</td>\n",
              "      <td>0.8974</td>\n",
              "      <td>0.9211</td>\n",
              "      <td>0.9091</td>\n",
              "      <td>0.6500</td>\n",
              "      <td>0.6508</td>\n",
              "    </tr>\n",
              "    <tr>\n",
              "      <th>7</th>\n",
              "      <td>0.8846</td>\n",
              "      <td>0.9704</td>\n",
              "      <td>0.8974</td>\n",
              "      <td>0.9459</td>\n",
              "      <td>0.9211</td>\n",
              "      <td>0.7073</td>\n",
              "      <td>0.7107</td>\n",
              "    </tr>\n",
              "    <tr>\n",
              "      <th>8</th>\n",
              "      <td>0.8654</td>\n",
              "      <td>0.9625</td>\n",
              "      <td>0.8462</td>\n",
              "      <td>0.9706</td>\n",
              "      <td>0.9041</td>\n",
              "      <td>0.6818</td>\n",
              "      <td>0.7001</td>\n",
              "    </tr>\n",
              "    <tr>\n",
              "      <th>9</th>\n",
              "      <td>0.9216</td>\n",
              "      <td>0.9808</td>\n",
              "      <td>0.9487</td>\n",
              "      <td>0.9487</td>\n",
              "      <td>0.9487</td>\n",
              "      <td>0.7821</td>\n",
              "      <td>0.7821</td>\n",
              "    </tr>\n",
              "    <tr>\n",
              "      <th>Mean</th>\n",
              "      <td>0.9172</td>\n",
              "      <td>0.9634</td>\n",
              "      <td>0.9263</td>\n",
              "      <td>0.9634</td>\n",
              "      <td>0.9440</td>\n",
              "      <td>0.7837</td>\n",
              "      <td>0.7880</td>\n",
              "    </tr>\n",
              "    <tr>\n",
              "      <th>SD</th>\n",
              "      <td>0.0322</td>\n",
              "      <td>0.0230</td>\n",
              "      <td>0.0354</td>\n",
              "      <td>0.0237</td>\n",
              "      <td>0.0229</td>\n",
              "      <td>0.0772</td>\n",
              "      <td>0.0762</td>\n",
              "    </tr>\n",
              "  </tbody>\n",
              "</table>\n",
              "</div>"
            ],
            "text/plain": [
              "      Accuracy     AUC  Recall   Prec.      F1   Kappa     MCC\n",
              "0       0.9423  0.9750  0.9500  0.9744  0.9620  0.8421  0.8433\n",
              "1       0.9231  0.9542  0.9500  0.9500  0.9500  0.7833  0.7833\n",
              "2       0.9423  0.9917  0.9250  1.0000  0.9610  0.8506  0.8602\n",
              "3       0.9231  0.9083  0.9250  0.9737  0.9487  0.7953  0.7995\n",
              "4       0.9423  0.9487  0.9744  0.9500  0.9620  0.8421  0.8433\n",
              "5       0.9615  0.9882  0.9487  1.0000  0.9737  0.9024  0.9068\n",
              "6       0.8654  0.9546  0.8974  0.9211  0.9091  0.6500  0.6508\n",
              "7       0.8846  0.9704  0.8974  0.9459  0.9211  0.7073  0.7107\n",
              "8       0.8654  0.9625  0.8462  0.9706  0.9041  0.6818  0.7001\n",
              "9       0.9216  0.9808  0.9487  0.9487  0.9487  0.7821  0.7821\n",
              "Mean    0.9172  0.9634  0.9263  0.9634  0.9440  0.7837  0.7880\n",
              "SD      0.0322  0.0230  0.0354  0.0237  0.0229  0.0772  0.0762"
            ]
          },
          "metadata": {}
        }
      ]
    },
    {
      "cell_type": "code",
      "metadata": {
        "colab": {
          "base_uri": "https://localhost:8080/",
          "height": 401
        },
        "id": "SZWGw31mvKM_",
        "outputId": "ac8e69f2-9571-4e5f-8592-7315df7c2eec"
      },
      "source": [
        "#Matriz de Confusão\n",
        "plot_model(tuned, plot='confusion_matrix')"
      ],
      "execution_count": null,
      "outputs": [
        {
          "output_type": "display_data",
          "data": {
            "image/png": "[encoded data removed]",
            "text/plain": [
              "<Figure size 576x396 with 1 Axes>"
            ]
          },
          "metadata": {}
        }
      ]
    },
    {
      "cell_type": "code",
      "metadata": {
        "colab": {
          "base_uri": "https://localhost:8080/",
          "height": 376
        },
        "id": "lRKgRcaIvG7C",
        "outputId": "95f0968d-f1e5-41e9-ccd9-fdbcd448b46a"
      },
      "source": [
        "#Analisando modelos e métricas - Curva ROC\n",
        "plot_model(tuned, plot='auc')"
      ],
      "execution_count": null,
      "outputs": [
        {
          "output_type": "display_data",
          "data": {
            "image/png": "[encoded data removed]",
            "text/plain": [
              "<Figure size 576x396 with 1 Axes>"
            ]
          },
          "metadata": {}
        }
      ]
    },
    {
      "cell_type": "code",
      "metadata": {
        "id": "D0D135xZvMkB"
      },
      "source": [
        "final_model = finalize_model(tuned)"
      ],
      "execution_count": null,
      "outputs": []
    },
    {
      "cell_type": "markdown",
      "metadata": {
        "id": "EB-g2ShQzb_8"
      },
      "source": [
        "##Regressão LOGÍSTICA (scikit learn)\n"
      ]
    },
    {
      "cell_type": "markdown",
      "metadata": {
        "id": "ekty6qJ-5y2F"
      },
      "source": [
        "A variável target: `aprovado` (1 ou 0)"
      ]
    },
    {
      "cell_type": "code",
      "metadata": {
        "id": "Ygk2voZqzfl7",
        "colab": {
          "base_uri": "https://localhost:8080/"
        },
        "outputId": "a2e4e294-00e2-4923-feec-db722c432ba1"
      },
      "source": [
        "#não utilizaremos a variável média para a regressão logística\n",
        "df_RL = df_ohe.drop('media', 1)\n",
        "\n",
        "df_RL['aprovado'].value_counts(normalize=True)"
      ],
      "execution_count": null,
      "outputs": [
        {
          "output_type": "execute_result",
          "data": {
            "text/plain": [
              "1    0.758089\n",
              "0    0.241911\n",
              "Name: aprovado, dtype: float64"
            ]
          },
          "metadata": {},
          "execution_count": 75
        }
      ]
    },
    {
      "cell_type": "markdown",
      "metadata": {
        "id": "z6g7-iiYR16E"
      },
      "source": [
        "A base apresenta um percentual de 75,8% de aprovados e 24,2% de não aprovados "
      ]
    },
    {
      "cell_type": "code",
      "metadata": {
        "id": "pZi8AgwgTe1C"
      },
      "source": [
        "#dropar a variavel target\n",
        "#X_RL = df_RL.drop('aprovado', 1)\n",
        "\n",
        "#Por meio da analise exploratoria, escolheremos as variáveis de \n",
        "#melhor correlação com a variável resposta\n",
        "X_RL = df_RL[\n",
        "    ['age',\n",
        "     'Medu',\n",
        "     'Fedu',\n",
        "     'studytime',\n",
        "     'traveltime',\n",
        "     'failures',\n",
        "     'famrel',\n",
        "     'freetime',\n",
        "     'goout',\n",
        "     'Dalc',\n",
        "     'Walc',\n",
        "     'health',\n",
        "     'absences',\n",
        "     'G3'\n",
        "     ]\n",
        "]\n",
        "\n",
        "y_RL = df_RL['aprovado']"
      ],
      "execution_count": null,
      "outputs": []
    },
    {
      "cell_type": "code",
      "metadata": {
        "id": "H_mVrJf3TpWr"
      },
      "source": [
        "#separar entre treino e teste\n",
        "X_train_RL, X_test_RL, y_train_RL, y_test_RL = train_test_split(X_RL, y_RL, random_state = 1)"
      ],
      "execution_count": null,
      "outputs": []
    },
    {
      "cell_type": "code",
      "metadata": {
        "id": "iTSTkZtTUEIc"
      },
      "source": [
        "#normalização dos dados\n",
        "scaler = StandardScaler()\n",
        "\n",
        "X_train_RL_normalizado = scaler.fit_transform(X_train_RL)\n",
        "X_test_RL_normalizado  = scaler.transform(X_test_RL)"
      ],
      "execution_count": null,
      "outputs": []
    },
    {
      "cell_type": "code",
      "metadata": {
        "colab": {
          "base_uri": "https://localhost:8080/"
        },
        "id": "mPNa4cWuVRio",
        "outputId": "0673d4af-8a23-47ee-fbc6-c4cd060cf662"
      },
      "source": [
        "#treinando o modelo\n",
        "reg_log = LogisticRegression()\n",
        "reg_log.fit(X_train_RL_normalizado, y_train_RL)"
      ],
      "execution_count": null,
      "outputs": [
        {
          "output_type": "execute_result",
          "data": {
            "text/plain": [
              "LogisticRegression(C=1.0, class_weight=None, dual=False, fit_intercept=True,\n",
              "                   intercept_scaling=1, l1_ratio=None, max_iter=100,\n",
              "                   multi_class='auto', n_jobs=None, penalty='l2',\n",
              "                   random_state=None, solver='lbfgs', tol=0.0001, verbose=0,\n",
              "                   warm_start=False)"
            ]
          },
          "metadata": {},
          "execution_count": 79
        }
      ]
    },
    {
      "cell_type": "code",
      "metadata": {
        "colab": {
          "base_uri": "https://localhost:8080/"
        },
        "id": "IjFl2T_ha7KY",
        "outputId": "58005167-8c7d-46df-ae31-60ba484f0fa9"
      },
      "source": [
        "print(\"Intercepto: \",reg_log.intercept_)\n",
        "print(\"Coeficientes: \\n\",reg_log.coef_)"
      ],
      "execution_count": null,
      "outputs": [
        {
          "output_type": "stream",
          "name": "stdout",
          "text": [
            "Intercepto:  [3.46873141]\n",
            "Coeficientes: \n",
            " [[-0.15932486  0.1931894   0.19214224  0.20536058 -0.08752909 -0.25682351\n",
            "  -0.04075136 -0.09244977  0.57527177 -0.02873631 -0.19386714 -0.03356274\n",
            "   0.04549122  5.33811725]]\n"
          ]
        }
      ]
    },
    {
      "cell_type": "code",
      "metadata": {
        "id": "VXk_9Xn_eVrr"
      },
      "source": [
        "#predict e proba\n",
        "y_predict_RL = reg_log.predict(X_test_RL_normalizado)\n",
        "y_proba_RL   = reg_log.predict_proba(X_test_RL_normalizado)[:,1]"
      ],
      "execution_count": null,
      "outputs": []
    },
    {
      "cell_type": "code",
      "metadata": {
        "colab": {
          "base_uri": "https://localhost:8080/",
          "height": 279
        },
        "id": "yYMd3sD2XKcY",
        "outputId": "e86684ad-5d06-4cd3-9ba0-9b406869ce29"
      },
      "source": [
        "#matriz de confusao\n",
        "matriz_confusao = metrics.confusion_matrix(y_test_RL, y_predict_RL)\n",
        "\n",
        "#plotando a matriz de confusão\n",
        "metrics.plot_confusion_matrix(\n",
        "    estimator = reg_log, \n",
        "    X = X_test_RL_normalizado, #previsto\n",
        "    y_true = y_test_RL, #real\n",
        "    cmap = 'Blues', \n",
        "    normalize = 'true'\n",
        ");"
      ],
      "execution_count": null,
      "outputs": [
        {
          "output_type": "display_data",
          "data": {
            "image/png": "[encoded data removed]",
            "text/plain": [
              "<Figure size 432x288 with 2 Axes>"
            ]
          },
          "metadata": {
            "needs_background": "light"
          }
        }
      ]
    },
    {
      "cell_type": "markdown",
      "metadata": {
        "id": "Sgtz0DAfdMua"
      },
      "source": [
        "**Análise da Matriz**\n",
        "\n",
        "True positive (TP) : significa uma classificação correta da classe positive.\n",
        "\n",
        "True negative (TN) : significa uma classificação correta da classe negative\n",
        "\n",
        "False positive (FP) : significa uma classificação errada da classe positive\n",
        "\n",
        "False negative (FN) : significa uma classificação errada da classe negative\n"
      ]
    },
    {
      "cell_type": "code",
      "metadata": {
        "colab": {
          "base_uri": "https://localhost:8080/"
        },
        "id": "qSnaNCB9eEtN",
        "outputId": "b1679d42-7cf7-4d8f-c706-9ea5fc03b79b"
      },
      "source": [
        "TP = matriz_confusao[1][1]\n",
        "TN = matriz_confusao[0][0]\n",
        "FP = matriz_confusao[0][1]\n",
        "FN = matriz_confusao[1][0]\n",
        "\n",
        "print('True Positive: ', TP)\n",
        "print('True Negative: ', TN)\n",
        "print('False Positive: ', FP)\n",
        "print('False Negative: ', FN)"
      ],
      "execution_count": null,
      "outputs": [
        {
          "output_type": "stream",
          "name": "stdout",
          "text": [
            "True Positive:  119\n",
            "True Negative:  29\n",
            "False Positive:  9\n",
            "False Negative:  6\n"
          ]
        }
      ]
    },
    {
      "cell_type": "code",
      "metadata": {
        "id": "ANyjZ_IffupE",
        "colab": {
          "base_uri": "https://localhost:8080/"
        },
        "outputId": "c64c6100-fb45-4054-ea6c-af94ca178e89"
      },
      "source": [
        "#Cálculo da Acurácia - Quantas instâncias o modelo classificou corretamente?\n",
        "acuracia = (TP+TN) / (TP+FP+TN+FN)\n",
        "print(\"Acurácia: \",round(acuracia*100),\"%\")\n",
        "\n",
        "#Cálculo da Especificidade - O quão bom é o modelo em evitar falsos positivos?\n",
        "especificidade = TN / (TN + FP)\n",
        "print(\"Especificidade: \",round(especificidade*100),\"%\")\n",
        "\n",
        "#Cálculo da Sensibilidade/Recall - Com qual frequência o modelo encontrou positivos?\n",
        "sensibilidade = TP / (TP + FN)\n",
        "print(\"Sensibilidade: \",round(sensibilidade*100),\"%\")\n"
      ],
      "execution_count": null,
      "outputs": [
        {
          "output_type": "stream",
          "name": "stdout",
          "text": [
            "Especificidade:  76 %\n",
            "Sensibilidade:  95 %\n",
            "Acurácia:  91 %\n"
          ]
        }
      ]
    },
    {
      "cell_type": "code",
      "metadata": {
        "colab": {
          "base_uri": "https://localhost:8080/",
          "height": 296
        },
        "id": "FozH35hSfRTx",
        "outputId": "7d350634-8bfc-4d03-925b-290ba7e6d437"
      },
      "source": [
        "#Curva ROC\n",
        "metrics.plot_roc_curve(X = X_test_RL_normalizado, y = y_test_RL, estimator=reg_log)"
      ],
      "execution_count": null,
      "outputs": [
        {
          "output_type": "execute_result",
          "data": {
            "text/plain": [
              "<sklearn.metrics._plot.roc_curve.RocCurveDisplay at 0x7fa82ebc5450>"
            ]
          },
          "metadata": {},
          "execution_count": 85
        },
        {
          "output_type": "display_data",
          "data": {
            "image/png": "[encoded data removed]",
            "text/plain": [
              "<Figure size 432x288 with 1 Axes>"
            ]
          },
          "metadata": {
            "needs_background": "light"
          }
        }
      ]
    }
  ]
}
